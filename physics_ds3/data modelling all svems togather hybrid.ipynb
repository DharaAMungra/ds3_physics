{
 "cells": [
  {
   "cell_type": "code",
   "execution_count": 1,
   "metadata": {},
   "outputs": [
    {
     "name": "stderr",
     "output_type": "stream",
     "text": [
      "Using TensorFlow backend.\n"
     ]
    }
   ],
   "source": [
    "import matplotlib.pyplot as plt\n",
    "import numpy as np\n",
    "import pandas as pd\n",
    "import glob\n",
    "from sklearn.model_selection import train_test_split\n",
    "from sklearn.model_selection import cross_val_score\n",
    "from sklearn.model_selection import KFold\n",
    "from sklearn.pipeline import Pipeline\n",
    "from sklearn.preprocessing import MinMaxScaler\n",
    "from sklearn.preprocessing import StandardScaler\n",
    "from keras.models import Sequential\n",
    "from keras.layers import Dense\n",
    "from keras.layers import Dropout\n",
    "from keras.layers import LSTM\n",
    "from keras.wrappers.scikit_learn import KerasRegressor\n",
    "\n",
    "from sklearn.metrics import mean_absolute_error\n",
    "from sklearn.metrics import mean_squared_error"
   ]
  },
  {
   "cell_type": "code",
   "execution_count": 2,
   "metadata": {},
   "outputs": [],
   "source": [
    "group_data=pd.read_csv('data.csv')\n",
    "df=pd.read_csv('data.csv')"
   ]
  },
  {
   "cell_type": "code",
   "execution_count": 3,
   "metadata": {},
   "outputs": [],
   "source": [
    "E = group_data.sdEnergy.unique()\n",
    "lgE = np.log10(E)\n",
    "lgEmin = 18.4\n",
    "lgEmax = 20.1\n",
    "dlgE = 0.1\n",
    "\n",
    "lgECenters = np.arange(lgEmin + dlgE/2., lgEmax, dlgE)\n",
    "ECenters = 10.**lgECenters\n",
    "Counts = np.zeros(len(lgECenters))\n",
    "c=np.zeros(len(lgE))\n",
    "for i in range(0, len(lgE)):\n",
    "    thisLgE = lgE[i]\n",
    "    ibin = int((thisLgE - lgEmin)/dlgE)\n",
    "\n",
    "    if(thisLgE < lgEmin or thisLgE > lgEmax):\n",
    "        print (\"Event energy out of range: lgE =\", thisLgE)\n",
    "        sys.exit()\n",
    "\n",
    "    Counts[ibin] +=1\n",
    "    c[i]=ibin"
   ]
  },
  {
   "cell_type": "code",
   "execution_count": 4,
   "metadata": {},
   "outputs": [
    {
     "name": "stdout",
     "output_type": "stream",
     "text": [
      "training data count 17\n",
      "testing data count 13\n",
      "validation data count 7\n",
      "train data (17, 2263)\n",
      "test data (13, 2263)\n",
      "val data (7, 2263)\n",
      "37\n"
     ]
    }
   ],
   "source": [
    "train_count=[]\n",
    "test_count=[]\n",
    "val_count=[]\n",
    "train=pd.DataFrame()\n",
    "test=pd.DataFrame()\n",
    "val=pd.DataFrame()\n",
    "#group_data=df.copy()\n",
    "for i in range(len(Counts)):\n",
    "    id1=[]\n",
    "    for j in range(len(c)):\n",
    "        if i==c[j]:\n",
    "            id1.append(df.eventId.unique()[j])\n",
    "    if len(id1)>2:\n",
    "        train_id,temp=train_test_split(id1, test_size=0.4, random_state=42)\n",
    "        val_id,test_id=train_test_split(temp, test_size=0.5, random_state=42)\n",
    "\n",
    "        train_temp = group_data.loc[group_data['eventId'].isin(train_id)]\n",
    "        test_temp = group_data.loc[group_data['eventId'].isin(test_id)]\n",
    "        val_temp = group_data.loc[group_data['eventId'].isin(val_id)]\n",
    "\n",
    "        train=train.append(train_temp,ignore_index=True)\n",
    "        test=test.append(test_temp,ignore_index=True)\n",
    "        val=val.append(val_temp,ignore_index=True)\n",
    "        \n",
    "        train_count.append(train_temp.shape[0])\n",
    "        test_count.append(test_temp.shape[0])\n",
    "        val_count.append(val_temp.shape[0])\n",
    "    elif len(id1)==2:\n",
    "        train_id,test_id=train_test_split(id1, test_size=0.5, random_state=42)\n",
    "        #val_id,test_id=train_test_split(temp, test_size=0.5, random_state=42)\n",
    "\n",
    "        train_temp = group_data.loc[group_data['eventId'].isin(train_id)]\n",
    "        test_temp = group_data.loc[group_data['eventId'].isin(test_id)]\n",
    "        #val_temp = group_data.loc[group_data['eventId'].isin(val_id)]\n",
    "\n",
    "        train=train.append(train_temp,ignore_index=True)\n",
    "        test=test.append(test_temp,ignore_index=True)\n",
    "        #val=val.append(val_temp,ignore_index=True)\n",
    "        \n",
    "        train_count.append(train_temp.shape[0])\n",
    "        test_count.append(test_temp.shape[0])\n",
    "        val_count.append(0)\n",
    "    \n",
    "    elif len(id1)==1:\n",
    "        \n",
    "        test_temp = group_data.loc[group_data['eventId'].isin(id1)]\n",
    "        \n",
    "\n",
    "        test=test.append(test_temp,ignore_index=True)\n",
    "        \n",
    "        train_count.append(0)\n",
    "        test_count.append(test_temp.shape[0])\n",
    "        val_count.append(0)\n",
    "    \n",
    "    else:\n",
    "        train_count.append(0)\n",
    "        test_count.append(0)\n",
    "        val_count.append(0)\n",
    "    \n",
    "print('training data count',sum(train_count))\n",
    "print('testing data count',sum(test_count))\n",
    "print('validation data count',sum(val_count))\n",
    "print('train data',train.shape)\n",
    "print('test data',test.shape)\n",
    "print('val data',val.shape)\n",
    "print(sum(train_count)+sum(test_count)+sum(val_count))   \n",
    "\n",
    "assert (sum(train_count)+sum(test_count)+sum(val_count))==group_data.shape[0]\n",
    "train_count = pd.DataFrame(train_count)\n",
    "train_count.to_csv('train_count.csv')\n",
    "\n",
    "test_count = pd.DataFrame(test_count)\n",
    "test_count.to_csv('test_count.csv')\n",
    "\n",
    "val_count = pd.DataFrame(val_count)\n",
    "val_count.to_csv('val_count.csv')\n",
    "\n",
    "df_train=train.drop(columns=[ 'eventId', 'sId', 'sPMT','sTimeSec', 'sTimeNsec',\n",
    "       'sSignalStart', 'sSignalEnd','fdXmaxErr','sVEM','sStatus','sXrel','sYrel','sZrel'])\n",
    "df_test=test.drop(columns=['eventId', 'sId', 'sPMT','sTimeSec', 'sTimeNsec',\n",
    "       'sSignalStart', 'sSignalEnd','fdXmaxErr','sVEM','sStatus','sXrel','sYrel','sZrel'])\n",
    "df_val=val.drop(columns=['eventId', 'sId', 'sPMT','sTimeSec', 'sTimeNsec',\n",
    "       'sSignalStart', 'sSignalEnd','fdXmaxErr','sVEM','sStatus','sXrel','sYrel','sZrel'])\n",
    "df.shape\n",
    "\n",
    "train.to_csv('train.csv')\n",
    "test.to_csv('test.csv')\n",
    "val.to_csv('val.csv')"
   ]
  },
  {
   "cell_type": "code",
   "execution_count": 5,
   "metadata": {},
   "outputs": [
    {
     "name": "stdout",
     "output_type": "stream",
     "text": [
      "457\n"
     ]
    }
   ],
   "source": [
    "print(198+188+71)"
   ]
  },
  {
   "cell_type": "code",
   "execution_count": 6,
   "metadata": {},
   "outputs": [
    {
     "data": {
      "text/plain": [
       "17"
      ]
     },
     "execution_count": 6,
     "metadata": {},
     "output_type": "execute_result"
    }
   ],
   "source": [
    "len(train_count)"
   ]
  },
  {
   "cell_type": "code",
   "execution_count": 7,
   "metadata": {},
   "outputs": [],
   "source": [
    "y_train=np.array(df_train['fdXmax'].to_list())\n",
    "y_train=np.reshape(y_train, (-1,1))\n",
    "X_train=df_train.drop(columns=['fdXmax'])\n",
    "\n",
    "y_test=np.array(df_test['fdXmax'].to_list())\n",
    "y_test=np.reshape(y_test, (-1,1))\n",
    "X_test=df_test.drop(columns=['fdXmax'])\n",
    "\n",
    "y_val=np.array(df_val['fdXmax'].to_list())\n",
    "y_val=np.reshape(y_val, (-1,1))\n",
    "X_val=df_val.drop(columns=['fdXmax'])\n",
    "#X_train, X_test, y_train, y_test = train_test_split(X, y, test_size=0.2, random_state=42)"
   ]
  },
  {
   "cell_type": "code",
   "execution_count": 8,
   "metadata": {},
   "outputs": [
    {
     "data": {
      "text/html": [
       "<div>\n",
       "<style scoped>\n",
       "    .dataframe tbody tr th:only-of-type {\n",
       "        vertical-align: middle;\n",
       "    }\n",
       "\n",
       "    .dataframe tbody tr th {\n",
       "        vertical-align: top;\n",
       "    }\n",
       "\n",
       "    .dataframe thead th {\n",
       "        text-align: right;\n",
       "    }\n",
       "</style>\n",
       "<table border=\"1\" class=\"dataframe\">\n",
       "  <thead>\n",
       "    <tr style=\"text-align: right;\">\n",
       "      <th></th>\n",
       "      <th>sdEnergy</th>\n",
       "      <th>sdEnergyErr</th>\n",
       "      <th>sdZenith</th>\n",
       "      <th>sdZenithErr</th>\n",
       "      <th>sdAzimuth</th>\n",
       "      <th>sdAzimuthErr</th>\n",
       "      <th>sdXpos</th>\n",
       "      <th>sdYpos</th>\n",
       "      <th>sdZpos</th>\n",
       "      <th>sdS1000</th>\n",
       "      <th>...</th>\n",
       "      <th>2222</th>\n",
       "      <th>2223</th>\n",
       "      <th>2224</th>\n",
       "      <th>2225</th>\n",
       "      <th>2226</th>\n",
       "      <th>2227</th>\n",
       "      <th>2228</th>\n",
       "      <th>2229</th>\n",
       "      <th>2230</th>\n",
       "      <th>2231</th>\n",
       "    </tr>\n",
       "  </thead>\n",
       "  <tbody>\n",
       "    <tr>\n",
       "      <th>0</th>\n",
       "      <td>3.600975e+18</td>\n",
       "      <td>2.593796e+17</td>\n",
       "      <td>0.474284</td>\n",
       "      <td>0.007129</td>\n",
       "      <td>4.280367</td>\n",
       "      <td>0.023043</td>\n",
       "      <td>6856.651531</td>\n",
       "      <td>-14488.238926</td>\n",
       "      <td>-41.721123</td>\n",
       "      <td>20.095232</td>\n",
       "      <td>...</td>\n",
       "      <td>0.0</td>\n",
       "      <td>0.0</td>\n",
       "      <td>0.0</td>\n",
       "      <td>0.0</td>\n",
       "      <td>0.0</td>\n",
       "      <td>0.0</td>\n",
       "      <td>0.0</td>\n",
       "      <td>0.0</td>\n",
       "      <td>0.0</td>\n",
       "      <td>0.0</td>\n",
       "    </tr>\n",
       "    <tr>\n",
       "      <th>1</th>\n",
       "      <td>3.485317e+18</td>\n",
       "      <td>5.932678e+17</td>\n",
       "      <td>0.999678</td>\n",
       "      <td>0.006686</td>\n",
       "      <td>4.220127</td>\n",
       "      <td>0.008542</td>\n",
       "      <td>-4072.948623</td>\n",
       "      <td>-6538.437565</td>\n",
       "      <td>-8.128227</td>\n",
       "      <td>10.211523</td>\n",
       "      <td>...</td>\n",
       "      <td>0.0</td>\n",
       "      <td>0.0</td>\n",
       "      <td>0.0</td>\n",
       "      <td>0.0</td>\n",
       "      <td>0.0</td>\n",
       "      <td>0.0</td>\n",
       "      <td>0.0</td>\n",
       "      <td>0.0</td>\n",
       "      <td>0.0</td>\n",
       "      <td>0.0</td>\n",
       "    </tr>\n",
       "    <tr>\n",
       "      <th>2</th>\n",
       "      <td>3.445948e+18</td>\n",
       "      <td>5.166201e+17</td>\n",
       "      <td>0.582423</td>\n",
       "      <td>0.012082</td>\n",
       "      <td>5.977738</td>\n",
       "      <td>0.021586</td>\n",
       "      <td>25922.458807</td>\n",
       "      <td>5633.288666</td>\n",
       "      <td>-98.511341</td>\n",
       "      <td>18.405171</td>\n",
       "      <td>...</td>\n",
       "      <td>0.0</td>\n",
       "      <td>0.0</td>\n",
       "      <td>0.0</td>\n",
       "      <td>0.0</td>\n",
       "      <td>0.0</td>\n",
       "      <td>0.0</td>\n",
       "      <td>0.0</td>\n",
       "      <td>0.0</td>\n",
       "      <td>0.0</td>\n",
       "      <td>0.0</td>\n",
       "    </tr>\n",
       "    <tr>\n",
       "      <th>3</th>\n",
       "      <td>3.299685e+18</td>\n",
       "      <td>2.457104e+17</td>\n",
       "      <td>0.464980</td>\n",
       "      <td>0.014179</td>\n",
       "      <td>1.006157</td>\n",
       "      <td>0.019793</td>\n",
       "      <td>10992.424099</td>\n",
       "      <td>22571.574994</td>\n",
       "      <td>-77.300190</td>\n",
       "      <td>18.780606</td>\n",
       "      <td>...</td>\n",
       "      <td>0.0</td>\n",
       "      <td>0.0</td>\n",
       "      <td>0.0</td>\n",
       "      <td>0.0</td>\n",
       "      <td>0.0</td>\n",
       "      <td>0.0</td>\n",
       "      <td>0.0</td>\n",
       "      <td>0.0</td>\n",
       "      <td>0.0</td>\n",
       "      <td>0.0</td>\n",
       "    </tr>\n",
       "    <tr>\n",
       "      <th>4</th>\n",
       "      <td>3.795948e+18</td>\n",
       "      <td>3.040166e+17</td>\n",
       "      <td>0.637685</td>\n",
       "      <td>0.008842</td>\n",
       "      <td>5.019198</td>\n",
       "      <td>0.008233</td>\n",
       "      <td>-11474.741918</td>\n",
       "      <td>-21851.360587</td>\n",
       "      <td>-58.796975</td>\n",
       "      <td>19.926580</td>\n",
       "      <td>...</td>\n",
       "      <td>0.0</td>\n",
       "      <td>0.0</td>\n",
       "      <td>0.0</td>\n",
       "      <td>0.0</td>\n",
       "      <td>0.0</td>\n",
       "      <td>0.0</td>\n",
       "      <td>0.0</td>\n",
       "      <td>0.0</td>\n",
       "      <td>0.0</td>\n",
       "      <td>0.0</td>\n",
       "    </tr>\n",
       "  </tbody>\n",
       "</table>\n",
       "<p>5 rows × 2249 columns</p>\n",
       "</div>"
      ],
      "text/plain": [
       "       sdEnergy   sdEnergyErr  sdZenith  sdZenithErr  sdAzimuth  sdAzimuthErr  \\\n",
       "0  3.600975e+18  2.593796e+17  0.474284     0.007129   4.280367      0.023043   \n",
       "1  3.485317e+18  5.932678e+17  0.999678     0.006686   4.220127      0.008542   \n",
       "2  3.445948e+18  5.166201e+17  0.582423     0.012082   5.977738      0.021586   \n",
       "3  3.299685e+18  2.457104e+17  0.464980     0.014179   1.006157      0.019793   \n",
       "4  3.795948e+18  3.040166e+17  0.637685     0.008842   5.019198      0.008233   \n",
       "\n",
       "         sdXpos        sdYpos     sdZpos    sdS1000  ...  2222  2223  2224  \\\n",
       "0   6856.651531 -14488.238926 -41.721123  20.095232  ...   0.0   0.0   0.0   \n",
       "1  -4072.948623  -6538.437565  -8.128227  10.211523  ...   0.0   0.0   0.0   \n",
       "2  25922.458807   5633.288666 -98.511341  18.405171  ...   0.0   0.0   0.0   \n",
       "3  10992.424099  22571.574994 -77.300190  18.780606  ...   0.0   0.0   0.0   \n",
       "4 -11474.741918 -21851.360587 -58.796975  19.926580  ...   0.0   0.0   0.0   \n",
       "\n",
       "   2225  2226  2227  2228  2229  2230  2231  \n",
       "0   0.0   0.0   0.0   0.0   0.0   0.0   0.0  \n",
       "1   0.0   0.0   0.0   0.0   0.0   0.0   0.0  \n",
       "2   0.0   0.0   0.0   0.0   0.0   0.0   0.0  \n",
       "3   0.0   0.0   0.0   0.0   0.0   0.0   0.0  \n",
       "4   0.0   0.0   0.0   0.0   0.0   0.0   0.0  \n",
       "\n",
       "[5 rows x 2249 columns]"
      ]
     },
     "execution_count": 8,
     "metadata": {},
     "output_type": "execute_result"
    }
   ],
   "source": [
    "X_train.head()"
   ]
  },
  {
   "cell_type": "code",
   "execution_count": 9,
   "metadata": {},
   "outputs": [],
   "source": [
    "X_train1=X_train.iloc[: ,0:17].copy()\n",
    "X_train2=X_train.iloc[: ,17:].copy()\n",
    "X_test1=X_test.iloc[: ,0:17].copy()\n",
    "X_test2=X_test.iloc[: ,17:].copy()\n",
    "X_val1=X_val.iloc[: ,0:17].copy()\n",
    "X_val2=X_val.iloc[: ,17:].copy()"
   ]
  },
  {
   "cell_type": "code",
   "execution_count": 10,
   "metadata": {},
   "outputs": [
    {
     "data": {
      "text/plain": [
       "Index(['sdEnergy', 'sdEnergyErr', 'sdZenith', 'sdZenithErr', 'sdAzimuth',\n",
       "       'sdAzimuthErr', 'sdXpos', 'sdYpos', 'sdZpos', 'sdS1000',\n",
       "       ...\n",
       "       '2222', '2223', '2224', '2225', '2226', '2227', '2228', '2229', '2230',\n",
       "       '2231'],\n",
       "      dtype='object', length=2249)"
      ]
     },
     "execution_count": 10,
     "metadata": {},
     "output_type": "execute_result"
    }
   ],
   "source": [
    "X_train.columns"
   ]
  },
  {
   "cell_type": "code",
   "execution_count": 11,
   "metadata": {},
   "outputs": [],
   "source": [
    "#y_train=np.array(df_train['fdXmax'].to_list())\n",
    "#y_train=np.reshape(y_train, (-1,1))"
   ]
  },
  {
   "cell_type": "code",
   "execution_count": 12,
   "metadata": {},
   "outputs": [],
   "source": [
    "\n",
    "#X_train, X_test, y_train, y_test = train_test_split(X, y,test_size=0.1)\n"
   ]
  },
  {
   "cell_type": "code",
   "execution_count": 13,
   "metadata": {},
   "outputs": [
    {
     "data": {
      "text/plain": [
       "17"
      ]
     },
     "execution_count": 13,
     "metadata": {},
     "output_type": "execute_result"
    }
   ],
   "source": [
    "y_train.shape[0]"
   ]
  },
  {
   "cell_type": "code",
   "execution_count": 14,
   "metadata": {},
   "outputs": [],
   "source": [
    "scaler_x1 = MinMaxScaler()\n",
    "scaler_x2 = MinMaxScaler()\n",
    "scaler_y = MinMaxScaler()\n",
    "\n",
    "fit_X1=scaler_x1.fit(X_train1)\n",
    "X_train1=fit_X1.transform(X_train1)\n",
    "X_test1=fit_X1.transform(X_test1)\n",
    "X_val1=fit_X1.transform(X_val1)\n",
    "\n",
    "fit_X2=scaler_x2.fit(X_train2)\n",
    "X_train2=fit_X2.transform(X_train2)\n",
    "X_test2=fit_X2.transform(X_test2)\n",
    "X_val2=fit_X2.transform(X_val2)\n",
    "\n",
    "fit_y=scaler_y.fit(y_train)\n",
    "y_train=fit_y.transform(y_train)\n",
    "y_test=fit_y.transform(y_test)\n",
    "y_val=fit_y.transform(y_val)"
   ]
  },
  {
   "cell_type": "code",
   "execution_count": 15,
   "metadata": {},
   "outputs": [],
   "source": [
    "from keras.models import Model\n",
    "from keras.layers import Input\n",
    "from keras.layers import Embedding\n",
    "from keras.layers.merge import add\n",
    "from keras.models import Sequential\n",
    "from keras.layers import Dense\n",
    "from keras.layers import Flatten\n",
    "from keras.layers import Dropout\n",
    "from keras.layers.convolutional import Conv1D\n",
    "from keras.layers.convolutional import MaxPooling1D\n",
    "from keras.utils import to_categorical"
   ]
  },
  {
   "cell_type": "code",
   "execution_count": 16,
   "metadata": {},
   "outputs": [
    {
     "data": {
      "text/plain": [
       "(17, 17)"
      ]
     },
     "execution_count": 16,
     "metadata": {},
     "output_type": "execute_result"
    }
   ],
   "source": [
    "X_train1.shape"
   ]
  },
  {
   "cell_type": "code",
   "execution_count": 17,
   "metadata": {},
   "outputs": [],
   "source": [
    "X_train2 = np.expand_dims(X_train2,2)\n",
    "X_val2 = np.expand_dims(X_val2,2)\n",
    "X_test2 = np.expand_dims(X_test2,2)"
   ]
  },
  {
   "cell_type": "code",
   "execution_count": 58,
   "metadata": {},
   "outputs": [
    {
     "name": "stdout",
     "output_type": "stream",
     "text": [
      "Model: \"model_4\"\n",
      "__________________________________________________________________________________________________\n",
      "Layer (type)                    Output Shape         Param #     Connected to                     \n",
      "==================================================================================================\n",
      "input_8 (InputLayer)            (None, 2232, 1)      0                                            \n",
      "__________________________________________________________________________________________________\n",
      "conv1d_7 (Conv1D)               (None, 2230, 64)     256         input_8[0][0]                    \n",
      "__________________________________________________________________________________________________\n",
      "conv1d_8 (Conv1D)               (None, 2228, 64)     12352       conv1d_7[0][0]                   \n",
      "__________________________________________________________________________________________________\n",
      "max_pooling1d_4 (MaxPooling1D)  (None, 1114, 64)     0           conv1d_8[0][0]                   \n",
      "__________________________________________________________________________________________________\n",
      "input_7 (InputLayer)            (None, 17)           0                                            \n",
      "__________________________________________________________________________________________________\n",
      "flatten_4 (Flatten)             (None, 71296)        0           max_pooling1d_4[0][0]            \n",
      "__________________________________________________________________________________________________\n",
      "dense_13 (Dense)                (None, 256)          4608        input_7[0][0]                    \n",
      "__________________________________________________________________________________________________\n",
      "dense_14 (Dense)                (None, 256)          18252032    flatten_4[0][0]                  \n",
      "__________________________________________________________________________________________________\n",
      "add_4 (Add)                     (None, 256)          0           dense_13[0][0]                   \n",
      "                                                                 dense_14[0][0]                   \n",
      "__________________________________________________________________________________________________\n",
      "dense_15 (Dense)                (None, 256)          65792       add_4[0][0]                      \n",
      "__________________________________________________________________________________________________\n",
      "dense_16 (Dense)                (None, 1)            257         dense_15[0][0]                   \n",
      "==================================================================================================\n",
      "Total params: 18,335,297\n",
      "Trainable params: 18,335,297\n",
      "Non-trainable params: 0\n",
      "__________________________________________________________________________________________________\n"
     ]
    }
   ],
   "source": [
    "import numpy as np\n",
    "#from keras.layers import LSTM\n",
    "np.random.seed(1337)\n",
    "\n",
    "inputs1 = Input(shape=(X_train1.shape[1],))\n",
    "fe1 = Dropout(0.5)(inputs1)\n",
    "fe2 = Dense(256, activation='relu')(inputs1)\n",
    "\n",
    "#model = Sequential()\n",
    "#model.add(Dense(10, input_dim=X_train.shape[1], kernel_initializer='normal', activation='relu'))\n",
    "#model.add(Dense(300, kernel_initializer='normal', activation='relu'))\n",
    "#model.add(Dense(100, kernel_initializer='normal', activation='relu'))\n",
    "#model.add(Dense(30, kernel_initializer='normal', activation='relu'))\n",
    "\n",
    "model = Sequential()\n",
    "inputs2 = Input(shape=(X_train2.shape[1],X_train2.shape[2]))\n",
    "se1=Conv1D(filters=64, kernel_size=3, activation='relu')(inputs2)\n",
    "se2=Conv1D(filters=64, kernel_size=3, activation='relu')(se1)\n",
    "se3 = Dropout(0.5)(se2)\n",
    "se4 = MaxPooling1D(pool_size=2)(se2)\n",
    "se5 = Flatten()(se4)\n",
    "se6 = Dense(256, activation='relu')(se5)\n",
    "\n",
    "\n",
    "decoder1 = add([fe2, se6])\n",
    "decoder2 = Dense(256, activation='relu')(decoder1)\n",
    "outputs = Dense(1, activation='sigmoid')(decoder2)\n",
    "# merge the two input models\n",
    "model = Model(inputs=[inputs1, inputs2], outputs=outputs)\n",
    "\n",
    "\n",
    "#model = Sequential()\n",
    "#model.add(LSTM(50, input_shape=(X_train.shape[1], X_train.shape[2])))\n",
    "#model.add(Dropout(0.2))\n",
    "#model.add(Dense(1))\n",
    "\n",
    "\n",
    "model.summary()"
   ]
  },
  {
   "cell_type": "code",
   "execution_count": 68,
   "metadata": {},
   "outputs": [],
   "source": [
    "model.compile(loss='binary_crossentropy', optimizer='adam', metrics=['mse','mae'])"
   ]
  },
  {
   "cell_type": "code",
   "execution_count": 70,
   "metadata": {},
   "outputs": [
    {
     "name": "stdout",
     "output_type": "stream",
     "text": [
      "Train on 17 samples, validate on 7 samples\n",
      "Epoch 1/50\n",
      " - 1s - loss: 0.6817 - mse: 0.0486 - mae: 0.1597 - val_loss: 0.7107 - val_mse: 0.0387 - val_mae: 0.1689\n",
      "Epoch 2/50\n",
      " - 1s - loss: 0.6528 - mse: 0.0361 - mae: 0.1163 - val_loss: 0.6617 - val_mse: 0.0253 - val_mae: 0.1439\n",
      "Epoch 3/50\n",
      " - 1s - loss: 0.6446 - mse: 0.0319 - mae: 0.1232 - val_loss: 0.7924 - val_mse: 0.0678 - val_mae: 0.1946\n",
      "Epoch 4/50\n",
      " - 1s - loss: 0.6506 - mse: 0.0346 - mae: 0.1447 - val_loss: 0.9159 - val_mse: 0.0834 - val_mae: 0.2022\n",
      "Epoch 5/50\n",
      " - 1s - loss: 0.6582 - mse: 0.0384 - mae: 0.1591 - val_loss: 0.9503 - val_mse: 0.0871 - val_mae: 0.2067\n",
      "Epoch 6/50\n",
      " - 1s - loss: 0.6608 - mse: 0.0396 - mae: 0.1631 - val_loss: 0.9451 - val_mse: 0.0873 - val_mae: 0.2084\n",
      "Epoch 7/50\n",
      " - 1s - loss: 0.6595 - mse: 0.0390 - mae: 0.1613 - val_loss: 0.9100 - val_mse: 0.0845 - val_mae: 0.2075\n",
      "Epoch 8/50\n",
      " - 1s - loss: 0.6555 - mse: 0.0370 - mae: 0.1553 - val_loss: 0.8526 - val_mse: 0.0786 - val_mae: 0.2070\n",
      "Epoch 9/50\n",
      " - 1s - loss: 0.6504 - mse: 0.0345 - mae: 0.1469 - val_loss: 0.7849 - val_mse: 0.0681 - val_mae: 0.2023\n",
      "Epoch 10/50\n",
      " - 1s - loss: 0.6452 - mse: 0.0320 - mae: 0.1362 - val_loss: 0.7195 - val_mse: 0.0505 - val_mae: 0.1878\n",
      "Epoch 11/50\n",
      " - 1s - loss: 0.6409 - mse: 0.0299 - mae: 0.1250 - val_loss: 0.6756 - val_mse: 0.0320 - val_mae: 0.1612\n",
      "Epoch 12/50\n",
      " - 1s - loss: 0.6380 - mse: 0.0286 - mae: 0.1172 - val_loss: 0.6652 - val_mse: 0.0267 - val_mae: 0.1340\n",
      "Epoch 13/50\n",
      " - 1s - loss: 0.6367 - mse: 0.0281 - mae: 0.1099 - val_loss: 0.6816 - val_mse: 0.0329 - val_mae: 0.1589\n",
      "Epoch 14/50\n",
      " - 1s - loss: 0.6364 - mse: 0.0281 - mae: 0.1070 - val_loss: 0.7052 - val_mse: 0.0395 - val_mae: 0.1726\n",
      "Epoch 15/50\n",
      " - 1s - loss: 0.6355 - mse: 0.0277 - mae: 0.1054 - val_loss: 0.7189 - val_mse: 0.0424 - val_mae: 0.1785\n",
      "Epoch 16/50\n",
      " - 1s - loss: 0.6334 - mse: 0.0267 - mae: 0.1041 - val_loss: 0.7217 - val_mse: 0.0432 - val_mae: 0.1812\n",
      "Epoch 17/50\n",
      " - 1s - loss: 0.6305 - mse: 0.0252 - mae: 0.1021 - val_loss: 0.7175 - val_mse: 0.0428 - val_mae: 0.1822\n",
      "Epoch 18/50\n",
      " - 1s - loss: 0.6276 - mse: 0.0238 - mae: 0.1006 - val_loss: 0.7137 - val_mse: 0.0426 - val_mae: 0.1830\n",
      "Epoch 19/50\n",
      " - 1s - loss: 0.6249 - mse: 0.0225 - mae: 0.0988 - val_loss: 0.7042 - val_mse: 0.0412 - val_mae: 0.1810\n",
      "Epoch 20/50\n",
      " - 1s - loss: 0.6225 - mse: 0.0213 - mae: 0.0982 - val_loss: 0.6979 - val_mse: 0.0401 - val_mae: 0.1785\n",
      "Epoch 21/50\n",
      " - 1s - loss: 0.6202 - mse: 0.0202 - mae: 0.0975 - val_loss: 0.6981 - val_mse: 0.0407 - val_mae: 0.1793\n",
      "Epoch 22/50\n",
      " - 1s - loss: 0.6175 - mse: 0.0189 - mae: 0.0947 - val_loss: 0.7016 - val_mse: 0.0420 - val_mae: 0.1823\n",
      "Epoch 23/50\n",
      " - 1s - loss: 0.6143 - mse: 0.0175 - mae: 0.0901 - val_loss: 0.7089 - val_mse: 0.0442 - val_mae: 0.1871\n",
      "Epoch 24/50\n",
      " - 1s - loss: 0.6111 - mse: 0.0161 - mae: 0.0844 - val_loss: 0.7176 - val_mse: 0.0466 - val_mae: 0.1915\n",
      "Epoch 25/50\n",
      " - 1s - loss: 0.6079 - mse: 0.0148 - mae: 0.0811 - val_loss: 0.7221 - val_mse: 0.0480 - val_mae: 0.1940\n",
      "Epoch 26/50\n",
      " - 1s - loss: 0.6046 - mse: 0.0134 - mae: 0.0787 - val_loss: 0.7207 - val_mse: 0.0481 - val_mae: 0.1943\n",
      "Epoch 27/50\n",
      " - 1s - loss: 0.6011 - mse: 0.0120 - mae: 0.0747 - val_loss: 0.7172 - val_mse: 0.0476 - val_mae: 0.1933\n",
      "Epoch 28/50\n",
      " - 1s - loss: 0.5977 - mse: 0.0106 - mae: 0.0698 - val_loss: 0.7133 - val_mse: 0.0470 - val_mae: 0.1916\n",
      "Epoch 29/50\n",
      " - 1s - loss: 0.5943 - mse: 0.0093 - mae: 0.0650 - val_loss: 0.7165 - val_mse: 0.0480 - val_mae: 0.1937\n",
      "Epoch 30/50\n",
      " - 1s - loss: 0.5909 - mse: 0.0080 - mae: 0.0616 - val_loss: 0.7266 - val_mse: 0.0506 - val_mae: 0.1985\n",
      "Epoch 31/50\n",
      " - 1s - loss: 0.5874 - mse: 0.0068 - mae: 0.0589 - val_loss: 0.7341 - val_mse: 0.0521 - val_mae: 0.2010\n",
      "Epoch 32/50\n",
      " - 1s - loss: 0.5841 - mse: 0.0058 - mae: 0.0563 - val_loss: 0.7290 - val_mse: 0.0510 - val_mae: 0.1990\n",
      "Epoch 33/50\n",
      " - 1s - loss: 0.5805 - mse: 0.0045 - mae: 0.0501 - val_loss: 0.7198 - val_mse: 0.0489 - val_mae: 0.1943\n",
      "Epoch 34/50\n",
      " - 1s - loss: 0.5773 - mse: 0.0035 - mae: 0.0432 - val_loss: 0.7287 - val_mse: 0.0507 - val_mae: 0.1985\n",
      "Epoch 35/50\n",
      " - 1s - loss: 0.5743 - mse: 0.0027 - mae: 0.0371 - val_loss: 0.7579 - val_mse: 0.0554 - val_mae: 0.2102\n",
      "Epoch 36/50\n",
      " - 1s - loss: 0.5717 - mse: 0.0021 - mae: 0.0338 - val_loss: 0.7708 - val_mse: 0.0569 - val_mae: 0.2125\n",
      "Epoch 37/50\n",
      " - 1s - loss: 0.5694 - mse: 0.0015 - mae: 0.0280 - val_loss: 0.7638 - val_mse: 0.0559 - val_mae: 0.2087\n",
      "Epoch 38/50\n",
      " - 1s - loss: 0.5679 - mse: 0.0013 - mae: 0.0243 - val_loss: 0.7942 - val_mse: 0.0588 - val_mae: 0.2164\n",
      "Epoch 39/50\n",
      " - 1s - loss: 0.5666 - mse: 0.0011 - mae: 0.0266 - val_loss: 0.7835 - val_mse: 0.0574 - val_mae: 0.2133\n",
      "Epoch 40/50\n",
      " - 1s - loss: 0.5656 - mse: 0.0011 - mae: 0.0276 - val_loss: 0.7771 - val_mse: 0.0567 - val_mae: 0.2107\n",
      "Epoch 41/50\n",
      " - 1s - loss: 0.5651 - mse: 0.0012 - mae: 0.0297 - val_loss: 0.8305 - val_mse: 0.0618 - val_mae: 0.2209\n",
      "Epoch 42/50\n",
      " - 1s - loss: 0.5649 - mse: 0.0013 - mae: 0.0326 - val_loss: 0.7924 - val_mse: 0.0586 - val_mae: 0.2108\n",
      "Epoch 43/50\n",
      " - 1s - loss: 0.5647 - mse: 0.0017 - mae: 0.0315 - val_loss: 0.8603 - val_mse: 0.0639 - val_mae: 0.2235\n",
      "Epoch 44/50\n",
      " - 1s - loss: 0.5639 - mse: 0.0014 - mae: 0.0333 - val_loss: 0.8371 - val_mse: 0.0625 - val_mae: 0.2195\n",
      "Epoch 45/50\n",
      " - 1s - loss: 0.5631 - mse: 0.0013 - mae: 0.0291 - val_loss: 0.8199 - val_mse: 0.0617 - val_mae: 0.2174\n",
      "Epoch 46/50\n",
      " - 1s - loss: 0.5625 - mse: 0.0012 - mae: 0.0272 - val_loss: 0.8635 - val_mse: 0.0651 - val_mae: 0.2270\n",
      "Epoch 47/50\n",
      " - 1s - loss: 0.5623 - mse: 0.0011 - mae: 0.0288 - val_loss: 0.8012 - val_mse: 0.0621 - val_mae: 0.2139\n",
      "Epoch 48/50\n",
      " - 1s - loss: 0.5623 - mse: 0.0014 - mae: 0.0299 - val_loss: 0.8898 - val_mse: 0.0674 - val_mae: 0.2312\n",
      "Epoch 49/50\n",
      " - 1s - loss: 0.5613 - mse: 8.5036e-04 - mae: 0.0262 - val_loss: 0.8638 - val_mse: 0.0670 - val_mae: 0.2260\n",
      "Epoch 50/50\n",
      " - 1s - loss: 0.5599 - mse: 3.9996e-04 - mae: 0.0157 - val_loss: 0.8472 - val_mse: 0.0678 - val_mae: 0.2232\n"
     ]
    }
   ],
   "source": [
    "history=model.fit([X_train1, X_train2], y_train, epochs=50, verbose=2,  validation_data=([X_val1, X_val2], y_val),shuffle=False)"
   ]
  },
  {
   "cell_type": "code",
   "execution_count": 71,
   "metadata": {},
   "outputs": [
    {
     "name": "stdout",
     "output_type": "stream",
     "text": [
      "dict_keys(['val_loss', 'val_mse', 'val_mae', 'loss', 'mse', 'mae'])\n"
     ]
    },
    {
     "data": {
      "image/png": "[encoded data removed]",
      "text/plain": [
       "<Figure size 432x288 with 1 Axes>"
      ]
     },
     "metadata": {
      "needs_background": "light"
     },
     "output_type": "display_data"
    }
   ],
   "source": [
    "print(history.history.keys())\n",
    "# \"Loss\"\n",
    "plt.plot(history.history['loss'])\n",
    "plt.plot(history.history['val_loss'])\n",
    "plt.title('model loss')\n",
    "plt.ylabel('loss')\n",
    "plt.xlabel('epoch')\n",
    "plt.legend(['train', 'validation'], loc='upper left')\n",
    "plt.savefig(\"model_loss.png\")\n",
    "plt.show()"
   ]
  },
  {
   "cell_type": "code",
   "execution_count": 72,
   "metadata": {},
   "outputs": [],
   "source": [
    "y_pred= model.predict([X_test1, X_test2])"
   ]
  },
  {
   "cell_type": "code",
   "execution_count": 73,
   "metadata": {},
   "outputs": [
    {
     "data": {
      "text/plain": [
       "(13, 1)"
      ]
     },
     "execution_count": 73,
     "metadata": {},
     "output_type": "execute_result"
    }
   ],
   "source": [
    "y_pred.shape"
   ]
  },
  {
   "cell_type": "code",
   "execution_count": 74,
   "metadata": {},
   "outputs": [
    {
     "name": "stdout",
     "output_type": "stream",
     "text": [
      "normal mse 0.3962104395740978\n",
      "normal mae 0.31909388386460846\n"
     ]
    }
   ],
   "source": [
    "from sklearn.metrics import mean_squared_error\n",
    "from math import sqrt\n",
    "print('normal mse',sqrt(mean_squared_error(y_test, y_pred)))\n",
    "print('normal mae',mean_absolute_error(y_test, y_pred))"
   ]
  },
  {
   "cell_type": "code",
   "execution_count": null,
   "metadata": {},
   "outputs": [],
   "source": []
  },
  {
   "cell_type": "code",
   "execution_count": 75,
   "metadata": {},
   "outputs": [],
   "source": [
    "y_test.shape\n",
    "y_test=np.reshape(y_test, (y_test.shape[0],1))\n",
    "y_pred=np.reshape(y_pred, (y_test.shape[0],1))\n",
    "y_test_normalized=scaler_y.inverse_transform(y_test)\n",
    "y_pred_normalized=scaler_y.inverse_transform(y_pred)\n",
    "y_test=np.reshape(y_test, (y_test.shape[0],))\n",
    "y_pred=np.reshape(y_pred, (y_test.shape[0],))\n",
    "y_test_normalized=np.reshape(y_test_normalized, (y_test.shape[0],))\n",
    "y_pred_normalized=np.reshape(y_pred_normalized, (y_test.shape[0],))"
   ]
  },
  {
   "cell_type": "code",
   "execution_count": 76,
   "metadata": {},
   "outputs": [
    {
     "name": "stdout",
     "output_type": "stream",
     "text": [
      "mse 190.78641752298773\n"
     ]
    }
   ],
   "source": [
    "print('mse',sqrt(mean_squared_error(y_test_normalized, y_pred_normalized)))"
   ]
  },
  {
   "cell_type": "code",
   "execution_count": 77,
   "metadata": {},
   "outputs": [
    {
     "name": "stdout",
     "output_type": "stream",
     "text": [
      "mae 153.65262706212678\n"
     ]
    }
   ],
   "source": [
    "print('mae',mean_absolute_error(y_test_normalized, y_pred_normalized))"
   ]
  },
  {
   "cell_type": "code",
   "execution_count": 46,
   "metadata": {},
   "outputs": [],
   "source": [
    "df_result=pd.DataFrame()\n",
    "\n",
    "df_result['Normalized True Value']=y_test\n",
    "df_result['Normalized Predicted Value']=y_pred\n",
    "df_result['True Value']=y_test_normalized\n",
    "df_result['Predicted Value']=y_pred_normalized\n",
    "\n",
    "df_result.to_csv('results.csv')"
   ]
  },
  {
   "cell_type": "code",
   "execution_count": 47,
   "metadata": {},
   "outputs": [
    {
     "data": {
      "image/png": "[encoded data removed]",
      "text/plain": [
       "<Figure size 1152x720 with 1 Axes>"
      ]
     },
     "metadata": {
      "needs_background": "light"
     },
     "output_type": "display_data"
    }
   ],
   "source": [
    "df1 = df_result[['True Value','Predicted Value']]\n",
    "df1.plot(kind='bar',figsize=(16,10))\n",
    "plt.grid(which='major', linestyle='-', linewidth='0.5', color='green')\n",
    "plt.grid(which='minor', linestyle=':', linewidth='0.5', color='black')\n",
    "plt.show()"
   ]
  },
  {
   "cell_type": "code",
   "execution_count": 38,
   "metadata": {},
   "outputs": [],
   "source": [
    "test.to_csv('test.csv')"
   ]
  },
  {
   "cell_type": "code",
   "execution_count": 54,
   "metadata": {},
   "outputs": [
    {
     "data": {
      "image/png": "[encoded data removed]",
      "text/plain": [
       "<Figure size 432x288 with 1 Axes>"
      ]
     },
     "metadata": {
      "needs_background": "light"
     },
     "output_type": "display_data"
    }
   ],
   "source": [
    "_, ax = plt.subplots()\n",
    "x = [ 400, 500, 600, 700,800,900]\n",
    "y = [400, 500, 600, 700,800,900]\n",
    "ax.scatter(x = df_result['True Value'], y=df_result['Predicted Value'], c = 'blue', label = 'Actual', alpha = 0.3)\n",
    "#ax.scatter(x = range(0, y_pred.size), y=y_pred, c = 'red', label = 'Predicted', alpha = 0.3)\n",
    "plt.plot(x,y)\n",
    "plt.title('Actual and predicted values')\n",
    "plt.xlabel('True')\n",
    "plt.ylabel('Predicted')\n",
    "plt.legend()\n",
    "plt.savefig(\"actual_vs_predicted.png\")\n",
    "plt.show()\n"
   ]
  },
  {
   "cell_type": "code",
   "execution_count": 40,
   "metadata": {},
   "outputs": [
    {
     "data": {
      "image/png": "[encoded data removed]",
      "text/plain": [
       "<Figure size 432x288 with 1 Axes>"
      ]
     },
     "metadata": {
      "needs_background": "light"
     },
     "output_type": "display_data"
    }
   ],
   "source": [
    "diff = df_result['True Value'] - df_result['Predicted Value']\n",
    "diff.hist(bins = 40)\n",
    "plt.title('Histogram of prediction errors')\n",
    "plt.xlabel('MPG prediction error')\n",
    "plt.ylabel('Frequency')\n",
    "plt.savefig('prediction_histogram.png')"
   ]
  },
  {
   "cell_type": "code",
   "execution_count": 55,
   "metadata": {},
   "outputs": [
    {
     "data": {
      "image/png": "[encoded data removed]",
      "text/plain": [
       "<Figure size 432x288 with 1 Axes>"
      ]
     },
     "metadata": {
      "needs_background": "light"
     },
     "output_type": "display_data"
    }
   ],
   "source": [
    "_, ax = plt.subplots()\n",
    "\n",
    "ax.scatter(x = range(0, y_test.size), y=y_test, c = 'blue', label = 'Actual', alpha = 0.3)\n",
    "ax.scatter(x = range(0, y_pred.size), y=y_pred, c = 'red', label = 'Predicted', alpha = 0.3)\n",
    "\n",
    "plt.title('Actual and predicted values')\n",
    "plt.xlabel('Observations')\n",
    "plt.ylabel('xmax')\n",
    "plt.legend()\n",
    "plt.savefig(\"xmax_vs_observation.png\")\n",
    "plt.show()\n"
   ]
  },
  {
   "cell_type": "code",
   "execution_count": null,
   "metadata": {},
   "outputs": [],
   "source": [
    "# partial caption sequence model\n",
    "inputs2 = Input(shape=(X_train2.shape[1],))\n",
    "se1 = Embedding(X_train2.shape[0], 256, mask_zero=True)(inputs2)\n",
    "se2 = Dropout(0.5)(se1)\n",
    "se3 = LSTM(256)(se2)\n",
    "\n",
    "# decoder (feed forward) model\n",
    "decoder1 = add([fe2, se3])\n",
    "decoder2 = Dense(256, activation='relu')(decoder1)"
   ]
  }
 ],
 "metadata": {
  "kernelspec": {
   "display_name": "Python 3",
   "language": "python",
   "name": "python3"
  },
  "language_info": {
   "codemirror_mode": {
    "name": "ipython",
    "version": 3
   },
   "file_extension": ".py",
   "mimetype": "text/x-python",
   "name": "python",
   "nbconvert_exporter": "python",
   "pygments_lexer": "ipython3",
   "version": "3.7.7"
  }
 },
 "nbformat": 4,
 "nbformat_minor": 4
}
