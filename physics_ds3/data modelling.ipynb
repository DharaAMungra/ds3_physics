{
 "cells": [
  {
   "cell_type": "code",
   "execution_count": 73,
   "metadata": {},
   "outputs": [],
   "source": [
    "import matplotlib.pyplot as plt\n",
    "import numpy as np\n",
    "import pandas as pd\n",
    "import glob\n",
    "from sklearn.model_selection import train_test_split\n",
    "from sklearn.model_selection import cross_val_score\n",
    "from sklearn.model_selection import KFold\n",
    "from sklearn.pipeline import Pipeline\n",
    "from sklearn.preprocessing import MinMaxScaler\n",
    "from sklearn.preprocessing import StandardScaler\n",
    "from tensorflow.python.keras.models import Sequential\n",
    "from tensorflow.python.keras.layers import Dense\n",
    "from tensorflow.python.keras.wrappers.scikit_learn import KerasRegressor\n",
    "\n",
    "from sklearn.metrics import mean_absolute_error\n",
    "from sklearn.metrics import mean_squared_error"
   ]
  },
  {
   "cell_type": "code",
   "execution_count": 2,
   "metadata": {},
   "outputs": [
    {
     "name": "stdout",
     "output_type": "stream",
     "text": [
      "Empty DataFrame\n",
      "Columns: []\n",
      "Index: []\n"
     ]
    },
    {
     "name": "stderr",
     "output_type": "stream",
     "text": [
      "/home/dell/anaconda3/lib/python3.7/site-packages/ipykernel_launcher.py:13: SettingWithCopyWarning: \n",
      "A value is trying to be set on a copy of a slice from a DataFrame\n",
      "\n",
      "See the caveats in the documentation: https://pandas.pydata.org/pandas-docs/stable/user_guide/indexing.html#returning-a-view-versus-a-copy\n",
      "  del sys.path[0]\n"
     ]
    },
    {
     "data": {
      "text/plain": [
       "(1371, 32)"
      ]
     },
     "execution_count": 2,
     "metadata": {},
     "output_type": "execute_result"
    }
   ],
   "source": [
    "files=[]\n",
    "df1=pd.DataFrame()\n",
    "print(df1.head())\n",
    "for filename in glob.glob(\"*.txt\"):\n",
    "    df_temp=pd.read_csv(filename, sep=\" \")\n",
    "    df_temp['sVEM'] = df_temp['sVEM'].str.strip('[]').str.split(',')\n",
    "    for i, row_value in df_temp['sVEM'].iteritems():\n",
    "    \n",
    "        try:\n",
    "            #print(len(df['sVEM'][i]))\n",
    "            if len(df_temp['sVEM'][i])>1:\n",
    "\n",
    "                df_temp['sVEM'][i] = [float(i) for i in df_temp['sVEM'][i]] \n",
    "        except ValueError:\n",
    "            print (\"error\",\"on line\",i)\n",
    "    df1=df1.append(df_temp,ignore_index=True)\n",
    "df1.shape    "
   ]
  },
  {
   "cell_type": "code",
   "execution_count": 3,
   "metadata": {},
   "outputs": [
    {
     "data": {
      "text/plain": [
       "Index(['Unnamed: 0', 'eventId', 'sId', 'sPMT', 'sStatus', 'sXrel', 'sYrel',\n",
       "       'sZrel', 'sdEnergy', 'sdEnergyErr', 'sdZenith', 'sdZenithErr',\n",
       "       'sdAzimuth', 'sdAzimuthErr', 'sdXpos', 'sdYpos', 'sdZpos', 'sdS1000',\n",
       "       'sdS1000Err', 'sdRopt', 'sdRoptErr', 'sdBeta', 'sdBetaErr', 'sdGamma',\n",
       "       'sdGammaErr', 'fdXmax', 'fdXmaxErr', 'sTimeSec', 'sTimeNsec',\n",
       "       'sSignalStart', 'sSignalEnd', 'sVEM'],\n",
       "      dtype='object')"
      ]
     },
     "execution_count": 3,
     "metadata": {},
     "output_type": "execute_result"
    }
   ],
   "source": [
    "df1.columns"
   ]
  },
  {
   "cell_type": "code",
   "execution_count": 4,
   "metadata": {},
   "outputs": [
    {
     "data": {
      "text/plain": [
       "(1371, 768)"
      ]
     },
     "execution_count": 4,
     "metadata": {},
     "output_type": "execute_result"
    }
   ],
   "source": [
    "df2=pd.DataFrame(df1['sVEM'].to_list())\n",
    "df2.shape"
   ]
  },
  {
   "cell_type": "code",
   "execution_count": 5,
   "metadata": {},
   "outputs": [
    {
     "data": {
      "text/plain": [
       "(1371, 800)"
      ]
     },
     "execution_count": 5,
     "metadata": {},
     "output_type": "execute_result"
    }
   ],
   "source": [
    "df=pd.concat([df1, df2], axis=1)\n",
    "df.shape"
   ]
  },
  {
   "cell_type": "code",
   "execution_count": 6,
   "metadata": {},
   "outputs": [
    {
     "data": {
      "text/plain": [
       "(457, 798)"
      ]
     },
     "execution_count": 6,
     "metadata": {},
     "output_type": "execute_result"
    }
   ],
   "source": [
    "group_data = df.groupby(['eventId','sId'], as_index=False).mean()\n",
    "group_data.shape"
   ]
  },
  {
   "cell_type": "code",
   "execution_count": 7,
   "metadata": {},
   "outputs": [
    {
     "data": {
      "text/plain": [
       "(457, 790)"
      ]
     },
     "execution_count": 7,
     "metadata": {},
     "output_type": "execute_result"
    }
   ],
   "source": [
    "df=group_data.drop(columns=['Unnamed: 0', 'eventId', 'sId', 'sPMT','sTimeSec', 'sTimeNsec',\n",
    "       'sSignalStart', 'sSignalEnd'])\n",
    "df.shape"
   ]
  },
  {
   "cell_type": "code",
   "execution_count": 21,
   "metadata": {},
   "outputs": [],
   "source": [
    "y=df['fdXmax']\n",
    "X=df.drop(columns=['fdXmax'])\n",
    "#X_train, X_test, y_train, y_test = train_test_split(X, y, test_size=0.2, random_state=42)"
   ]
  },
  {
   "cell_type": "code",
   "execution_count": 11,
   "metadata": {},
   "outputs": [
    {
     "name": "stdout",
     "output_type": "stream",
     "text": [
      "Standardized: -75345.76 (102121.68) MSE\n"
     ]
    }
   ],
   "source": [
    "def baseline_model():\n",
    "    # create model\n",
    "    model = Sequential()\n",
    "    model.add(Dense(100, input_dim=789, kernel_initializer='normal', activation='relu'))\n",
    "    model.add(Dense(6, kernel_initializer='normal', activation='relu'))\n",
    "    model.add(Dense(1, kernel_initializer='normal'))\n",
    "    # Compile model\n",
    "    model.compile(loss='mean_squared_error', optimizer='adam')\n",
    "    return model\n",
    "# evaluate model with standardized dataset\n",
    "estimators = []\n",
    "estimators.append(('standardize', StandardScaler()))\n",
    "estimators.append(('mlp', KerasRegressor(build_fn=baseline_model, epochs=50, batch_size=5, verbose=0)))\n",
    "pipeline = Pipeline(estimators)\n",
    "kfold = KFold(n_splits=10)\n",
    "results = cross_val_score(pipeline, X, y, cv=kfold)\n",
    "print(\"Standardized: %.2f (%.2f) MSE\" % (results.mean(), results.std()))"
   ]
  },
  {
   "cell_type": "code",
   "execution_count": 13,
   "metadata": {},
   "outputs": [
    {
     "name": "stdout",
     "output_type": "stream",
     "text": [
      "Standardized: -60138.37 (66579.68) MSE\n"
     ]
    }
   ],
   "source": [
    "def baseline_model():\n",
    "    # create model\n",
    "    model = Sequential()\n",
    "    model.add(Dense(1500, input_dim=789, kernel_initializer='normal', activation='relu'))\n",
    "    #model.add(Dense(1000, kernel_initializer='normal', activation='relu'))\n",
    "    #model.add(Dense(600, kernel_initializer='normal', activation='relu'))\n",
    "    #model.add(Dense(300, kernel_initializer='normal', activation='relu'))\n",
    "    model.add(Dense(60, kernel_initializer='normal', activation='relu'))\n",
    "    model.add(Dense(6, kernel_initializer='normal', activation='relu'))\n",
    "    model.add(Dense(1, kernel_initializer='normal'))\n",
    "    # Compile model\n",
    "    model.compile(loss='mean_squared_error', optimizer='adam')\n",
    "    return model\n",
    "# evaluate model with standardized dataset\n",
    "estimators = []\n",
    "estimators.append(('standardize', StandardScaler()))\n",
    "estimators.append(('mlp', KerasRegressor(build_fn=baseline_model, epochs=50, batch_size=5, verbose=0)))\n",
    "pipeline = Pipeline(estimators)\n",
    "kfold = KFold(n_splits=10)\n",
    "results = cross_val_score(pipeline, X, y, cv=kfold)\n",
    "print(\"Standardized: %.2f (%.2f) MSE\" % (results.mean(), results.std()))"
   ]
  },
  {
   "cell_type": "code",
   "execution_count": 14,
   "metadata": {},
   "outputs": [
    {
     "name": "stdout",
     "output_type": "stream",
     "text": [
      "Standardized: -58881.63 (68860.44) MSE\n"
     ]
    }
   ],
   "source": [
    "def baseline_model():\n",
    "    # create model\n",
    "    model = Sequential()\n",
    "    model.add(Dense(1500, input_dim=789, kernel_initializer='normal', activation='relu'))\n",
    "    #model.add(Dense(1000, kernel_initializer='normal', activation='relu'))\n",
    "    #model.add(Dense(600, kernel_initializer='normal', activation='relu'))\n",
    "    model.add(Dense(300, kernel_initializer='normal', activation='relu'))\n",
    "    model.add(Dense(60, kernel_initializer='normal', activation='relu'))\n",
    "    #model.add(Dense(6, kernel_initializer='normal', activation='relu'))\n",
    "    model.add(Dense(1, kernel_initializer='normal'))\n",
    "    # Compile model\n",
    "    model.compile(loss='mean_squared_error', optimizer='adam')\n",
    "    return model\n",
    "# evaluate model with standardized dataset\n",
    "estimators = []\n",
    "estimators.append(('standardize', StandardScaler()))\n",
    "estimators.append(('mlp', KerasRegressor(build_fn=baseline_model, epochs=50, batch_size=5, verbose=0)))\n",
    "pipeline = Pipeline(estimators)\n",
    "kfold = KFold(n_splits=10)\n",
    "results = cross_val_score(pipeline, X, y, cv=kfold)\n",
    "print(\"Standardized: %.2f (%.2f) MSE\" % (results.mean(), results.std()))"
   ]
  },
  {
   "cell_type": "code",
   "execution_count": 18,
   "metadata": {},
   "outputs": [
    {
     "name": "stdout",
     "output_type": "stream",
     "text": [
      "Standardized: -50321.96 (46526.19) MSE\n"
     ]
    }
   ],
   "source": [
    "def baseline_model():\n",
    "    # create model\n",
    "    model = Sequential()\n",
    "    model.add(Dense(1500, input_dim=789, kernel_initializer='normal', activation='relu'))\n",
    "    model.add(Dense(600, kernel_initializer='normal', activation='relu'))\n",
    "    #model.add(Dense(300, kernel_initializer='normal', activation='relu'))\n",
    "    model.add(Dense(100, kernel_initializer='normal', activation='relu'))\n",
    "    #model.add(Dense(6, kernel_initializer='normal', activation='relu'))\n",
    "    model.add(Dense(1, kernel_initializer='normal'))\n",
    "    # Compile model\n",
    "    model.compile(loss='mean_squared_error', optimizer='adam')\n",
    "    return model\n",
    "# evaluate model with standardized dataset\n",
    "estimators = []\n",
    "estimators.append(('standardize', StandardScaler()))\n",
    "estimators.append(('mlp', KerasRegressor(build_fn=baseline_model, epochs=50, batch_size=5, verbose=0)))\n",
    "pipeline = Pipeline(estimators)\n",
    "kfold = KFold(n_splits=10)\n",
    "results = cross_val_score(pipeline, X, y, cv=kfold)\n",
    "print(\"Standardized: %.2f (%.2f) MSE\" % (results.mean(), results.std()))"
   ]
  },
  {
   "cell_type": "code",
   "execution_count": 35,
   "metadata": {},
   "outputs": [],
   "source": [
    "y=np.array(df['fdXmax'].to_list())\n",
    "y=np.reshape(y, (-1,1))"
   ]
  },
  {
   "cell_type": "code",
   "execution_count": 36,
   "metadata": {},
   "outputs": [],
   "source": [
    "\n",
    "X_train, X_test, y_train, y_test = train_test_split(X, y,test_size=0.1)\n"
   ]
  },
  {
   "cell_type": "code",
   "execution_count": 37,
   "metadata": {},
   "outputs": [
    {
     "data": {
      "text/plain": [
       "411"
      ]
     },
     "execution_count": 37,
     "metadata": {},
     "output_type": "execute_result"
    }
   ],
   "source": [
    "y_train.shape[0]"
   ]
  },
  {
   "cell_type": "code",
   "execution_count": 38,
   "metadata": {},
   "outputs": [],
   "source": [
    "scaler_x = MinMaxScaler()\n",
    "scaler_y = MinMaxScaler()\n",
    "fit_X=scaler_x.fit(X_train)\n",
    "X_train=fit_X.transform(X_train)\n",
    "X_test=fit_X.transform(X_test)\n",
    "fit_y=scaler_y.fit(y_train)\n",
    "y_train=fit_y.transform(y_train)\n",
    "y_test=fit_y.transform(y_test)"
   ]
  },
  {
   "cell_type": "code",
   "execution_count": 39,
   "metadata": {},
   "outputs": [
    {
     "name": "stdout",
     "output_type": "stream",
     "text": [
      "Model: \"sequential_82\"\n",
      "_________________________________________________________________\n",
      "Layer (type)                 Output Shape              Param #   \n",
      "=================================================================\n",
      "dense_334 (Dense)            (None, 1500)              1185000   \n",
      "_________________________________________________________________\n",
      "dense_335 (Dense)            (None, 600)               900600    \n",
      "_________________________________________________________________\n",
      "dense_336 (Dense)            (None, 100)               60100     \n",
      "_________________________________________________________________\n",
      "dense_337 (Dense)            (None, 1)                 101       \n",
      "=================================================================\n",
      "Total params: 2,145,801\n",
      "Trainable params: 2,145,801\n",
      "Non-trainable params: 0\n",
      "_________________________________________________________________\n"
     ]
    }
   ],
   "source": [
    "model = Sequential()\n",
    "model.add(Dense(1500, input_dim=789, kernel_initializer='normal', activation='relu'))\n",
    "model.add(Dense(600, kernel_initializer='normal', activation='relu'))\n",
    "model.add(Dense(100, kernel_initializer='normal', activation='relu'))\n",
    "model.add(Dense(1, kernel_initializer='normal'))\n",
    "model.summary()"
   ]
  },
  {
   "cell_type": "code",
   "execution_count": 40,
   "metadata": {},
   "outputs": [],
   "source": [
    "model.compile(loss='mse', optimizer='adam', metrics=['mse','mae'])"
   ]
  },
  {
   "cell_type": "code",
   "execution_count": 41,
   "metadata": {},
   "outputs": [
    {
     "name": "stdout",
     "output_type": "stream",
     "text": [
      "Train on 328 samples, validate on 83 samples\n",
      "Epoch 1/150\n",
      "328/328 [==============================] - 1s 3ms/sample - loss: 0.8321 - mse: 0.8321 - mae: 0.7220 - val_loss: 0.1096 - val_mse: 0.1096 - val_mae: 0.2428\n",
      "Epoch 2/150\n",
      "328/328 [==============================] - 0s 1ms/sample - loss: 0.0800 - mse: 0.0800 - mae: 0.2170 - val_loss: 0.0754 - val_mse: 0.0754 - val_mae: 0.1743\n",
      "Epoch 3/150\n",
      "328/328 [==============================] - 0s 1ms/sample - loss: 0.0588 - mse: 0.0588 - mae: 0.1730 - val_loss: 0.0676 - val_mse: 0.0676 - val_mae: 0.1693\n",
      "Epoch 4/150\n",
      "328/328 [==============================] - 0s 1ms/sample - loss: 0.0539 - mse: 0.0539 - mae: 0.1639 - val_loss: 0.0651 - val_mse: 0.0651 - val_mae: 0.1734\n",
      "Epoch 5/150\n",
      "328/328 [==============================] - 0s 931us/sample - loss: 0.0550 - mse: 0.0550 - mae: 0.1645 - val_loss: 0.0650 - val_mse: 0.0650 - val_mae: 0.2030\n",
      "Epoch 6/150\n",
      "328/328 [==============================] - 0s 1ms/sample - loss: 0.0539 - mse: 0.0539 - mae: 0.1735 - val_loss: 0.0616 - val_mse: 0.0616 - val_mae: 0.1846\n",
      "Epoch 7/150\n",
      "328/328 [==============================] - 0s 968us/sample - loss: 0.0515 - mse: 0.0515 - mae: 0.1642 - val_loss: 0.0664 - val_mse: 0.0664 - val_mae: 0.1669\n",
      "Epoch 8/150\n",
      "328/328 [==============================] - 0s 1ms/sample - loss: 0.0575 - mse: 0.0575 - mae: 0.1697 - val_loss: 0.0625 - val_mse: 0.0625 - val_mae: 0.1631\n",
      "Epoch 9/150\n",
      "328/328 [==============================] - 0s 1ms/sample - loss: 0.0509 - mse: 0.0509 - mae: 0.1652 - val_loss: 0.0590 - val_mse: 0.0590 - val_mae: 0.1661\n",
      "Epoch 10/150\n",
      "328/328 [==============================] - 0s 1ms/sample - loss: 0.0458 - mse: 0.0458 - mae: 0.1566 - val_loss: 0.0662 - val_mse: 0.0662 - val_mae: 0.1716\n",
      "Epoch 11/150\n",
      "328/328 [==============================] - 0s 1ms/sample - loss: 0.0457 - mse: 0.0457 - mae: 0.1553 - val_loss: 0.0550 - val_mse: 0.0550 - val_mae: 0.1710\n",
      "Epoch 12/150\n",
      "328/328 [==============================] - 0s 871us/sample - loss: 0.0435 - mse: 0.0435 - mae: 0.1533 - val_loss: 0.0606 - val_mse: 0.0606 - val_mae: 0.2080\n",
      "Epoch 13/150\n",
      "328/328 [==============================] - 0s 1ms/sample - loss: 0.0423 - mse: 0.0423 - mae: 0.1564 - val_loss: 0.0535 - val_mse: 0.0535 - val_mae: 0.1856\n",
      "Epoch 14/150\n",
      "328/328 [==============================] - 0s 1ms/sample - loss: 0.0373 - mse: 0.0373 - mae: 0.1447 - val_loss: 0.0485 - val_mse: 0.0485 - val_mae: 0.1631\n",
      "Epoch 15/150\n",
      "328/328 [==============================] - 0s 938us/sample - loss: 0.0399 - mse: 0.0399 - mae: 0.1515 - val_loss: 0.0472 - val_mse: 0.0472 - val_mae: 0.1702\n",
      "Epoch 16/150\n",
      "328/328 [==============================] - 0s 951us/sample - loss: 0.0338 - mse: 0.0338 - mae: 0.1416 - val_loss: 0.0583 - val_mse: 0.0583 - val_mae: 0.2080\n",
      "Epoch 17/150\n",
      "328/328 [==============================] - 0s 1ms/sample - loss: 0.0385 - mse: 0.0385 - mae: 0.1538 - val_loss: 0.0434 - val_mse: 0.0434 - val_mae: 0.1433\n",
      "Epoch 18/150\n",
      "328/328 [==============================] - 0s 844us/sample - loss: 0.0345 - mse: 0.0345 - mae: 0.1425 - val_loss: 0.0465 - val_mse: 0.0465 - val_mae: 0.1776\n",
      "Epoch 19/150\n",
      "328/328 [==============================] - 0s 1ms/sample - loss: 0.0363 - mse: 0.0363 - mae: 0.1501 - val_loss: 0.0479 - val_mse: 0.0479 - val_mae: 0.1554\n",
      "Epoch 20/150\n",
      "328/328 [==============================] - 0s 1ms/sample - loss: 0.0345 - mse: 0.0345 - mae: 0.1426 - val_loss: 0.0438 - val_mse: 0.0438 - val_mae: 0.1703\n",
      "Epoch 21/150\n",
      "328/328 [==============================] - 0s 1ms/sample - loss: 0.0289 - mse: 0.0289 - mae: 0.1308 - val_loss: 0.0361 - val_mse: 0.0361 - val_mae: 0.1374\n",
      "Epoch 22/150\n",
      "328/328 [==============================] - 0s 988us/sample - loss: 0.0268 - mse: 0.0268 - mae: 0.1265 - val_loss: 0.0374 - val_mse: 0.0374 - val_mae: 0.1375\n",
      "Epoch 23/150\n",
      "328/328 [==============================] - 0s 974us/sample - loss: 0.0337 - mse: 0.0337 - mae: 0.1452 - val_loss: 0.0333 - val_mse: 0.0333 - val_mae: 0.1310\n",
      "Epoch 24/150\n",
      "328/328 [==============================] - 0s 1ms/sample - loss: 0.0332 - mse: 0.0332 - mae: 0.1428 - val_loss: 0.0389 - val_mse: 0.0389 - val_mae: 0.1561\n",
      "Epoch 25/150\n",
      "328/328 [==============================] - 0s 1ms/sample - loss: 0.0290 - mse: 0.0290 - mae: 0.1325 - val_loss: 0.0350 - val_mse: 0.0350 - val_mae: 0.1321\n",
      "Epoch 26/150\n",
      "328/328 [==============================] - 0s 1ms/sample - loss: 0.0259 - mse: 0.0259 - mae: 0.1228 - val_loss: 0.0368 - val_mse: 0.0368 - val_mae: 0.1372\n",
      "Epoch 27/150\n",
      "328/328 [==============================] - 0s 1ms/sample - loss: 0.0422 - mse: 0.0422 - mae: 0.1654 - val_loss: 0.0596 - val_mse: 0.0596 - val_mae: 0.2093\n",
      "Epoch 28/150\n",
      "328/328 [==============================] - 0s 1ms/sample - loss: 0.0374 - mse: 0.0374 - mae: 0.1538 - val_loss: 0.0640 - val_mse: 0.0640 - val_mae: 0.1975\n",
      "Epoch 29/150\n",
      "328/328 [==============================] - 0s 833us/sample - loss: 0.0454 - mse: 0.0454 - mae: 0.1728 - val_loss: 0.0651 - val_mse: 0.0651 - val_mae: 0.1931\n",
      "Epoch 30/150\n",
      "328/328 [==============================] - 0s 987us/sample - loss: 0.0448 - mse: 0.0448 - mae: 0.1692 - val_loss: 0.0447 - val_mse: 0.0447 - val_mae: 0.1458\n",
      "Epoch 31/150\n",
      "328/328 [==============================] - 0s 932us/sample - loss: 0.0340 - mse: 0.0340 - mae: 0.1457 - val_loss: 0.0428 - val_mse: 0.0428 - val_mae: 0.1428\n",
      "Epoch 32/150\n",
      "328/328 [==============================] - 0s 841us/sample - loss: 0.0309 - mse: 0.0309 - mae: 0.1360 - val_loss: 0.0365 - val_mse: 0.0365 - val_mae: 0.1345\n",
      "Epoch 33/150\n",
      "328/328 [==============================] - 0s 1ms/sample - loss: 0.0330 - mse: 0.0330 - mae: 0.1395 - val_loss: 0.0469 - val_mse: 0.0469 - val_mae: 0.1769\n",
      "Epoch 34/150\n",
      "328/328 [==============================] - 0s 2ms/sample - loss: 0.0320 - mse: 0.0320 - mae: 0.1415 - val_loss: 0.0374 - val_mse: 0.0374 - val_mae: 0.1481\n",
      "Epoch 35/150\n",
      "328/328 [==============================] - 0s 1ms/sample - loss: 0.0270 - mse: 0.0270 - mae: 0.1262 - val_loss: 0.0388 - val_mse: 0.0388 - val_mae: 0.1537\n",
      "Epoch 36/150\n",
      "328/328 [==============================] - 0s 1ms/sample - loss: 0.0266 - mse: 0.0266 - mae: 0.1261 - val_loss: 0.0388 - val_mse: 0.0388 - val_mae: 0.1525\n",
      "Epoch 37/150\n",
      "328/328 [==============================] - 0s 1ms/sample - loss: 0.0265 - mse: 0.0265 - mae: 0.1252 - val_loss: 0.0453 - val_mse: 0.0453 - val_mae: 0.1720\n",
      "Epoch 38/150\n",
      "328/328 [==============================] - 0s 1ms/sample - loss: 0.0276 - mse: 0.0276 - mae: 0.1265 - val_loss: 0.0342 - val_mse: 0.0342 - val_mae: 0.1387\n",
      "Epoch 39/150\n",
      "328/328 [==============================] - 0s 1ms/sample - loss: 0.0245 - mse: 0.0245 - mae: 0.1182 - val_loss: 0.0372 - val_mse: 0.0372 - val_mae: 0.1412\n",
      "Epoch 40/150\n",
      "328/328 [==============================] - 0s 1ms/sample - loss: 0.0322 - mse: 0.0322 - mae: 0.1409 - val_loss: 0.0378 - val_mse: 0.0378 - val_mae: 0.1366\n",
      "Epoch 41/150\n",
      "328/328 [==============================] - 0s 1ms/sample - loss: 0.0288 - mse: 0.0288 - mae: 0.1302 - val_loss: 0.0375 - val_mse: 0.0375 - val_mae: 0.1368\n",
      "Epoch 42/150\n",
      "328/328 [==============================] - 0s 1ms/sample - loss: 0.0300 - mse: 0.0300 - mae: 0.1308 - val_loss: 0.0323 - val_mse: 0.0323 - val_mae: 0.1267\n",
      "Epoch 43/150\n",
      "328/328 [==============================] - 1s 2ms/sample - loss: 0.0261 - mse: 0.0261 - mae: 0.1255 - val_loss: 0.0318 - val_mse: 0.0318 - val_mae: 0.1261\n",
      "Epoch 44/150\n",
      "328/328 [==============================] - 0s 1ms/sample - loss: 0.0239 - mse: 0.0239 - mae: 0.1171 - val_loss: 0.0374 - val_mse: 0.0374 - val_mae: 0.1479\n",
      "Epoch 45/150\n",
      "328/328 [==============================] - 0s 1ms/sample - loss: 0.0238 - mse: 0.0238 - mae: 0.1150 - val_loss: 0.0314 - val_mse: 0.0314 - val_mae: 0.1253\n",
      "Epoch 46/150\n",
      "328/328 [==============================] - 0s 1ms/sample - loss: 0.0232 - mse: 0.0232 - mae: 0.1127 - val_loss: 0.0314 - val_mse: 0.0314 - val_mae: 0.1252\n",
      "Epoch 47/150\n",
      "328/328 [==============================] - 0s 1ms/sample - loss: 0.0239 - mse: 0.0239 - mae: 0.1164 - val_loss: 0.0332 - val_mse: 0.0332 - val_mae: 0.1277\n",
      "Epoch 48/150\n",
      "328/328 [==============================] - 0s 1ms/sample - loss: 0.0213 - mse: 0.0213 - mae: 0.1082 - val_loss: 0.0310 - val_mse: 0.0310 - val_mae: 0.1249\n",
      "Epoch 49/150\n"
     ]
    },
    {
     "name": "stdout",
     "output_type": "stream",
     "text": [
      "328/328 [==============================] - 0s 1ms/sample - loss: 0.0219 - mse: 0.0219 - mae: 0.1093 - val_loss: 0.0305 - val_mse: 0.0305 - val_mae: 0.1229\n",
      "Epoch 50/150\n",
      "328/328 [==============================] - 0s 900us/sample - loss: 0.0212 - mse: 0.0212 - mae: 0.1078 - val_loss: 0.0292 - val_mse: 0.0292 - val_mae: 0.1205\n",
      "Epoch 51/150\n",
      "328/328 [==============================] - 0s 830us/sample - loss: 0.0203 - mse: 0.0203 - mae: 0.1061 - val_loss: 0.0296 - val_mse: 0.0296 - val_mae: 0.1234\n",
      "Epoch 52/150\n",
      "328/328 [==============================] - 0s 1ms/sample - loss: 0.0198 - mse: 0.0198 - mae: 0.1033 - val_loss: 0.0294 - val_mse: 0.0294 - val_mae: 0.1215\n",
      "Epoch 53/150\n",
      "328/328 [==============================] - 0s 1ms/sample - loss: 0.0219 - mse: 0.0219 - mae: 0.1094 - val_loss: 0.0291 - val_mse: 0.0291 - val_mae: 0.1235\n",
      "Epoch 54/150\n",
      "328/328 [==============================] - 0s 1ms/sample - loss: 0.0213 - mse: 0.0213 - mae: 0.1097 - val_loss: 0.0300 - val_mse: 0.0300 - val_mae: 0.1265\n",
      "Epoch 55/150\n",
      "328/328 [==============================] - 0s 1ms/sample - loss: 0.0199 - mse: 0.0199 - mae: 0.1059 - val_loss: 0.0327 - val_mse: 0.0327 - val_mae: 0.1336\n",
      "Epoch 56/150\n",
      "328/328 [==============================] - 0s 1ms/sample - loss: 0.0209 - mse: 0.0209 - mae: 0.1085 - val_loss: 0.0318 - val_mse: 0.0318 - val_mae: 0.1328\n",
      "Epoch 57/150\n",
      "328/328 [==============================] - 0s 1ms/sample - loss: 0.0193 - mse: 0.0193 - mae: 0.1041 - val_loss: 0.0327 - val_mse: 0.0327 - val_mae: 0.1361\n",
      "Epoch 58/150\n",
      "328/328 [==============================] - 0s 1ms/sample - loss: 0.0232 - mse: 0.0232 - mae: 0.1164 - val_loss: 0.0346 - val_mse: 0.0346 - val_mae: 0.1334\n",
      "Epoch 59/150\n",
      "328/328 [==============================] - 0s 1ms/sample - loss: 0.0209 - mse: 0.0209 - mae: 0.1084 - val_loss: 0.0282 - val_mse: 0.0282 - val_mae: 0.1226\n",
      "Epoch 60/150\n",
      "328/328 [==============================] - 0s 1ms/sample - loss: 0.0190 - mse: 0.0190 - mae: 0.1020 - val_loss: 0.0303 - val_mse: 0.0303 - val_mae: 0.1269\n",
      "Epoch 61/150\n",
      "328/328 [==============================] - 0s 1ms/sample - loss: 0.0202 - mse: 0.0202 - mae: 0.1070 - val_loss: 0.0323 - val_mse: 0.0323 - val_mae: 0.1291\n",
      "Epoch 62/150\n",
      "328/328 [==============================] - 0s 1ms/sample - loss: 0.0197 - mse: 0.0197 - mae: 0.1075 - val_loss: 0.0314 - val_mse: 0.0314 - val_mae: 0.1326\n",
      "Epoch 63/150\n",
      "328/328 [==============================] - 0s 1ms/sample - loss: 0.0198 - mse: 0.0198 - mae: 0.1078 - val_loss: 0.0315 - val_mse: 0.0315 - val_mae: 0.1326\n",
      "Epoch 64/150\n",
      "328/328 [==============================] - 0s 1ms/sample - loss: 0.0188 - mse: 0.0188 - mae: 0.1038 - val_loss: 0.0285 - val_mse: 0.0285 - val_mae: 0.1241\n",
      "Epoch 65/150\n",
      "328/328 [==============================] - 0s 1000us/sample - loss: 0.0179 - mse: 0.0179 - mae: 0.1006 - val_loss: 0.0278 - val_mse: 0.0278 - val_mae: 0.1210\n",
      "Epoch 66/150\n",
      "328/328 [==============================] - 0s 1ms/sample - loss: 0.0179 - mse: 0.0179 - mae: 0.1006 - val_loss: 0.0274 - val_mse: 0.0274 - val_mae: 0.1219\n",
      "Epoch 67/150\n",
      "328/328 [==============================] - 0s 1ms/sample - loss: 0.0169 - mse: 0.0169 - mae: 0.0974 - val_loss: 0.0302 - val_mse: 0.0302 - val_mae: 0.1273\n",
      "Epoch 68/150\n",
      "328/328 [==============================] - 1s 2ms/sample - loss: 0.0221 - mse: 0.0221 - mae: 0.1157 - val_loss: 0.0360 - val_mse: 0.0360 - val_mae: 0.1480\n",
      "Epoch 69/150\n",
      "328/328 [==============================] - 0s 1ms/sample - loss: 0.0201 - mse: 0.0201 - mae: 0.1062 - val_loss: 0.0327 - val_mse: 0.0327 - val_mae: 0.1370\n",
      "Epoch 70/150\n",
      "328/328 [==============================] - 0s 1ms/sample - loss: 0.0183 - mse: 0.0183 - mae: 0.1028 - val_loss: 0.0279 - val_mse: 0.0279 - val_mae: 0.1219\n",
      "Epoch 71/150\n",
      "328/328 [==============================] - 0s 1ms/sample - loss: 0.0188 - mse: 0.0188 - mae: 0.1036 - val_loss: 0.0299 - val_mse: 0.0299 - val_mae: 0.1245\n",
      "Epoch 72/150\n",
      "328/328 [==============================] - 0s 1ms/sample - loss: 0.0213 - mse: 0.0213 - mae: 0.1097 - val_loss: 0.0319 - val_mse: 0.0319 - val_mae: 0.1357\n",
      "Epoch 73/150\n",
      "328/328 [==============================] - 0s 922us/sample - loss: 0.0179 - mse: 0.0179 - mae: 0.1043 - val_loss: 0.0285 - val_mse: 0.0285 - val_mae: 0.1229\n",
      "Epoch 74/150\n",
      "328/328 [==============================] - 0s 1ms/sample - loss: 0.0177 - mse: 0.0177 - mae: 0.0990 - val_loss: 0.0289 - val_mse: 0.0289 - val_mae: 0.1285\n",
      "Epoch 75/150\n",
      "328/328 [==============================] - 0s 1ms/sample - loss: 0.0251 - mse: 0.0251 - mae: 0.1212 - val_loss: 0.0285 - val_mse: 0.0285 - val_mae: 0.1220\n",
      "Epoch 76/150\n",
      "328/328 [==============================] - 0s 1ms/sample - loss: 0.0255 - mse: 0.0255 - mae: 0.1229 - val_loss: 0.0387 - val_mse: 0.0387 - val_mae: 0.1426\n",
      "Epoch 77/150\n",
      "328/328 [==============================] - 0s 1ms/sample - loss: 0.0255 - mse: 0.0255 - mae: 0.1255 - val_loss: 0.0292 - val_mse: 0.0292 - val_mae: 0.1301\n",
      "Epoch 78/150\n",
      "328/328 [==============================] - 0s 1ms/sample - loss: 0.0204 - mse: 0.0204 - mae: 0.1082 - val_loss: 0.0330 - val_mse: 0.0330 - val_mae: 0.1399\n",
      "Epoch 79/150\n",
      "328/328 [==============================] - 0s 1ms/sample - loss: 0.0188 - mse: 0.0188 - mae: 0.1056 - val_loss: 0.0259 - val_mse: 0.0259 - val_mae: 0.1170\n",
      "Epoch 80/150\n",
      "328/328 [==============================] - 0s 1ms/sample - loss: 0.0205 - mse: 0.0205 - mae: 0.1111 - val_loss: 0.0337 - val_mse: 0.0337 - val_mae: 0.1319\n",
      "Epoch 81/150\n",
      "328/328 [==============================] - 0s 1ms/sample - loss: 0.0214 - mse: 0.0214 - mae: 0.1126 - val_loss: 0.0376 - val_mse: 0.0376 - val_mae: 0.1545\n",
      "Epoch 82/150\n",
      "328/328 [==============================] - 0s 1ms/sample - loss: 0.0215 - mse: 0.0215 - mae: 0.1112 - val_loss: 0.0314 - val_mse: 0.0314 - val_mae: 0.1368\n",
      "Epoch 83/150\n",
      "328/328 [==============================] - 0s 1ms/sample - loss: 0.0163 - mse: 0.0163 - mae: 0.0973 - val_loss: 0.0252 - val_mse: 0.0252 - val_mae: 0.1177\n",
      "Epoch 84/150\n",
      "328/328 [==============================] - 0s 1ms/sample - loss: 0.0186 - mse: 0.0186 - mae: 0.1020 - val_loss: 0.0283 - val_mse: 0.0283 - val_mae: 0.1209\n",
      "Epoch 85/150\n",
      "328/328 [==============================] - 0s 1ms/sample - loss: 0.0148 - mse: 0.0148 - mae: 0.0919 - val_loss: 0.0252 - val_mse: 0.0252 - val_mae: 0.1185\n",
      "Epoch 86/150\n",
      "328/328 [==============================] - 0s 1ms/sample - loss: 0.0155 - mse: 0.0155 - mae: 0.0943 - val_loss: 0.0289 - val_mse: 0.0289 - val_mae: 0.1241\n",
      "Epoch 87/150\n",
      "328/328 [==============================] - 1s 2ms/sample - loss: 0.0164 - mse: 0.0164 - mae: 0.0976 - val_loss: 0.0280 - val_mse: 0.0280 - val_mae: 0.1280\n",
      "Epoch 88/150\n",
      "328/328 [==============================] - 1s 2ms/sample - loss: 0.0177 - mse: 0.0177 - mae: 0.1017 - val_loss: 0.0265 - val_mse: 0.0265 - val_mae: 0.1234\n",
      "Epoch 89/150\n",
      "328/328 [==============================] - 0s 1ms/sample - loss: 0.0151 - mse: 0.0151 - mae: 0.0952 - val_loss: 0.0251 - val_mse: 0.0251 - val_mae: 0.1181\n",
      "Epoch 90/150\n",
      "328/328 [==============================] - 0s 1ms/sample - loss: 0.0137 - mse: 0.0137 - mae: 0.0879 - val_loss: 0.0265 - val_mse: 0.0265 - val_mae: 0.1227\n",
      "Epoch 91/150\n",
      "328/328 [==============================] - 0s 1ms/sample - loss: 0.0183 - mse: 0.0183 - mae: 0.1017 - val_loss: 0.0276 - val_mse: 0.0276 - val_mae: 0.1221\n",
      "Epoch 92/150\n",
      "328/328 [==============================] - 0s 1ms/sample - loss: 0.0151 - mse: 0.0151 - mae: 0.0935 - val_loss: 0.0283 - val_mse: 0.0283 - val_mae: 0.1222\n",
      "Epoch 93/150\n",
      "328/328 [==============================] - 0s 1ms/sample - loss: 0.0165 - mse: 0.0165 - mae: 0.0995 - val_loss: 0.0344 - val_mse: 0.0344 - val_mae: 0.1392\n",
      "Epoch 94/150\n",
      "328/328 [==============================] - 0s 1ms/sample - loss: 0.0240 - mse: 0.0240 - mae: 0.1205 - val_loss: 0.0281 - val_mse: 0.0281 - val_mae: 0.1287\n",
      "Epoch 95/150\n",
      "328/328 [==============================] - 0s 1ms/sample - loss: 0.0176 - mse: 0.0176 - mae: 0.1034 - val_loss: 0.0280 - val_mse: 0.0280 - val_mae: 0.1201\n",
      "Epoch 96/150\n",
      "328/328 [==============================] - 0s 1ms/sample - loss: 0.0156 - mse: 0.0156 - mae: 0.0943 - val_loss: 0.0245 - val_mse: 0.0245 - val_mae: 0.1127\n",
      "Epoch 97/150\n",
      "328/328 [==============================] - 0s 1ms/sample - loss: 0.0129 - mse: 0.0129 - mae: 0.0853 - val_loss: 0.0237 - val_mse: 0.0237 - val_mae: 0.1122\n"
     ]
    },
    {
     "name": "stdout",
     "output_type": "stream",
     "text": [
      "Epoch 98/150\n",
      "328/328 [==============================] - 0s 976us/sample - loss: 0.0152 - mse: 0.0152 - mae: 0.0910 - val_loss: 0.0276 - val_mse: 0.0276 - val_mae: 0.1260\n",
      "Epoch 99/150\n",
      "328/328 [==============================] - 0s 1ms/sample - loss: 0.0144 - mse: 0.0144 - mae: 0.0898 - val_loss: 0.0237 - val_mse: 0.0237 - val_mae: 0.1126\n",
      "Epoch 100/150\n",
      "328/328 [==============================] - 0s 997us/sample - loss: 0.0130 - mse: 0.0130 - mae: 0.0876 - val_loss: 0.0326 - val_mse: 0.0326 - val_mae: 0.1302\n",
      "Epoch 101/150\n",
      "328/328 [==============================] - 0s 962us/sample - loss: 0.0171 - mse: 0.0171 - mae: 0.0966 - val_loss: 0.0271 - val_mse: 0.0271 - val_mae: 0.1268\n",
      "Epoch 102/150\n",
      "328/328 [==============================] - 0s 900us/sample - loss: 0.0156 - mse: 0.0156 - mae: 0.0969 - val_loss: 0.0231 - val_mse: 0.0231 - val_mae: 0.1115\n",
      "Epoch 103/150\n",
      "328/328 [==============================] - 0s 1ms/sample - loss: 0.0129 - mse: 0.0129 - mae: 0.0850 - val_loss: 0.0217 - val_mse: 0.0217 - val_mae: 0.1094\n",
      "Epoch 104/150\n",
      "328/328 [==============================] - 0s 1ms/sample - loss: 0.0116 - mse: 0.0116 - mae: 0.0819 - val_loss: 0.0225 - val_mse: 0.0225 - val_mae: 0.1138\n",
      "Epoch 105/150\n",
      "328/328 [==============================] - 0s 1ms/sample - loss: 0.0118 - mse: 0.0118 - mae: 0.0812 - val_loss: 0.0208 - val_mse: 0.0208 - val_mae: 0.1073\n",
      "Epoch 106/150\n",
      "328/328 [==============================] - 0s 1ms/sample - loss: 0.0124 - mse: 0.0124 - mae: 0.0834 - val_loss: 0.0223 - val_mse: 0.0223 - val_mae: 0.1103\n",
      "Epoch 107/150\n",
      "328/328 [==============================] - 0s 1ms/sample - loss: 0.0138 - mse: 0.0138 - mae: 0.0886 - val_loss: 0.0373 - val_mse: 0.0373 - val_mae: 0.1515\n",
      "Epoch 108/150\n",
      "328/328 [==============================] - 0s 1ms/sample - loss: 0.0195 - mse: 0.0195 - mae: 0.1043 - val_loss: 0.0444 - val_mse: 0.0444 - val_mae: 0.1484\n",
      "Epoch 109/150\n",
      "328/328 [==============================] - 0s 1ms/sample - loss: 0.0236 - mse: 0.0236 - mae: 0.1188 - val_loss: 0.0454 - val_mse: 0.0454 - val_mae: 0.1619\n",
      "Epoch 110/150\n",
      "328/328 [==============================] - 0s 1ms/sample - loss: 0.0263 - mse: 0.0263 - mae: 0.1265 - val_loss: 0.0431 - val_mse: 0.0431 - val_mae: 0.1486\n",
      "Epoch 111/150\n",
      "328/328 [==============================] - 0s 1ms/sample - loss: 0.0323 - mse: 0.0323 - mae: 0.1384 - val_loss: 0.0438 - val_mse: 0.0438 - val_mae: 0.1726\n",
      "Epoch 112/150\n",
      "328/328 [==============================] - 0s 1ms/sample - loss: 0.0275 - mse: 0.0275 - mae: 0.1310 - val_loss: 0.0385 - val_mse: 0.0385 - val_mae: 0.1577\n",
      "Epoch 113/150\n",
      "328/328 [==============================] - 0s 948us/sample - loss: 0.0224 - mse: 0.0224 - mae: 0.1182 - val_loss: 0.0348 - val_mse: 0.0348 - val_mae: 0.1468\n",
      "Epoch 114/150\n",
      "328/328 [==============================] - 0s 1ms/sample - loss: 0.0249 - mse: 0.0249 - mae: 0.1282 - val_loss: 0.0337 - val_mse: 0.0337 - val_mae: 0.1444\n",
      "Epoch 115/150\n",
      "328/328 [==============================] - 0s 1ms/sample - loss: 0.0243 - mse: 0.0243 - mae: 0.1217 - val_loss: 0.0410 - val_mse: 0.0410 - val_mae: 0.1641\n",
      "Epoch 116/150\n",
      "328/328 [==============================] - 0s 1ms/sample - loss: 0.0218 - mse: 0.0218 - mae: 0.1145 - val_loss: 0.0297 - val_mse: 0.0297 - val_mae: 0.1290\n",
      "Epoch 117/150\n",
      "328/328 [==============================] - 0s 1ms/sample - loss: 0.0194 - mse: 0.0194 - mae: 0.1074 - val_loss: 0.0282 - val_mse: 0.0282 - val_mae: 0.1278\n",
      "Epoch 118/150\n",
      "328/328 [==============================] - 0s 1ms/sample - loss: 0.0219 - mse: 0.0219 - mae: 0.1157 - val_loss: 0.0441 - val_mse: 0.0441 - val_mae: 0.1697\n",
      "Epoch 119/150\n",
      "328/328 [==============================] - 0s 1ms/sample - loss: 0.0242 - mse: 0.0242 - mae: 0.1212 - val_loss: 0.0326 - val_mse: 0.0326 - val_mae: 0.1406\n",
      "Epoch 120/150\n",
      "328/328 [==============================] - 0s 1ms/sample - loss: 0.0168 - mse: 0.0168 - mae: 0.1003 - val_loss: 0.0271 - val_mse: 0.0271 - val_mae: 0.1260\n",
      "Epoch 121/150\n",
      "328/328 [==============================] - 0s 1ms/sample - loss: 0.0187 - mse: 0.0187 - mae: 0.1062 - val_loss: 0.0285 - val_mse: 0.0285 - val_mae: 0.1297\n",
      "Epoch 122/150\n",
      "328/328 [==============================] - 0s 1ms/sample - loss: 0.0162 - mse: 0.0162 - mae: 0.0972 - val_loss: 0.0289 - val_mse: 0.0289 - val_mae: 0.1254\n",
      "Epoch 123/150\n",
      "328/328 [==============================] - 0s 1ms/sample - loss: 0.0166 - mse: 0.0166 - mae: 0.0977 - val_loss: 0.0267 - val_mse: 0.0267 - val_mae: 0.1227\n",
      "Epoch 124/150\n",
      "328/328 [==============================] - 0s 1ms/sample - loss: 0.0158 - mse: 0.0158 - mae: 0.0953 - val_loss: 0.0282 - val_mse: 0.0282 - val_mae: 0.1245\n",
      "Epoch 125/150\n",
      "328/328 [==============================] - 0s 1ms/sample - loss: 0.0153 - mse: 0.0153 - mae: 0.0968 - val_loss: 0.0272 - val_mse: 0.0272 - val_mae: 0.1220\n",
      "Epoch 126/150\n",
      "328/328 [==============================] - 1s 2ms/sample - loss: 0.0180 - mse: 0.0180 - mae: 0.1020 - val_loss: 0.0265 - val_mse: 0.0265 - val_mae: 0.1224\n",
      "Epoch 127/150\n",
      "328/328 [==============================] - 0s 1ms/sample - loss: 0.0145 - mse: 0.0145 - mae: 0.0901 - val_loss: 0.0251 - val_mse: 0.0251 - val_mae: 0.1190\n",
      "Epoch 128/150\n",
      "328/328 [==============================] - 0s 1ms/sample - loss: 0.0144 - mse: 0.0144 - mae: 0.0924 - val_loss: 0.0267 - val_mse: 0.0267 - val_mae: 0.1242\n",
      "Epoch 129/150\n",
      "328/328 [==============================] - 0s 2ms/sample - loss: 0.0144 - mse: 0.0144 - mae: 0.0918 - val_loss: 0.0262 - val_mse: 0.0262 - val_mae: 0.1220\n",
      "Epoch 130/150\n",
      "328/328 [==============================] - 0s 1ms/sample - loss: 0.0171 - mse: 0.0171 - mae: 0.0977 - val_loss: 0.0266 - val_mse: 0.0266 - val_mae: 0.1220\n",
      "Epoch 131/150\n",
      "328/328 [==============================] - 0s 1ms/sample - loss: 0.0158 - mse: 0.0158 - mae: 0.0957 - val_loss: 0.0243 - val_mse: 0.0243 - val_mae: 0.1135\n",
      "Epoch 132/150\n",
      "328/328 [==============================] - 0s 1ms/sample - loss: 0.0129 - mse: 0.0129 - mae: 0.0862 - val_loss: 0.0241 - val_mse: 0.0241 - val_mae: 0.1142\n",
      "Epoch 133/150\n",
      "328/328 [==============================] - 0s 1ms/sample - loss: 0.0138 - mse: 0.0138 - mae: 0.0875 - val_loss: 0.0247 - val_mse: 0.0247 - val_mae: 0.1164\n",
      "Epoch 134/150\n",
      "328/328 [==============================] - 0s 1ms/sample - loss: 0.0135 - mse: 0.0135 - mae: 0.0878 - val_loss: 0.0246 - val_mse: 0.0246 - val_mae: 0.1135\n",
      "Epoch 135/150\n",
      "328/328 [==============================] - 1s 2ms/sample - loss: 0.0134 - mse: 0.0134 - mae: 0.0863 - val_loss: 0.0296 - val_mse: 0.0296 - val_mae: 0.1236\n",
      "Epoch 136/150\n",
      "328/328 [==============================] - 0s 1ms/sample - loss: 0.0136 - mse: 0.0136 - mae: 0.0877 - val_loss: 0.0241 - val_mse: 0.0241 - val_mae: 0.1180\n",
      "Epoch 137/150\n",
      "328/328 [==============================] - 0s 2ms/sample - loss: 0.0129 - mse: 0.0129 - mae: 0.0845 - val_loss: 0.0236 - val_mse: 0.0236 - val_mae: 0.1127\n",
      "Epoch 138/150\n",
      "328/328 [==============================] - 1s 2ms/sample - loss: 0.0163 - mse: 0.0163 - mae: 0.0986 - val_loss: 0.0254 - val_mse: 0.0254 - val_mae: 0.1232\n",
      "Epoch 139/150\n",
      "328/328 [==============================] - 1s 2ms/sample - loss: 0.0124 - mse: 0.0124 - mae: 0.0844 - val_loss: 0.0206 - val_mse: 0.0206 - val_mae: 0.1071\n",
      "Epoch 140/150\n",
      "328/328 [==============================] - 0s 1ms/sample - loss: 0.0114 - mse: 0.0114 - mae: 0.0811 - val_loss: 0.0206 - val_mse: 0.0206 - val_mae: 0.1093\n",
      "Epoch 141/150\n",
      "328/328 [==============================] - 0s 1ms/sample - loss: 0.0113 - mse: 0.0113 - mae: 0.0797 - val_loss: 0.0231 - val_mse: 0.0231 - val_mae: 0.1116\n",
      "Epoch 142/150\n",
      "328/328 [==============================] - 0s 1ms/sample - loss: 0.0118 - mse: 0.0118 - mae: 0.0841 - val_loss: 0.0210 - val_mse: 0.0210 - val_mae: 0.1076\n",
      "Epoch 143/150\n",
      "328/328 [==============================] - 0s 1ms/sample - loss: 0.0120 - mse: 0.0120 - mae: 0.0812 - val_loss: 0.0229 - val_mse: 0.0229 - val_mae: 0.1135\n",
      "Epoch 144/150\n",
      "328/328 [==============================] - 0s 1ms/sample - loss: 0.0119 - mse: 0.0119 - mae: 0.0841 - val_loss: 0.0308 - val_mse: 0.0308 - val_mae: 0.1288\n",
      "Epoch 145/150\n",
      "328/328 [==============================] - 0s 1ms/sample - loss: 0.0145 - mse: 0.0145 - mae: 0.0929 - val_loss: 0.0304 - val_mse: 0.0304 - val_mae: 0.1335\n",
      "Epoch 146/150\n"
     ]
    },
    {
     "name": "stdout",
     "output_type": "stream",
     "text": [
      "328/328 [==============================] - 0s 1ms/sample - loss: 0.0179 - mse: 0.0179 - mae: 0.1049 - val_loss: 0.0357 - val_mse: 0.0357 - val_mae: 0.1523\n",
      "Epoch 147/150\n",
      "328/328 [==============================] - 0s 1ms/sample - loss: 0.0175 - mse: 0.0175 - mae: 0.0978 - val_loss: 0.0318 - val_mse: 0.0318 - val_mae: 0.1245\n",
      "Epoch 148/150\n",
      "328/328 [==============================] - 0s 1ms/sample - loss: 0.0183 - mse: 0.0183 - mae: 0.1035 - val_loss: 0.0321 - val_mse: 0.0321 - val_mae: 0.1312\n",
      "Epoch 149/150\n",
      "328/328 [==============================] - 0s 1ms/sample - loss: 0.0248 - mse: 0.0248 - mae: 0.1145 - val_loss: 0.0331 - val_mse: 0.0331 - val_mae: 0.1452\n",
      "Epoch 150/150\n",
      "328/328 [==============================] - 0s 1ms/sample - loss: 0.0197 - mse: 0.0197 - mae: 0.1081 - val_loss: 0.0275 - val_mse: 0.0275 - val_mae: 0.1301\n"
     ]
    }
   ],
   "source": [
    "history = model.fit(X_train, y_train, epochs=150, batch_size=50,  verbose=1, validation_split=0.2)"
   ]
  },
  {
   "cell_type": "code",
   "execution_count": 42,
   "metadata": {},
   "outputs": [
    {
     "name": "stdout",
     "output_type": "stream",
     "text": [
      "dict_keys(['loss', 'mse', 'mae', 'val_loss', 'val_mse', 'val_mae'])\n"
     ]
    },
    {
     "data": {
      "image/png": "[encoded data removed]",
      "text/plain": [
       "<Figure size 432x288 with 1 Axes>"
      ]
     },
     "metadata": {
      "needs_background": "light"
     },
     "output_type": "display_data"
    }
   ],
   "source": [
    "print(history.history.keys())\n",
    "# \"Loss\"\n",
    "plt.plot(history.history['loss'])\n",
    "plt.plot(history.history['val_loss'])\n",
    "plt.title('model loss')\n",
    "plt.ylabel('loss')\n",
    "plt.xlabel('epoch')\n",
    "plt.legend(['train', 'validation'], loc='upper left')\n",
    "plt.show()"
   ]
  },
  {
   "cell_type": "code",
   "execution_count": 65,
   "metadata": {},
   "outputs": [],
   "source": [
    "y_pred= model.predict(X_test)"
   ]
  },
  {
   "cell_type": "code",
   "execution_count": 66,
   "metadata": {},
   "outputs": [
    {
     "data": {
      "text/plain": [
       "0.13620933116958164"
      ]
     },
     "execution_count": 66,
     "metadata": {},
     "output_type": "execute_result"
    }
   ],
   "source": [
    "from sklearn.metrics import mean_squared_error\n",
    "from math import sqrt\n",
    "sqrt(mean_squared_error(y_test, y_pred))"
   ]
  },
  {
   "cell_type": "code",
   "execution_count": 77,
   "metadata": {},
   "outputs": [
    {
     "data": {
      "text/plain": [
       "0.10527871015838759"
      ]
     },
     "execution_count": 77,
     "metadata": {},
     "output_type": "execute_result"
    }
   ],
   "source": [
    "mean_absolute_error(y_test, y_pred)"
   ]
  },
  {
   "cell_type": "code",
   "execution_count": 69,
   "metadata": {},
   "outputs": [],
   "source": [
    "y_test.shape\n",
    "y_test=np.reshape(y_test, (46,1))\n",
    "y_pred=np.reshape(y_pred, (46,1))\n",
    "y_test_normalized=scaler_y.inverse_transform(y_test)\n",
    "y_pred_normalized=scaler_y.inverse_transform(y_pred)\n",
    "y_test=np.reshape(y_test, (46,))\n",
    "y_pred=np.reshape(y_pred, (46,))\n",
    "y_test_normalized=np.reshape(y_test_normalized, (46,))\n",
    "y_pred_normalized=np.reshape(y_pred_normalized, (46,))"
   ]
  },
  {
   "cell_type": "code",
   "execution_count": 72,
   "metadata": {},
   "outputs": [
    {
     "data": {
      "text/plain": [
       "67.26707588047354"
      ]
     },
     "execution_count": 72,
     "metadata": {},
     "output_type": "execute_result"
    }
   ],
   "source": [
    "sqrt(mean_squared_error(y_test_normalized, y_pred_normalized))"
   ]
  },
  {
   "cell_type": "code",
   "execution_count": 76,
   "metadata": {},
   "outputs": [
    {
     "data": {
      "text/plain": [
       "51.99196662384745"
      ]
     },
     "execution_count": 76,
     "metadata": {},
     "output_type": "execute_result"
    }
   ],
   "source": [
    "mean_absolute_error(y_test_normalized, y_pred_normalized)"
   ]
  },
  {
   "cell_type": "code",
   "execution_count": 71,
   "metadata": {},
   "outputs": [
    {
     "data": {
      "text/html": [
       "<div>\n",
       "<style scoped>\n",
       "    .dataframe tbody tr th:only-of-type {\n",
       "        vertical-align: middle;\n",
       "    }\n",
       "\n",
       "    .dataframe tbody tr th {\n",
       "        vertical-align: top;\n",
       "    }\n",
       "\n",
       "    .dataframe thead th {\n",
       "        text-align: right;\n",
       "    }\n",
       "</style>\n",
       "<table border=\"1\" class=\"dataframe\">\n",
       "  <thead>\n",
       "    <tr style=\"text-align: right;\">\n",
       "      <th></th>\n",
       "      <th>Normalized True Value</th>\n",
       "      <th>Normalized Predicted Value</th>\n",
       "      <th>True Value</th>\n",
       "      <th>Predicted Value</th>\n",
       "    </tr>\n",
       "  </thead>\n",
       "  <tbody>\n",
       "    <tr>\n",
       "      <th>0</th>\n",
       "      <td>0.615995</td>\n",
       "      <td>0.596043</td>\n",
       "      <td>734.078506</td>\n",
       "      <td>724.225342</td>\n",
       "    </tr>\n",
       "    <tr>\n",
       "      <th>1</th>\n",
       "      <td>0.658966</td>\n",
       "      <td>0.735942</td>\n",
       "      <td>755.299815</td>\n",
       "      <td>793.314636</td>\n",
       "    </tr>\n",
       "    <tr>\n",
       "      <th>2</th>\n",
       "      <td>0.827820</td>\n",
       "      <td>0.755891</td>\n",
       "      <td>838.688675</td>\n",
       "      <td>803.166382</td>\n",
       "    </tr>\n",
       "    <tr>\n",
       "      <th>3</th>\n",
       "      <td>0.521450</td>\n",
       "      <td>0.648736</td>\n",
       "      <td>687.387254</td>\n",
       "      <td>750.247986</td>\n",
       "    </tr>\n",
       "    <tr>\n",
       "      <th>4</th>\n",
       "      <td>0.784176</td>\n",
       "      <td>0.734997</td>\n",
       "      <td>817.135150</td>\n",
       "      <td>792.847656</td>\n",
       "    </tr>\n",
       "    <tr>\n",
       "      <th>5</th>\n",
       "      <td>0.543165</td>\n",
       "      <td>0.603512</td>\n",
       "      <td>698.111463</td>\n",
       "      <td>727.913757</td>\n",
       "    </tr>\n",
       "    <tr>\n",
       "      <th>6</th>\n",
       "      <td>0.401436</td>\n",
       "      <td>0.496269</td>\n",
       "      <td>628.118555</td>\n",
       "      <td>674.951599</td>\n",
       "    </tr>\n",
       "    <tr>\n",
       "      <th>7</th>\n",
       "      <td>0.401436</td>\n",
       "      <td>0.400598</td>\n",
       "      <td>628.118555</td>\n",
       "      <td>627.704651</td>\n",
       "    </tr>\n",
       "    <tr>\n",
       "      <th>8</th>\n",
       "      <td>0.644905</td>\n",
       "      <td>0.484820</td>\n",
       "      <td>748.355915</td>\n",
       "      <td>669.297852</td>\n",
       "    </tr>\n",
       "    <tr>\n",
       "      <th>9</th>\n",
       "      <td>0.670170</td>\n",
       "      <td>0.760925</td>\n",
       "      <td>760.832895</td>\n",
       "      <td>805.652466</td>\n",
       "    </tr>\n",
       "    <tr>\n",
       "      <th>10</th>\n",
       "      <td>0.674028</td>\n",
       "      <td>0.642436</td>\n",
       "      <td>762.738377</td>\n",
       "      <td>747.136536</td>\n",
       "    </tr>\n",
       "    <tr>\n",
       "      <th>11</th>\n",
       "      <td>0.670170</td>\n",
       "      <td>0.726406</td>\n",
       "      <td>760.832895</td>\n",
       "      <td>788.605042</td>\n",
       "    </tr>\n",
       "    <tr>\n",
       "      <th>12</th>\n",
       "      <td>0.521450</td>\n",
       "      <td>0.809700</td>\n",
       "      <td>687.387254</td>\n",
       "      <td>829.740112</td>\n",
       "    </tr>\n",
       "    <tr>\n",
       "      <th>13</th>\n",
       "      <td>0.543165</td>\n",
       "      <td>0.567572</td>\n",
       "      <td>698.111463</td>\n",
       "      <td>710.164734</td>\n",
       "    </tr>\n",
       "    <tr>\n",
       "      <th>14</th>\n",
       "      <td>0.697161</td>\n",
       "      <td>0.731964</td>\n",
       "      <td>774.162728</td>\n",
       "      <td>791.350159</td>\n",
       "    </tr>\n",
       "    <tr>\n",
       "      <th>15</th>\n",
       "      <td>0.790347</td>\n",
       "      <td>0.819763</td>\n",
       "      <td>820.182303</td>\n",
       "      <td>834.709351</td>\n",
       "    </tr>\n",
       "    <tr>\n",
       "      <th>16</th>\n",
       "      <td>0.658966</td>\n",
       "      <td>0.712640</td>\n",
       "      <td>755.299815</td>\n",
       "      <td>781.806946</td>\n",
       "    </tr>\n",
       "    <tr>\n",
       "      <th>17</th>\n",
       "      <td>0.820430</td>\n",
       "      <td>0.711870</td>\n",
       "      <td>835.039155</td>\n",
       "      <td>781.426514</td>\n",
       "    </tr>\n",
       "    <tr>\n",
       "      <th>18</th>\n",
       "      <td>0.658966</td>\n",
       "      <td>0.751114</td>\n",
       "      <td>755.299815</td>\n",
       "      <td>800.807129</td>\n",
       "    </tr>\n",
       "    <tr>\n",
       "      <th>19</th>\n",
       "      <td>0.048053</td>\n",
       "      <td>-0.230229</td>\n",
       "      <td>453.599871</td>\n",
       "      <td>316.170227</td>\n",
       "    </tr>\n",
       "    <tr>\n",
       "      <th>20</th>\n",
       "      <td>0.657271</td>\n",
       "      <td>0.782619</td>\n",
       "      <td>754.462984</td>\n",
       "      <td>816.366150</td>\n",
       "    </tr>\n",
       "    <tr>\n",
       "      <th>21</th>\n",
       "      <td>0.644905</td>\n",
       "      <td>0.465666</td>\n",
       "      <td>748.355915</td>\n",
       "      <td>659.838501</td>\n",
       "    </tr>\n",
       "    <tr>\n",
       "      <th>22</th>\n",
       "      <td>0.827820</td>\n",
       "      <td>0.770636</td>\n",
       "      <td>838.688675</td>\n",
       "      <td>810.448242</td>\n",
       "    </tr>\n",
       "    <tr>\n",
       "      <th>23</th>\n",
       "      <td>0.615995</td>\n",
       "      <td>0.547689</td>\n",
       "      <td>734.078506</td>\n",
       "      <td>700.345398</td>\n",
       "    </tr>\n",
       "    <tr>\n",
       "      <th>24</th>\n",
       "      <td>0.048053</td>\n",
       "      <td>0.126478</td>\n",
       "      <td>453.599871</td>\n",
       "      <td>492.330383</td>\n",
       "    </tr>\n",
       "    <tr>\n",
       "      <th>25</th>\n",
       "      <td>0.644905</td>\n",
       "      <td>0.469656</td>\n",
       "      <td>748.355915</td>\n",
       "      <td>661.808899</td>\n",
       "    </tr>\n",
       "    <tr>\n",
       "      <th>26</th>\n",
       "      <td>0.671875</td>\n",
       "      <td>0.738297</td>\n",
       "      <td>761.674899</td>\n",
       "      <td>794.477539</td>\n",
       "    </tr>\n",
       "    <tr>\n",
       "      <th>27</th>\n",
       "      <td>0.627686</td>\n",
       "      <td>0.632791</td>\n",
       "      <td>739.852453</td>\n",
       "      <td>742.373291</td>\n",
       "    </tr>\n",
       "    <tr>\n",
       "      <th>28</th>\n",
       "      <td>0.657271</td>\n",
       "      <td>0.778347</td>\n",
       "      <td>754.462984</td>\n",
       "      <td>814.256042</td>\n",
       "    </tr>\n",
       "    <tr>\n",
       "      <th>29</th>\n",
       "      <td>0.594637</td>\n",
       "      <td>0.403587</td>\n",
       "      <td>723.530703</td>\n",
       "      <td>629.180725</td>\n",
       "    </tr>\n",
       "    <tr>\n",
       "      <th>30</th>\n",
       "      <td>0.521450</td>\n",
       "      <td>0.805355</td>\n",
       "      <td>687.387254</td>\n",
       "      <td>827.594116</td>\n",
       "    </tr>\n",
       "    <tr>\n",
       "      <th>31</th>\n",
       "      <td>0.637189</td>\n",
       "      <td>0.772522</td>\n",
       "      <td>744.545116</td>\n",
       "      <td>811.379333</td>\n",
       "    </tr>\n",
       "    <tr>\n",
       "      <th>32</th>\n",
       "      <td>0.635999</td>\n",
       "      <td>0.671211</td>\n",
       "      <td>743.957447</td>\n",
       "      <td>761.346863</td>\n",
       "    </tr>\n",
       "    <tr>\n",
       "      <th>33</th>\n",
       "      <td>0.000000</td>\n",
       "      <td>0.288796</td>\n",
       "      <td>429.869040</td>\n",
       "      <td>572.491333</td>\n",
       "    </tr>\n",
       "    <tr>\n",
       "      <th>34</th>\n",
       "      <td>0.820430</td>\n",
       "      <td>0.754103</td>\n",
       "      <td>835.039155</td>\n",
       "      <td>802.283325</td>\n",
       "    </tr>\n",
       "    <tr>\n",
       "      <th>35</th>\n",
       "      <td>0.697161</td>\n",
       "      <td>0.740976</td>\n",
       "      <td>774.162728</td>\n",
       "      <td>795.800659</td>\n",
       "    </tr>\n",
       "    <tr>\n",
       "      <th>36</th>\n",
       "      <td>0.827820</td>\n",
       "      <td>0.767582</td>\n",
       "      <td>838.688675</td>\n",
       "      <td>808.939880</td>\n",
       "    </tr>\n",
       "    <tr>\n",
       "      <th>37</th>\n",
       "      <td>0.048053</td>\n",
       "      <td>0.100776</td>\n",
       "      <td>453.599871</td>\n",
       "      <td>479.637299</td>\n",
       "    </tr>\n",
       "    <tr>\n",
       "      <th>38</th>\n",
       "      <td>0.486547</td>\n",
       "      <td>0.495136</td>\n",
       "      <td>670.150608</td>\n",
       "      <td>674.392029</td>\n",
       "    </tr>\n",
       "    <tr>\n",
       "      <th>39</th>\n",
       "      <td>0.521450</td>\n",
       "      <td>0.818841</td>\n",
       "      <td>687.387254</td>\n",
       "      <td>834.254028</td>\n",
       "    </tr>\n",
       "    <tr>\n",
       "      <th>40</th>\n",
       "      <td>0.627686</td>\n",
       "      <td>0.697571</td>\n",
       "      <td>739.852453</td>\n",
       "      <td>774.365051</td>\n",
       "    </tr>\n",
       "    <tr>\n",
       "      <th>41</th>\n",
       "      <td>0.827820</td>\n",
       "      <td>0.734532</td>\n",
       "      <td>838.688675</td>\n",
       "      <td>792.618286</td>\n",
       "    </tr>\n",
       "    <tr>\n",
       "      <th>42</th>\n",
       "      <td>0.542197</td>\n",
       "      <td>0.765300</td>\n",
       "      <td>697.633357</td>\n",
       "      <td>807.812805</td>\n",
       "    </tr>\n",
       "    <tr>\n",
       "      <th>43</th>\n",
       "      <td>0.635999</td>\n",
       "      <td>0.668592</td>\n",
       "      <td>743.957447</td>\n",
       "      <td>760.053650</td>\n",
       "    </tr>\n",
       "    <tr>\n",
       "      <th>44</th>\n",
       "      <td>0.635999</td>\n",
       "      <td>0.675196</td>\n",
       "      <td>743.957447</td>\n",
       "      <td>763.315308</td>\n",
       "    </tr>\n",
       "    <tr>\n",
       "      <th>45</th>\n",
       "      <td>0.000000</td>\n",
       "      <td>0.295470</td>\n",
       "      <td>429.869040</td>\n",
       "      <td>575.787170</td>\n",
       "    </tr>\n",
       "  </tbody>\n",
       "</table>\n",
       "</div>"
      ],
      "text/plain": [
       "    Normalized True Value  Normalized Predicted Value  True Value  \\\n",
       "0                0.615995                    0.596043  734.078506   \n",
       "1                0.658966                    0.735942  755.299815   \n",
       "2                0.827820                    0.755891  838.688675   \n",
       "3                0.521450                    0.648736  687.387254   \n",
       "4                0.784176                    0.734997  817.135150   \n",
       "5                0.543165                    0.603512  698.111463   \n",
       "6                0.401436                    0.496269  628.118555   \n",
       "7                0.401436                    0.400598  628.118555   \n",
       "8                0.644905                    0.484820  748.355915   \n",
       "9                0.670170                    0.760925  760.832895   \n",
       "10               0.674028                    0.642436  762.738377   \n",
       "11               0.670170                    0.726406  760.832895   \n",
       "12               0.521450                    0.809700  687.387254   \n",
       "13               0.543165                    0.567572  698.111463   \n",
       "14               0.697161                    0.731964  774.162728   \n",
       "15               0.790347                    0.819763  820.182303   \n",
       "16               0.658966                    0.712640  755.299815   \n",
       "17               0.820430                    0.711870  835.039155   \n",
       "18               0.658966                    0.751114  755.299815   \n",
       "19               0.048053                   -0.230229  453.599871   \n",
       "20               0.657271                    0.782619  754.462984   \n",
       "21               0.644905                    0.465666  748.355915   \n",
       "22               0.827820                    0.770636  838.688675   \n",
       "23               0.615995                    0.547689  734.078506   \n",
       "24               0.048053                    0.126478  453.599871   \n",
       "25               0.644905                    0.469656  748.355915   \n",
       "26               0.671875                    0.738297  761.674899   \n",
       "27               0.627686                    0.632791  739.852453   \n",
       "28               0.657271                    0.778347  754.462984   \n",
       "29               0.594637                    0.403587  723.530703   \n",
       "30               0.521450                    0.805355  687.387254   \n",
       "31               0.637189                    0.772522  744.545116   \n",
       "32               0.635999                    0.671211  743.957447   \n",
       "33               0.000000                    0.288796  429.869040   \n",
       "34               0.820430                    0.754103  835.039155   \n",
       "35               0.697161                    0.740976  774.162728   \n",
       "36               0.827820                    0.767582  838.688675   \n",
       "37               0.048053                    0.100776  453.599871   \n",
       "38               0.486547                    0.495136  670.150608   \n",
       "39               0.521450                    0.818841  687.387254   \n",
       "40               0.627686                    0.697571  739.852453   \n",
       "41               0.827820                    0.734532  838.688675   \n",
       "42               0.542197                    0.765300  697.633357   \n",
       "43               0.635999                    0.668592  743.957447   \n",
       "44               0.635999                    0.675196  743.957447   \n",
       "45               0.000000                    0.295470  429.869040   \n",
       "\n",
       "    Predicted Value  \n",
       "0        724.225342  \n",
       "1        793.314636  \n",
       "2        803.166382  \n",
       "3        750.247986  \n",
       "4        792.847656  \n",
       "5        727.913757  \n",
       "6        674.951599  \n",
       "7        627.704651  \n",
       "8        669.297852  \n",
       "9        805.652466  \n",
       "10       747.136536  \n",
       "11       788.605042  \n",
       "12       829.740112  \n",
       "13       710.164734  \n",
       "14       791.350159  \n",
       "15       834.709351  \n",
       "16       781.806946  \n",
       "17       781.426514  \n",
       "18       800.807129  \n",
       "19       316.170227  \n",
       "20       816.366150  \n",
       "21       659.838501  \n",
       "22       810.448242  \n",
       "23       700.345398  \n",
       "24       492.330383  \n",
       "25       661.808899  \n",
       "26       794.477539  \n",
       "27       742.373291  \n",
       "28       814.256042  \n",
       "29       629.180725  \n",
       "30       827.594116  \n",
       "31       811.379333  \n",
       "32       761.346863  \n",
       "33       572.491333  \n",
       "34       802.283325  \n",
       "35       795.800659  \n",
       "36       808.939880  \n",
       "37       479.637299  \n",
       "38       674.392029  \n",
       "39       834.254028  \n",
       "40       774.365051  \n",
       "41       792.618286  \n",
       "42       807.812805  \n",
       "43       760.053650  \n",
       "44       763.315308  \n",
       "45       575.787170  "
      ]
     },
     "execution_count": 71,
     "metadata": {},
     "output_type": "execute_result"
    }
   ],
   "source": [
    "df_result=pd.DataFrame()\n",
    "\n",
    "df_result['Normalized True Value']=y_test\n",
    "df_result['Normalized Predicted Value']=y_pred\n",
    "df_result['True Value']=y_test_normalized\n",
    "df_result['Predicted Value']=y_pred_normalized\n",
    "df_result"
   ]
  },
  {
   "cell_type": "raw",
   "metadata": {},
   "source": []
  }
 ],
 "metadata": {
  "kernelspec": {
   "display_name": "Python 3",
   "language": "python",
   "name": "python3"
  },
  "language_info": {
   "codemirror_mode": {
    "name": "ipython",
    "version": 3
   },
   "file_extension": ".py",
   "mimetype": "text/x-python",
   "name": "python",
   "nbconvert_exporter": "python",
   "pygments_lexer": "ipython3",
   "version": "3.7.6"
  }
 },
 "nbformat": 4,
 "nbformat_minor": 4
}
