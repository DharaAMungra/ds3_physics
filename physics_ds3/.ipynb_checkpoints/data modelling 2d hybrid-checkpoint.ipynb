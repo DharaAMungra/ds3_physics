{
 "cells": [
  {
   "cell_type": "code",
   "execution_count": 1,
   "metadata": {},
   "outputs": [
    {
     "name": "stderr",
     "output_type": "stream",
     "text": [
      "Using TensorFlow backend.\n"
     ]
    }
   ],
   "source": [
    "import matplotlib.pyplot as plt\n",
    "import numpy as np\n",
    "import pandas as pd\n",
    "import glob\n",
    "from sklearn.model_selection import train_test_split\n",
    "from sklearn.model_selection import cross_val_score\n",
    "from sklearn.model_selection import KFold\n",
    "from sklearn.pipeline import Pipeline\n",
    "from sklearn.preprocessing import MinMaxScaler\n",
    "from sklearn.preprocessing import StandardScaler\n",
    "from keras.models import Sequential\n",
    "from keras.layers import Dense\n",
    "from keras.layers import Dropout\n",
    "from keras.layers import LSTM\n",
    "from keras.wrappers.scikit_learn import KerasRegressor\n",
    "from keras.models import Model\n",
    "from keras.layers import Input\n",
    "from keras.layers import Embedding\n",
    "from keras.layers.merge import add\n",
    "from keras.models import Sequential\n",
    "from keras.layers import Dense\n",
    "from keras.layers import Flatten\n",
    "from keras.layers import Dropout\n",
    "from keras.layers.convolutional import Conv1D\n",
    "from keras.layers.convolutional import MaxPooling1D\n",
    "from keras.layers.convolutional import Conv2D\n",
    "from keras.layers.convolutional import MaxPooling2D\n",
    "from keras.utils import to_categorical\n",
    "\n",
    "\n",
    "from sklearn.metrics import mean_absolute_error\n",
    "from sklearn.metrics import mean_squared_error"
   ]
  },
  {
   "cell_type": "code",
   "execution_count": 2,
   "metadata": {},
   "outputs": [],
   "source": [
    "group_data=pd.read_csv('data_showerPlane.csv')\n",
    "df=pd.read_csv('data_showerPlane.csv')"
   ]
  },
  {
   "cell_type": "code",
   "execution_count": null,
   "metadata": {},
   "outputs": [],
   "source": []
  },
  {
   "cell_type": "code",
   "execution_count": 3,
   "metadata": {},
   "outputs": [],
   "source": [
    "E = group_data.sdEnergy.unique()\n",
    "lgE = np.log10(E)\n",
    "lgEmin = 18.4\n",
    "lgEmax = 20.1\n",
    "dlgE = 0.1\n",
    "\n",
    "lgECenters = np.arange(lgEmin + dlgE/2., lgEmax, dlgE)\n",
    "ECenters = 10.**lgECenters\n",
    "Counts = np.zeros(len(lgECenters))\n",
    "c=np.zeros(len(lgE))\n",
    "for i in range(0, len(lgE)):\n",
    "    thisLgE = lgE[i]\n",
    "    ibin = int((thisLgE - lgEmin)/dlgE)\n",
    "\n",
    "    if(thisLgE < lgEmin or thisLgE > lgEmax):\n",
    "        print (\"Event energy out of range: lgE =\", thisLgE)\n",
    "        sys.exit()\n",
    "\n",
    "    Counts[ibin] +=1\n",
    "    c[i]=ibin"
   ]
  },
  {
   "cell_type": "code",
   "execution_count": 14,
   "metadata": {},
   "outputs": [
    {
     "name": "stdout",
     "output_type": "stream",
     "text": [
      "training data count 4434\n",
      "testing data count 1488\n",
      "validation data count 1479\n",
      "train data (4434, 20695)\n",
      "test data (1488, 20695)\n",
      "val data (1479, 20695)\n",
      "7401\n"
     ]
    }
   ],
   "source": [
    "train_count=[]\n",
    "test_count=[]\n",
    "val_count=[]\n",
    "train=pd.DataFrame()\n",
    "test=pd.DataFrame()\n",
    "val=pd.DataFrame()\n",
    "#group_data=df.copy()\n",
    "for i in range(len(Counts)):\n",
    "    id1=[]\n",
    "    for j in range(len(c)):\n",
    "        if i==c[j]:\n",
    "            id1.append(df.eventId.unique()[j])\n",
    "    if len(id1)>2:\n",
    "        train_id,temp=train_test_split(id1, test_size=0.4, random_state=42)\n",
    "        val_id,test_id=train_test_split(temp, test_size=0.5, random_state=42)\n",
    "\n",
    "        train_temp = group_data.loc[group_data['eventId'].isin(train_id)]\n",
    "        test_temp = group_data.loc[group_data['eventId'].isin(test_id)]\n",
    "        val_temp = group_data.loc[group_data['eventId'].isin(val_id)]\n",
    "\n",
    "        train=train.append(train_temp,ignore_index=True)\n",
    "        test=test.append(test_temp,ignore_index=True)\n",
    "        val=val.append(val_temp,ignore_index=True)\n",
    "        \n",
    "        train_count.append(train_temp.shape[0])\n",
    "        test_count.append(test_temp.shape[0])\n",
    "        val_count.append(val_temp.shape[0])\n",
    "    elif len(id1)==2:\n",
    "        train_id,test_id=train_test_split(id1, test_size=0.5, random_state=42)\n",
    "        #val_id,test_id=train_test_split(temp, test_size=0.5, random_state=42)\n",
    "\n",
    "        train_temp = group_data.loc[group_data['eventId'].isin(train_id)]\n",
    "        test_temp = group_data.loc[group_data['eventId'].isin(test_id)]\n",
    "        #val_temp = group_data.loc[group_data['eventId'].isin(val_id)]\n",
    "\n",
    "        train=train.append(train_temp,ignore_index=True)\n",
    "        test=test.append(test_temp,ignore_index=True)\n",
    "        #val=val.append(val_temp,ignore_index=True)\n",
    "        \n",
    "        train_count.append(train_temp.shape[0])\n",
    "        test_count.append(test_temp.shape[0])\n",
    "        val_count.append(0)\n",
    "    \n",
    "    elif len(id1)==1:\n",
    "        \n",
    "        test_temp = group_data.loc[group_data['eventId'].isin(id1)]\n",
    "        \n",
    "\n",
    "        test=test.append(test_temp,ignore_index=True)\n",
    "        \n",
    "        train_count.append(0)\n",
    "        test_count.append(test_temp.shape[0])\n",
    "        val_count.append(0)\n",
    "    \n",
    "    else:\n",
    "        train_count.append(0)\n",
    "        test_count.append(0)\n",
    "        val_count.append(0)\n",
    "    \n",
    "print('training data count',sum(train_count))\n",
    "print('testing data count',sum(test_count))\n",
    "print('validation data count',sum(val_count))\n",
    "print('train data',train.shape)\n",
    "print('test data',test.shape)\n",
    "print('val data',val.shape)\n",
    "print(sum(train_count)+sum(test_count)+sum(val_count))   \n",
    "\n",
    "assert (sum(train_count)+sum(test_count)+sum(val_count))==group_data.shape[0]\n",
    "train_count = pd.DataFrame(train_count)\n",
    "train_count.to_csv('train_count.csv')\n",
    "\n",
    "test_count = pd.DataFrame(test_count)\n",
    "test_count.to_csv('test_count.csv')\n",
    "\n",
    "val_count = pd.DataFrame(val_count)\n",
    "val_count.to_csv('val_count.csv')\n",
    "\n",
    "df_train=train.drop(columns=[ 'eventId', 'sId', 'sPMT','sTimeSec', 'sTimeNsec',\n",
    "       'sSignalStart', 'sSignalEnd','fdXmaxErr','sVEM','sStatus','sXrel','sYrel','sZrel'])\n",
    "df_test=test.drop(columns=['eventId', 'sId', 'sPMT','sTimeSec', 'sTimeNsec',\n",
    "       'sSignalStart', 'sSignalEnd','fdXmaxErr','sVEM','sStatus','sXrel','sYrel','sZrel'])\n",
    "df_val=val.drop(columns=['eventId', 'sId', 'sPMT','sTimeSec', 'sTimeNsec',\n",
    "       'sSignalStart', 'sSignalEnd','fdXmaxErr','sVEM','sStatus','sXrel','sYrel','sZrel'])\n",
    "df.shape\n",
    "\n",
    "df_train.to_csv('train.csv',index=False)\n",
    "df_test.to_csv('test.csv',index=False)\n",
    "df_val.to_csv('val.csv',index=False)"
   ]
  },
  {
   "cell_type": "code",
   "execution_count": 15,
   "metadata": {},
   "outputs": [
    {
     "data": {
      "text/html": [
       "<div>\n",
       "<style scoped>\n",
       "    .dataframe tbody tr th:only-of-type {\n",
       "        vertical-align: middle;\n",
       "    }\n",
       "\n",
       "    .dataframe tbody tr th {\n",
       "        vertical-align: top;\n",
       "    }\n",
       "\n",
       "    .dataframe thead th {\n",
       "        text-align: right;\n",
       "    }\n",
       "</style>\n",
       "<table border=\"1\" class=\"dataframe\">\n",
       "  <thead>\n",
       "    <tr style=\"text-align: right;\">\n",
       "      <th></th>\n",
       "      <th>sdEnergy</th>\n",
       "      <th>sdEnergyErr</th>\n",
       "      <th>sdZenith</th>\n",
       "      <th>sdZenithErr</th>\n",
       "      <th>sdAzimuth</th>\n",
       "      <th>sdAzimuthErr</th>\n",
       "      <th>sdXpos</th>\n",
       "      <th>sdYpos</th>\n",
       "      <th>sdZpos</th>\n",
       "      <th>sdS1000</th>\n",
       "      <th>...</th>\n",
       "      <th>20654</th>\n",
       "      <th>20655</th>\n",
       "      <th>20656</th>\n",
       "      <th>20657</th>\n",
       "      <th>20658</th>\n",
       "      <th>20659</th>\n",
       "      <th>20660</th>\n",
       "      <th>20661</th>\n",
       "      <th>20662</th>\n",
       "      <th>20663</th>\n",
       "    </tr>\n",
       "  </thead>\n",
       "  <tbody>\n",
       "    <tr>\n",
       "      <th>0</th>\n",
       "      <td>3.138647e+18</td>\n",
       "      <td>2.801037e+17</td>\n",
       "      <td>0.463848</td>\n",
       "      <td>0.014005</td>\n",
       "      <td>3.027156</td>\n",
       "      <td>0.020307</td>\n",
       "      <td>15347.373519</td>\n",
       "      <td>4975.742699</td>\n",
       "      <td>-50.652914</td>\n",
       "      <td>16.626589</td>\n",
       "      <td>...</td>\n",
       "      <td>0.0</td>\n",
       "      <td>0.0</td>\n",
       "      <td>0.0</td>\n",
       "      <td>0.0</td>\n",
       "      <td>0.0</td>\n",
       "      <td>0.0</td>\n",
       "      <td>0.0</td>\n",
       "      <td>0.0</td>\n",
       "      <td>0.0</td>\n",
       "      <td>0.0</td>\n",
       "    </tr>\n",
       "    <tr>\n",
       "      <th>1</th>\n",
       "      <td>3.063498e+18</td>\n",
       "      <td>2.790158e+17</td>\n",
       "      <td>0.248796</td>\n",
       "      <td>0.007995</td>\n",
       "      <td>2.800728</td>\n",
       "      <td>0.035238</td>\n",
       "      <td>-15936.753660</td>\n",
       "      <td>-8170.523111</td>\n",
       "      <td>-8.082350</td>\n",
       "      <td>16.773603</td>\n",
       "      <td>...</td>\n",
       "      <td>0.0</td>\n",
       "      <td>0.0</td>\n",
       "      <td>0.0</td>\n",
       "      <td>0.0</td>\n",
       "      <td>0.0</td>\n",
       "      <td>0.0</td>\n",
       "      <td>0.0</td>\n",
       "      <td>0.0</td>\n",
       "      <td>0.0</td>\n",
       "      <td>0.0</td>\n",
       "    </tr>\n",
       "    <tr>\n",
       "      <th>2</th>\n",
       "      <td>3.047137e+18</td>\n",
       "      <td>2.812039e+17</td>\n",
       "      <td>0.731444</td>\n",
       "      <td>0.008776</td>\n",
       "      <td>3.738703</td>\n",
       "      <td>0.011859</td>\n",
       "      <td>4014.551525</td>\n",
       "      <td>-15296.649668</td>\n",
       "      <td>-38.681461</td>\n",
       "      <td>14.146018</td>\n",
       "      <td>...</td>\n",
       "      <td>0.0</td>\n",
       "      <td>0.0</td>\n",
       "      <td>0.0</td>\n",
       "      <td>0.0</td>\n",
       "      <td>0.0</td>\n",
       "      <td>0.0</td>\n",
       "      <td>0.0</td>\n",
       "      <td>0.0</td>\n",
       "      <td>0.0</td>\n",
       "      <td>0.0</td>\n",
       "    </tr>\n",
       "    <tr>\n",
       "      <th>3</th>\n",
       "      <td>3.047067e+18</td>\n",
       "      <td>2.556713e+17</td>\n",
       "      <td>0.396447</td>\n",
       "      <td>0.006233</td>\n",
       "      <td>2.157377</td>\n",
       "      <td>0.037725</td>\n",
       "      <td>-18150.532451</td>\n",
       "      <td>14058.084574</td>\n",
       "      <td>45.856079</td>\n",
       "      <td>16.342450</td>\n",
       "      <td>...</td>\n",
       "      <td>0.0</td>\n",
       "      <td>0.0</td>\n",
       "      <td>0.0</td>\n",
       "      <td>0.0</td>\n",
       "      <td>0.0</td>\n",
       "      <td>0.0</td>\n",
       "      <td>0.0</td>\n",
       "      <td>0.0</td>\n",
       "      <td>0.0</td>\n",
       "      <td>0.0</td>\n",
       "    </tr>\n",
       "    <tr>\n",
       "      <th>4</th>\n",
       "      <td>3.113389e+18</td>\n",
       "      <td>2.654663e+17</td>\n",
       "      <td>0.610413</td>\n",
       "      <td>0.006552</td>\n",
       "      <td>3.446171</td>\n",
       "      <td>0.011263</td>\n",
       "      <td>-22272.795265</td>\n",
       "      <td>22213.591911</td>\n",
       "      <td>42.031451</td>\n",
       "      <td>16.172810</td>\n",
       "      <td>...</td>\n",
       "      <td>0.0</td>\n",
       "      <td>0.0</td>\n",
       "      <td>0.0</td>\n",
       "      <td>0.0</td>\n",
       "      <td>0.0</td>\n",
       "      <td>0.0</td>\n",
       "      <td>0.0</td>\n",
       "      <td>0.0</td>\n",
       "      <td>0.0</td>\n",
       "      <td>0.0</td>\n",
       "    </tr>\n",
       "  </tbody>\n",
       "</table>\n",
       "<p>5 rows × 20682 columns</p>\n",
       "</div>"
      ],
      "text/plain": [
       "       sdEnergy   sdEnergyErr  sdZenith  sdZenithErr  sdAzimuth  sdAzimuthErr  \\\n",
       "0  3.138647e+18  2.801037e+17  0.463848     0.014005   3.027156      0.020307   \n",
       "1  3.063498e+18  2.790158e+17  0.248796     0.007995   2.800728      0.035238   \n",
       "2  3.047137e+18  2.812039e+17  0.731444     0.008776   3.738703      0.011859   \n",
       "3  3.047067e+18  2.556713e+17  0.396447     0.006233   2.157377      0.037725   \n",
       "4  3.113389e+18  2.654663e+17  0.610413     0.006552   3.446171      0.011263   \n",
       "\n",
       "         sdXpos        sdYpos     sdZpos    sdS1000  ...  20654  20655  20656  \\\n",
       "0  15347.373519   4975.742699 -50.652914  16.626589  ...    0.0    0.0    0.0   \n",
       "1 -15936.753660  -8170.523111  -8.082350  16.773603  ...    0.0    0.0    0.0   \n",
       "2   4014.551525 -15296.649668 -38.681461  14.146018  ...    0.0    0.0    0.0   \n",
       "3 -18150.532451  14058.084574  45.856079  16.342450  ...    0.0    0.0    0.0   \n",
       "4 -22272.795265  22213.591911  42.031451  16.172810  ...    0.0    0.0    0.0   \n",
       "\n",
       "   20657  20658  20659  20660  20661  20662  20663  \n",
       "0    0.0    0.0    0.0    0.0    0.0    0.0    0.0  \n",
       "1    0.0    0.0    0.0    0.0    0.0    0.0    0.0  \n",
       "2    0.0    0.0    0.0    0.0    0.0    0.0    0.0  \n",
       "3    0.0    0.0    0.0    0.0    0.0    0.0    0.0  \n",
       "4    0.0    0.0    0.0    0.0    0.0    0.0    0.0  \n",
       "\n",
       "[5 rows x 20682 columns]"
      ]
     },
     "execution_count": 15,
     "metadata": {},
     "output_type": "execute_result"
    }
   ],
   "source": [
    "df_train=pd.read_csv('train.csv')\n",
    "df_train.head()"
   ]
  },
  {
   "cell_type": "code",
   "execution_count": 61,
   "metadata": {},
   "outputs": [],
   "source": [
    "y_train=np.array(df_train['fdXmax'].to_list())\n",
    "y_train=np.reshape(y_train, (-1,1))\n",
    "X_train=df_train.drop(columns=['fdXmax'])\n",
    "\n",
    "y_test=np.array(df_test['fdXmax'].to_list())\n",
    "y_test=np.reshape(y_test, (-1,1))\n",
    "X_test=df_test.drop(columns=['fdXmax'])\n",
    "\n",
    "y_val=np.array(df_val['fdXmax'].to_list())\n",
    "y_val=np.reshape(y_val, (-1,1))\n",
    "X_val=df_val.drop(columns=['fdXmax'])\n",
    "#X_train, X_test, y_train, y_test = train_test_split(X, y, test_size=0.2, random_state=42)"
   ]
  },
  {
   "cell_type": "code",
   "execution_count": 62,
   "metadata": {},
   "outputs": [],
   "source": [
    "X_train1=X_train.iloc[: ,0:17].copy()\n",
    "X_train2=X_train.iloc[: ,17:].copy()\n",
    "X_test1=X_test.iloc[: ,0:17].copy()\n",
    "X_test2=X_test.iloc[: ,17:].copy()\n",
    "X_val1=X_val.iloc[: ,0:17].copy()\n",
    "X_val2=X_val.iloc[: ,17:].copy()"
   ]
  },
  {
   "cell_type": "code",
   "execution_count": 63,
   "metadata": {},
   "outputs": [
    {
     "data": {
      "text/html": [
       "<div>\n",
       "<style scoped>\n",
       "    .dataframe tbody tr th:only-of-type {\n",
       "        vertical-align: middle;\n",
       "    }\n",
       "\n",
       "    .dataframe tbody tr th {\n",
       "        vertical-align: top;\n",
       "    }\n",
       "\n",
       "    .dataframe thead th {\n",
       "        text-align: right;\n",
       "    }\n",
       "</style>\n",
       "<table border=\"1\" class=\"dataframe\">\n",
       "  <thead>\n",
       "    <tr style=\"text-align: right;\">\n",
       "      <th></th>\n",
       "      <th>sdEnergy</th>\n",
       "      <th>sdEnergyErr</th>\n",
       "      <th>sdZenith</th>\n",
       "      <th>sdZenithErr</th>\n",
       "      <th>sdAzimuth</th>\n",
       "      <th>sdAzimuthErr</th>\n",
       "      <th>sdXpos</th>\n",
       "      <th>sdYpos</th>\n",
       "      <th>sdZpos</th>\n",
       "      <th>sdS1000</th>\n",
       "      <th>sdS1000Err</th>\n",
       "      <th>sdRopt</th>\n",
       "      <th>sdRoptErr</th>\n",
       "      <th>sdBeta</th>\n",
       "      <th>sdBetaErr</th>\n",
       "      <th>sdGamma</th>\n",
       "      <th>sdGammaErr</th>\n",
       "    </tr>\n",
       "  </thead>\n",
       "  <tbody>\n",
       "    <tr>\n",
       "      <th>0</th>\n",
       "      <td>3.138647e+18</td>\n",
       "      <td>2.801037e+17</td>\n",
       "      <td>0.463848</td>\n",
       "      <td>0.014005</td>\n",
       "      <td>3.027156</td>\n",
       "      <td>0.020307</td>\n",
       "      <td>15347.373519</td>\n",
       "      <td>4975.742699</td>\n",
       "      <td>-50.652914</td>\n",
       "      <td>16.626589</td>\n",
       "      <td>1.439067</td>\n",
       "      <td>899.296111</td>\n",
       "      <td>0.0</td>\n",
       "      <td>-2.276764</td>\n",
       "      <td>0.0</td>\n",
       "      <td>0.022817</td>\n",
       "      <td>0.0</td>\n",
       "    </tr>\n",
       "    <tr>\n",
       "      <th>1</th>\n",
       "      <td>3.063498e+18</td>\n",
       "      <td>2.790158e+17</td>\n",
       "      <td>0.248796</td>\n",
       "      <td>0.007995</td>\n",
       "      <td>2.800728</td>\n",
       "      <td>0.035238</td>\n",
       "      <td>-15936.753660</td>\n",
       "      <td>-8170.523111</td>\n",
       "      <td>-8.082350</td>\n",
       "      <td>16.773603</td>\n",
       "      <td>1.481627</td>\n",
       "      <td>916.845377</td>\n",
       "      <td>0.0</td>\n",
       "      <td>-2.358227</td>\n",
       "      <td>0.0</td>\n",
       "      <td>0.029094</td>\n",
       "      <td>0.0</td>\n",
       "    </tr>\n",
       "    <tr>\n",
       "      <th>2</th>\n",
       "      <td>3.047137e+18</td>\n",
       "      <td>2.812039e+17</td>\n",
       "      <td>0.731444</td>\n",
       "      <td>0.008776</td>\n",
       "      <td>3.738703</td>\n",
       "      <td>0.011859</td>\n",
       "      <td>4014.551525</td>\n",
       "      <td>-15296.649668</td>\n",
       "      <td>-38.681461</td>\n",
       "      <td>14.146018</td>\n",
       "      <td>1.266091</td>\n",
       "      <td>766.425727</td>\n",
       "      <td>0.0</td>\n",
       "      <td>-2.067069</td>\n",
       "      <td>0.0</td>\n",
       "      <td>0.019680</td>\n",
       "      <td>0.0</td>\n",
       "    </tr>\n",
       "    <tr>\n",
       "      <th>3</th>\n",
       "      <td>3.047067e+18</td>\n",
       "      <td>2.556713e+17</td>\n",
       "      <td>0.396447</td>\n",
       "      <td>0.006233</td>\n",
       "      <td>2.157377</td>\n",
       "      <td>0.037725</td>\n",
       "      <td>-18150.532451</td>\n",
       "      <td>14058.084574</td>\n",
       "      <td>45.856079</td>\n",
       "      <td>16.342450</td>\n",
       "      <td>1.329899</td>\n",
       "      <td>844.816568</td>\n",
       "      <td>0.0</td>\n",
       "      <td>-2.306792</td>\n",
       "      <td>0.0</td>\n",
       "      <td>0.028717</td>\n",
       "      <td>0.0</td>\n",
       "    </tr>\n",
       "    <tr>\n",
       "      <th>4</th>\n",
       "      <td>3.113389e+18</td>\n",
       "      <td>2.654663e+17</td>\n",
       "      <td>0.610413</td>\n",
       "      <td>0.006552</td>\n",
       "      <td>3.446171</td>\n",
       "      <td>0.011263</td>\n",
       "      <td>-22272.795265</td>\n",
       "      <td>22213.591911</td>\n",
       "      <td>42.031451</td>\n",
       "      <td>16.172810</td>\n",
       "      <td>1.337405</td>\n",
       "      <td>849.737779</td>\n",
       "      <td>0.0</td>\n",
       "      <td>-2.181665</td>\n",
       "      <td>0.0</td>\n",
       "      <td>0.000221</td>\n",
       "      <td>0.0</td>\n",
       "    </tr>\n",
       "    <tr>\n",
       "      <th>...</th>\n",
       "      <td>...</td>\n",
       "      <td>...</td>\n",
       "      <td>...</td>\n",
       "      <td>...</td>\n",
       "      <td>...</td>\n",
       "      <td>...</td>\n",
       "      <td>...</td>\n",
       "      <td>...</td>\n",
       "      <td>...</td>\n",
       "      <td>...</td>\n",
       "      <td>...</td>\n",
       "      <td>...</td>\n",
       "      <td>...</td>\n",
       "      <td>...</td>\n",
       "      <td>...</td>\n",
       "      <td>...</td>\n",
       "      <td>...</td>\n",
       "    </tr>\n",
       "    <tr>\n",
       "      <th>4429</th>\n",
       "      <td>5.322475e+19</td>\n",
       "      <td>1.203117e+18</td>\n",
       "      <td>0.458918</td>\n",
       "      <td>0.003150</td>\n",
       "      <td>3.235022</td>\n",
       "      <td>0.008299</td>\n",
       "      <td>-7392.877993</td>\n",
       "      <td>-24857.185342</td>\n",
       "      <td>-70.748652</td>\n",
       "      <td>263.077604</td>\n",
       "      <td>5.767395</td>\n",
       "      <td>941.739558</td>\n",
       "      <td>0.0</td>\n",
       "      <td>-2.434238</td>\n",
       "      <td>0.0</td>\n",
       "      <td>0.125051</td>\n",
       "      <td>0.0</td>\n",
       "    </tr>\n",
       "    <tr>\n",
       "      <th>4430</th>\n",
       "      <td>7.882033e+19</td>\n",
       "      <td>2.540938e+18</td>\n",
       "      <td>0.942027</td>\n",
       "      <td>0.001518</td>\n",
       "      <td>1.755937</td>\n",
       "      <td>0.001733</td>\n",
       "      <td>-4133.785838</td>\n",
       "      <td>-5410.221151</td>\n",
       "      <td>-5.659058</td>\n",
       "      <td>217.205010</td>\n",
       "      <td>6.790896</td>\n",
       "      <td>1219.751251</td>\n",
       "      <td>0.0</td>\n",
       "      <td>-2.053392</td>\n",
       "      <td>0.0</td>\n",
       "      <td>0.059683</td>\n",
       "      <td>0.0</td>\n",
       "    </tr>\n",
       "    <tr>\n",
       "      <th>4431</th>\n",
       "      <td>6.740248e+19</td>\n",
       "      <td>2.309273e+18</td>\n",
       "      <td>0.773261</td>\n",
       "      <td>0.002460</td>\n",
       "      <td>3.220827</td>\n",
       "      <td>0.003438</td>\n",
       "      <td>-17534.778750</td>\n",
       "      <td>2783.445290</td>\n",
       "      <td>19.544182</td>\n",
       "      <td>275.456417</td>\n",
       "      <td>9.152792</td>\n",
       "      <td>1359.422676</td>\n",
       "      <td>0.0</td>\n",
       "      <td>-2.246514</td>\n",
       "      <td>0.0</td>\n",
       "      <td>0.075458</td>\n",
       "      <td>0.0</td>\n",
       "    </tr>\n",
       "    <tr>\n",
       "      <th>4432</th>\n",
       "      <td>7.143317e+19</td>\n",
       "      <td>1.570415e+18</td>\n",
       "      <td>0.321499</td>\n",
       "      <td>0.003083</td>\n",
       "      <td>6.135777</td>\n",
       "      <td>0.010215</td>\n",
       "      <td>-24152.817726</td>\n",
       "      <td>23553.837467</td>\n",
       "      <td>36.191806</td>\n",
       "      <td>359.566873</td>\n",
       "      <td>7.666473</td>\n",
       "      <td>1012.975516</td>\n",
       "      <td>0.0</td>\n",
       "      <td>-2.496097</td>\n",
       "      <td>0.0</td>\n",
       "      <td>0.159407</td>\n",
       "      <td>0.0</td>\n",
       "    </tr>\n",
       "    <tr>\n",
       "      <th>4433</th>\n",
       "      <td>1.033943e+20</td>\n",
       "      <td>3.066595e+18</td>\n",
       "      <td>0.416048</td>\n",
       "      <td>0.002698</td>\n",
       "      <td>1.894964</td>\n",
       "      <td>0.006820</td>\n",
       "      <td>-15407.548284</td>\n",
       "      <td>-8760.171290</td>\n",
       "      <td>-10.474802</td>\n",
       "      <td>515.410156</td>\n",
       "      <td>14.825670</td>\n",
       "      <td>1504.653371</td>\n",
       "      <td>0.0</td>\n",
       "      <td>-2.487372</td>\n",
       "      <td>0.0</td>\n",
       "      <td>0.123795</td>\n",
       "      <td>0.0</td>\n",
       "    </tr>\n",
       "  </tbody>\n",
       "</table>\n",
       "<p>4434 rows × 17 columns</p>\n",
       "</div>"
      ],
      "text/plain": [
       "          sdEnergy   sdEnergyErr  sdZenith  sdZenithErr  sdAzimuth  \\\n",
       "0     3.138647e+18  2.801037e+17  0.463848     0.014005   3.027156   \n",
       "1     3.063498e+18  2.790158e+17  0.248796     0.007995   2.800728   \n",
       "2     3.047137e+18  2.812039e+17  0.731444     0.008776   3.738703   \n",
       "3     3.047067e+18  2.556713e+17  0.396447     0.006233   2.157377   \n",
       "4     3.113389e+18  2.654663e+17  0.610413     0.006552   3.446171   \n",
       "...            ...           ...       ...          ...        ...   \n",
       "4429  5.322475e+19  1.203117e+18  0.458918     0.003150   3.235022   \n",
       "4430  7.882033e+19  2.540938e+18  0.942027     0.001518   1.755937   \n",
       "4431  6.740248e+19  2.309273e+18  0.773261     0.002460   3.220827   \n",
       "4432  7.143317e+19  1.570415e+18  0.321499     0.003083   6.135777   \n",
       "4433  1.033943e+20  3.066595e+18  0.416048     0.002698   1.894964   \n",
       "\n",
       "      sdAzimuthErr        sdXpos        sdYpos     sdZpos     sdS1000  \\\n",
       "0         0.020307  15347.373519   4975.742699 -50.652914   16.626589   \n",
       "1         0.035238 -15936.753660  -8170.523111  -8.082350   16.773603   \n",
       "2         0.011859   4014.551525 -15296.649668 -38.681461   14.146018   \n",
       "3         0.037725 -18150.532451  14058.084574  45.856079   16.342450   \n",
       "4         0.011263 -22272.795265  22213.591911  42.031451   16.172810   \n",
       "...            ...           ...           ...        ...         ...   \n",
       "4429      0.008299  -7392.877993 -24857.185342 -70.748652  263.077604   \n",
       "4430      0.001733  -4133.785838  -5410.221151  -5.659058  217.205010   \n",
       "4431      0.003438 -17534.778750   2783.445290  19.544182  275.456417   \n",
       "4432      0.010215 -24152.817726  23553.837467  36.191806  359.566873   \n",
       "4433      0.006820 -15407.548284  -8760.171290 -10.474802  515.410156   \n",
       "\n",
       "      sdS1000Err       sdRopt  sdRoptErr    sdBeta  sdBetaErr   sdGamma  \\\n",
       "0       1.439067   899.296111        0.0 -2.276764        0.0  0.022817   \n",
       "1       1.481627   916.845377        0.0 -2.358227        0.0  0.029094   \n",
       "2       1.266091   766.425727        0.0 -2.067069        0.0  0.019680   \n",
       "3       1.329899   844.816568        0.0 -2.306792        0.0  0.028717   \n",
       "4       1.337405   849.737779        0.0 -2.181665        0.0  0.000221   \n",
       "...          ...          ...        ...       ...        ...       ...   \n",
       "4429    5.767395   941.739558        0.0 -2.434238        0.0  0.125051   \n",
       "4430    6.790896  1219.751251        0.0 -2.053392        0.0  0.059683   \n",
       "4431    9.152792  1359.422676        0.0 -2.246514        0.0  0.075458   \n",
       "4432    7.666473  1012.975516        0.0 -2.496097        0.0  0.159407   \n",
       "4433   14.825670  1504.653371        0.0 -2.487372        0.0  0.123795   \n",
       "\n",
       "      sdGammaErr  \n",
       "0            0.0  \n",
       "1            0.0  \n",
       "2            0.0  \n",
       "3            0.0  \n",
       "4            0.0  \n",
       "...          ...  \n",
       "4429         0.0  \n",
       "4430         0.0  \n",
       "4431         0.0  \n",
       "4432         0.0  \n",
       "4433         0.0  \n",
       "\n",
       "[4434 rows x 17 columns]"
      ]
     },
     "execution_count": 63,
     "metadata": {},
     "output_type": "execute_result"
    }
   ],
   "source": [
    "X_train1"
   ]
  },
  {
   "cell_type": "code",
   "execution_count": 64,
   "metadata": {
    "scrolled": true
   },
   "outputs": [
    {
     "data": {
      "text/plain": [
       "Index(['sdEnergy', 'sdEnergyErr', 'sdZenith', 'sdZenithErr', 'sdAzimuth',\n",
       "       'sdAzimuthErr', 'sdXpos', 'sdYpos', 'sdZpos', 'sdS1000',\n",
       "       ...\n",
       "       '20654', '20655', '20656', '20657', '20658', '20659', '20660', '20661',\n",
       "       '20662', '20663'],\n",
       "      dtype='object', length=20681)"
      ]
     },
     "execution_count": 64,
     "metadata": {},
     "output_type": "execute_result"
    }
   ],
   "source": [
    "X_train.columns"
   ]
  },
  {
   "cell_type": "code",
   "execution_count": 65,
   "metadata": {},
   "outputs": [],
   "source": [
    "#y_train=np.array(df_train['fdXmax'].to_list())\n",
    "#y_train=np.reshape(y_train, (-1,1))"
   ]
  },
  {
   "cell_type": "code",
   "execution_count": 66,
   "metadata": {},
   "outputs": [],
   "source": [
    "\n",
    "#X_train, X_test, y_train, y_test = train_test_split(X, y,test_size=0.1)\n"
   ]
  },
  {
   "cell_type": "code",
   "execution_count": 67,
   "metadata": {},
   "outputs": [
    {
     "data": {
      "text/plain": [
       "4434"
      ]
     },
     "execution_count": 67,
     "metadata": {},
     "output_type": "execute_result"
    }
   ],
   "source": [
    "y_train.shape[0]"
   ]
  },
  {
   "cell_type": "code",
   "execution_count": 68,
   "metadata": {},
   "outputs": [],
   "source": [
    "scaler_x1 = MinMaxScaler()\n",
    "scaler_x2 = MinMaxScaler()\n",
    "scaler_y = MinMaxScaler()\n",
    "\n",
    "fit_X1=scaler_x1.fit(X_train1)\n",
    "X_train1=fit_X1.transform(X_train1)\n",
    "X_test1=fit_X1.transform(X_test1)\n",
    "X_val1=fit_X1.transform(X_val1)\n",
    "\n",
    "fit_X2=scaler_x2.fit(X_train2)\n",
    "X_train2=fit_X2.transform(X_train2)\n",
    "X_test2=fit_X2.transform(X_test2)\n",
    "X_val2=fit_X2.transform(X_val2)\n",
    "\n",
    "fit_y=scaler_y.fit(y_train)\n",
    "y_train=fit_y.transform(y_train)\n",
    "y_test=fit_y.transform(y_test)\n",
    "y_val=fit_y.transform(y_val)"
   ]
  },
  {
   "cell_type": "code",
   "execution_count": null,
   "metadata": {},
   "outputs": [],
   "source": []
  },
  {
   "cell_type": "code",
   "execution_count": 24,
   "metadata": {},
   "outputs": [
    {
     "data": {
      "text/plain": [
       "(4434, 17)"
      ]
     },
     "execution_count": 24,
     "metadata": {},
     "output_type": "execute_result"
    }
   ],
   "source": [
    "X_train1.shape"
   ]
  },
  {
   "cell_type": "code",
   "execution_count": 25,
   "metadata": {},
   "outputs": [
    {
     "data": {
      "text/plain": [
       "(4434, 20664)"
      ]
     },
     "execution_count": 25,
     "metadata": {},
     "output_type": "execute_result"
    }
   ],
   "source": [
    "X_train2.shape"
   ]
  },
  {
   "cell_type": "code",
   "execution_count": 26,
   "metadata": {},
   "outputs": [
    {
     "data": {
      "text/plain": [
       "4434"
      ]
     },
     "execution_count": 26,
     "metadata": {},
     "output_type": "execute_result"
    }
   ],
   "source": [
    "X_train2.shape[0]"
   ]
  },
  {
   "cell_type": "code",
   "execution_count": 27,
   "metadata": {},
   "outputs": [],
   "source": [
    "maxTanks = 24\n",
    "maxBins = 861\n",
    "X_train2=X_train2.reshape(X_train2.shape[0],maxTanks, maxBins,1)\n",
    "X_val2=X_val2.reshape(X_val2.shape[0],maxTanks, maxBins,1)\n",
    "X_test2=X_test2.reshape(X_test2.shape[0],maxTanks, maxBins,1)"
   ]
  },
  {
   "cell_type": "code",
   "execution_count": 28,
   "metadata": {},
   "outputs": [
    {
     "data": {
      "text/plain": [
       "(4434, 24, 861, 1)"
      ]
     },
     "execution_count": 28,
     "metadata": {},
     "output_type": "execute_result"
    }
   ],
   "source": [
    "X_train2.shape"
   ]
  },
  {
   "cell_type": "code",
   "execution_count": 29,
   "metadata": {},
   "outputs": [
    {
     "name": "stdout",
     "output_type": "stream",
     "text": [
      "Model: \"model_1\"\n",
      "__________________________________________________________________________________________________\n",
      "Layer (type)                    Output Shape         Param #     Connected to                     \n",
      "==================================================================================================\n",
      "input_2 (InputLayer)            (None, 24, 861, 1)   0                                            \n",
      "__________________________________________________________________________________________________\n",
      "conv2d_1 (Conv2D)               (None, 22, 859, 64)  640         input_2[0][0]                    \n",
      "__________________________________________________________________________________________________\n",
      "max_pooling2d_1 (MaxPooling2D)  (None, 11, 429, 64)  0           conv2d_1[0][0]                   \n",
      "__________________________________________________________________________________________________\n",
      "conv2d_2 (Conv2D)               (None, 9, 427, 128)  73856       max_pooling2d_1[0][0]            \n",
      "__________________________________________________________________________________________________\n",
      "max_pooling2d_2 (MaxPooling2D)  (None, 4, 213, 128)  0           conv2d_2[0][0]                   \n",
      "__________________________________________________________________________________________________\n",
      "flatten_1 (Flatten)             (None, 109056)       0           max_pooling2d_2[0][0]            \n",
      "__________________________________________________________________________________________________\n",
      "input_1 (InputLayer)            (None, 17)           0                                            \n",
      "__________________________________________________________________________________________________\n",
      "dense_2 (Dense)                 (None, 100)          10905700    flatten_1[0][0]                  \n",
      "__________________________________________________________________________________________________\n",
      "dense_1 (Dense)                 (None, 256)          4608        input_1[0][0]                    \n",
      "__________________________________________________________________________________________________\n",
      "dense_3 (Dense)                 (None, 256)          25856       dense_2[0][0]                    \n",
      "__________________________________________________________________________________________________\n",
      "add_1 (Add)                     (None, 256)          0           dense_1[0][0]                    \n",
      "                                                                 dense_3[0][0]                    \n",
      "__________________________________________________________________________________________________\n",
      "dense_4 (Dense)                 (None, 256)          65792       add_1[0][0]                      \n",
      "__________________________________________________________________________________________________\n",
      "dense_5 (Dense)                 (None, 1)            257         dense_4[0][0]                    \n",
      "==================================================================================================\n",
      "Total params: 11,076,709\n",
      "Trainable params: 11,076,709\n",
      "Non-trainable params: 0\n",
      "__________________________________________________________________________________________________\n"
     ]
    }
   ],
   "source": [
    "import numpy as np\n",
    "#from keras.layers import LSTM\n",
    "np.random.seed(1337)\n",
    "\n",
    "inputs1 = Input(shape=(X_train1.shape[1],))\n",
    "fe1 = Dropout(0.5)(inputs1)\n",
    "fe2 = Dense(256, activation='relu')(inputs1)\n",
    "\n",
    "#model = Sequential()\n",
    "#model.add(Dense(10, input_dim=X_train.shape[1], kernel_initializer='normal', activation='relu'))\n",
    "#model.add(Dense(300, kernel_initializer='normal', activation='relu'))\n",
    "#model.add(Dense(100, kernel_initializer='normal', activation='relu'))\n",
    "#model.add(Dense(30, kernel_initializer='normal', activation='relu'))\n",
    "model = Sequential()\n",
    "inputs2 = Input(shape = (maxTanks, maxBins,1)) \n",
    "conv1 = Conv2D(64, kernel_size = (3,3), strides = (1,1), activation = 'relu')(inputs2) \n",
    "max1 = MaxPooling2D(pool_size=(2,2), strides=(2,2))(conv1) \n",
    "conv2 = Conv2D(128, (3,3), activation = 'relu')(max1) \n",
    "max2 = MaxPooling2D(pool_size=(2,2))(conv2) \n",
    "flat = Flatten()(max2) \n",
    "den1 = Dense(100, activation = 'relu')(flat) \n",
    "den2 = Dense(256, activation ='relu')(den1) \n",
    "  \n",
    "\n",
    "\n",
    "decoder1 = add([fe2, den2])\n",
    "decoder2 = Dense(256, activation='relu')(decoder1)\n",
    "outputs = Dense(1, activation='sigmoid')(decoder2)\n",
    "# merge the two input models\n",
    "model = Model(inputs=[inputs1, inputs2], outputs=outputs)\n",
    "\n",
    "\n",
    "#model = Sequential()\n",
    "#model.add(LSTM(50, input_shape=(X_train.shape[1], X_train.shape[2])))\n",
    "#model.add(Dropout(0.2))\n",
    "#model.add(Dense(1))\n",
    "\n",
    "\n",
    "model.summary()"
   ]
  },
  {
   "cell_type": "code",
   "execution_count": 30,
   "metadata": {},
   "outputs": [],
   "source": [
    "model.compile(loss='binary_crossentropy', optimizer='adam', metrics=['mse','mae','accuracy'])"
   ]
  },
  {
   "cell_type": "code",
   "execution_count": 31,
   "metadata": {},
   "outputs": [
    {
     "name": "stdout",
     "output_type": "stream",
     "text": [
      "Train on 4434 samples, validate on 1479 samples\n",
      "Epoch 1/50\n",
      " - 303s - loss: 0.6720 - mse: 0.0115 - mae: 0.0803 - accuracy: 2.2553e-04 - val_loss: 0.6771 - val_mse: 0.0137 - val_mae: 0.0944 - val_accuracy: 0.0000e+00\n",
      "Epoch 2/50\n",
      " - 312s - loss: 0.6693 - mse: 0.0105 - mae: 0.0769 - accuracy: 2.2553e-04 - val_loss: 0.6736 - val_mse: 0.0120 - val_mae: 0.0864 - val_accuracy: 0.0000e+00\n",
      "Epoch 3/50\n",
      " - 292s - loss: 0.6688 - mse: 0.0102 - mae: 0.0760 - accuracy: 2.2553e-04 - val_loss: 0.6731 - val_mse: 0.0117 - val_mae: 0.0851 - val_accuracy: 0.0000e+00\n",
      "Epoch 4/50\n",
      " - 280s - loss: 0.6686 - mse: 0.0101 - mae: 0.0756 - accuracy: 2.2553e-04 - val_loss: 0.6729 - val_mse: 0.0116 - val_mae: 0.0847 - val_accuracy: 0.0000e+00\n",
      "Epoch 5/50\n",
      " - 330s - loss: 0.6684 - mse: 0.0101 - mae: 0.0753 - accuracy: 2.2553e-04 - val_loss: 0.6726 - val_mse: 0.0115 - val_mae: 0.0838 - val_accuracy: 0.0000e+00\n",
      "Epoch 6/50\n",
      " - 325s - loss: 0.6695 - mse: 0.0106 - mae: 0.0771 - accuracy: 2.2553e-04 - val_loss: 0.6744 - val_mse: 0.0124 - val_mae: 0.0884 - val_accuracy: 0.0000e+00\n",
      "Epoch 7/50\n",
      " - 303s - loss: 0.6687 - mse: 0.0102 - mae: 0.0759 - accuracy: 2.2553e-04 - val_loss: 0.6733 - val_mse: 0.0118 - val_mae: 0.0857 - val_accuracy: 0.0000e+00\n",
      "Epoch 8/50\n",
      " - 305s - loss: 0.6683 - mse: 0.0100 - mae: 0.0752 - accuracy: 2.2553e-04 - val_loss: 0.6727 - val_mse: 0.0115 - val_mae: 0.0841 - val_accuracy: 0.0000e+00\n",
      "Epoch 9/50\n",
      " - 315s - loss: 0.6682 - mse: 0.0100 - mae: 0.0749 - accuracy: 2.2553e-04 - val_loss: 0.6727 - val_mse: 0.0115 - val_mae: 0.0842 - val_accuracy: 0.0000e+00\n",
      "Epoch 10/50\n",
      " - 273s - loss: 0.6680 - mse: 0.0099 - mae: 0.0745 - accuracy: 2.2553e-04 - val_loss: 0.6718 - val_mse: 0.0111 - val_mae: 0.0817 - val_accuracy: 0.0000e+00\n",
      "Epoch 11/50\n",
      " - 272s - loss: 0.6679 - mse: 0.0098 - mae: 0.0745 - accuracy: 2.2553e-04 - val_loss: 0.6716 - val_mse: 0.0110 - val_mae: 0.0809 - val_accuracy: 0.0000e+00\n",
      "Epoch 12/50\n",
      " - 268s - loss: 0.6676 - mse: 0.0097 - mae: 0.0737 - accuracy: 2.2553e-04 - val_loss: 0.6713 - val_mse: 0.0108 - val_mae: 0.0803 - val_accuracy: 0.0000e+00\n",
      "Epoch 13/50\n",
      " - 262s - loss: 0.6674 - mse: 0.0096 - mae: 0.0734 - accuracy: 2.2553e-04 - val_loss: 0.6704 - val_mse: 0.0104 - val_mae: 0.0770 - val_accuracy: 0.0000e+00\n",
      "Epoch 14/50\n",
      " - 267s - loss: 0.6671 - mse: 0.0094 - mae: 0.0729 - accuracy: 2.2553e-04 - val_loss: 0.6718 - val_mse: 0.0111 - val_mae: 0.0819 - val_accuracy: 0.0000e+00\n",
      "Epoch 15/50\n",
      " - 284s - loss: 0.6673 - mse: 0.0095 - mae: 0.0733 - accuracy: 2.2553e-04 - val_loss: 0.6716 - val_mse: 0.0110 - val_mae: 0.0817 - val_accuracy: 0.0000e+00\n",
      "Epoch 16/50\n",
      " - 290s - loss: 0.6670 - mse: 0.0094 - mae: 0.0727 - accuracy: 2.2553e-04 - val_loss: 0.6703 - val_mse: 0.0104 - val_mae: 0.0773 - val_accuracy: 0.0000e+00\n",
      "Epoch 17/50\n",
      " - 271s - loss: 0.6662 - mse: 0.0090 - mae: 0.0711 - accuracy: 2.2553e-04 - val_loss: 0.6707 - val_mse: 0.0106 - val_mae: 0.0785 - val_accuracy: 0.0000e+00\n",
      "Epoch 18/50\n",
      " - 269s - loss: 0.6658 - mse: 0.0088 - mae: 0.0702 - accuracy: 2.2553e-04 - val_loss: 0.6709 - val_mse: 0.0106 - val_mae: 0.0774 - val_accuracy: 0.0000e+00\n",
      "Epoch 19/50\n",
      " - 283s - loss: 0.6652 - mse: 0.0085 - mae: 0.0687 - accuracy: 2.2553e-04 - val_loss: 0.6709 - val_mse: 0.0106 - val_mae: 0.0770 - val_accuracy: 0.0000e+00\n",
      "Epoch 20/50\n",
      " - 269s - loss: 0.6649 - mse: 0.0084 - mae: 0.0682 - accuracy: 2.2553e-04 - val_loss: 0.6724 - val_mse: 0.0114 - val_mae: 0.0823 - val_accuracy: 0.0000e+00\n",
      "Epoch 21/50\n",
      " - 276s - loss: 0.6642 - mse: 0.0080 - mae: 0.0667 - accuracy: 2.2553e-04 - val_loss: 0.6721 - val_mse: 0.0111 - val_mae: 0.0785 - val_accuracy: 0.0000e+00\n",
      "Epoch 22/50\n",
      " - 268s - loss: 0.6633 - mse: 0.0076 - mae: 0.0646 - accuracy: 2.2553e-04 - val_loss: 0.6727 - val_mse: 0.0114 - val_mae: 0.0803 - val_accuracy: 0.0000e+00\n",
      "Epoch 23/50\n",
      " - 272s - loss: 0.6623 - mse: 0.0071 - mae: 0.0623 - accuracy: 2.2553e-04 - val_loss: 0.6745 - val_mse: 0.0123 - val_mae: 0.0843 - val_accuracy: 0.0000e+00\n",
      "Epoch 24/50\n",
      " - 275s - loss: 0.6615 - mse: 0.0067 - mae: 0.0601 - accuracy: 2.2553e-04 - val_loss: 0.6723 - val_mse: 0.0113 - val_mae: 0.0792 - val_accuracy: 0.0000e+00\n",
      "Epoch 25/50\n",
      " - 278s - loss: 0.6609 - mse: 0.0065 - mae: 0.0586 - accuracy: 2.2553e-04 - val_loss: 0.6764 - val_mse: 0.0133 - val_mae: 0.0885 - val_accuracy: 0.0000e+00\n",
      "Epoch 26/50\n",
      " - 279s - loss: 0.6608 - mse: 0.0064 - mae: 0.0581 - accuracy: 4.5106e-04 - val_loss: 0.6741 - val_mse: 0.0119 - val_mae: 0.0814 - val_accuracy: 0.0000e+00\n",
      "Epoch 27/50\n",
      " - 348s - loss: 0.6595 - mse: 0.0058 - mae: 0.0549 - accuracy: 4.5106e-04 - val_loss: 0.6734 - val_mse: 0.0116 - val_mae: 0.0808 - val_accuracy: 0.0000e+00\n",
      "Epoch 28/50\n",
      " - 414s - loss: 0.6586 - mse: 0.0054 - mae: 0.0526 - accuracy: 4.5106e-04 - val_loss: 0.6761 - val_mse: 0.0129 - val_mae: 0.0852 - val_accuracy: 0.0000e+00\n",
      "Epoch 29/50\n",
      " - 379s - loss: 0.6578 - mse: 0.0050 - mae: 0.0504 - accuracy: 4.5106e-04 - val_loss: 0.6761 - val_mse: 0.0131 - val_mae: 0.0877 - val_accuracy: 0.0000e+00\n",
      "Epoch 30/50\n",
      " - 412s - loss: 0.6571 - mse: 0.0047 - mae: 0.0493 - accuracy: 4.5106e-04 - val_loss: 0.6791 - val_mse: 0.0142 - val_mae: 0.0891 - val_accuracy: 0.0000e+00\n",
      "Epoch 31/50\n",
      " - 424s - loss: 0.6563 - mse: 0.0043 - mae: 0.0473 - accuracy: 4.5106e-04 - val_loss: 0.6762 - val_mse: 0.0131 - val_mae: 0.0871 - val_accuracy: 0.0000e+00\n",
      "Epoch 32/50\n",
      " - 381s - loss: 0.6558 - mse: 0.0041 - mae: 0.0461 - accuracy: 4.5106e-04 - val_loss: 0.6752 - val_mse: 0.0126 - val_mae: 0.0852 - val_accuracy: 0.0000e+00\n",
      "Epoch 33/50\n",
      " - 430s - loss: 0.6552 - mse: 0.0038 - mae: 0.0441 - accuracy: 4.5106e-04 - val_loss: 0.6762 - val_mse: 0.0131 - val_mae: 0.0879 - val_accuracy: 0.0000e+00\n",
      "Epoch 34/50\n",
      " - 358s - loss: 0.6543 - mse: 0.0034 - mae: 0.0419 - accuracy: 4.5106e-04 - val_loss: 0.6860 - val_mse: 0.0179 - val_mae: 0.1046 - val_accuracy: 0.0000e+00\n",
      "Epoch 35/50\n",
      " - 383s - loss: 0.6541 - mse: 0.0033 - mae: 0.0409 - accuracy: 4.5106e-04 - val_loss: 0.6953 - val_mse: 0.0225 - val_mae: 0.1205 - val_accuracy: 0.0000e+00\n",
      "Epoch 36/50\n",
      " - 318s - loss: 0.6539 - mse: 0.0032 - mae: 0.0402 - accuracy: 4.5106e-04 - val_loss: 0.6840 - val_mse: 0.0171 - val_mae: 0.1031 - val_accuracy: 0.0000e+00\n",
      "Epoch 37/50\n",
      " - 261s - loss: 0.6538 - mse: 0.0031 - mae: 0.0400 - accuracy: 4.5106e-04 - val_loss: 0.6787 - val_mse: 0.0144 - val_mae: 0.0932 - val_accuracy: 0.0000e+00\n",
      "Epoch 38/50\n",
      " - 274s - loss: 0.6531 - mse: 0.0028 - mae: 0.0379 - accuracy: 4.5106e-04 - val_loss: 0.6799 - val_mse: 0.0147 - val_mae: 0.0916 - val_accuracy: 0.0000e+00\n",
      "Epoch 39/50\n",
      " - 282s - loss: 0.6528 - mse: 0.0027 - mae: 0.0369 - accuracy: 4.5106e-04 - val_loss: 0.6833 - val_mse: 0.0159 - val_mae: 0.0947 - val_accuracy: 0.0000e+00\n",
      "Epoch 40/50\n",
      " - 285s - loss: 0.6530 - mse: 0.0028 - mae: 0.0371 - accuracy: 4.5106e-04 - val_loss: 0.6819 - val_mse: 0.0156 - val_mae: 0.0942 - val_accuracy: 0.0000e+00\n",
      "Epoch 41/50\n",
      " - 285s - loss: 0.6520 - mse: 0.0023 - mae: 0.0348 - accuracy: 4.5106e-04 - val_loss: 0.6783 - val_mse: 0.0141 - val_mae: 0.0907 - val_accuracy: 0.0000e+00\n",
      "Epoch 42/50\n",
      " - 298s - loss: 0.6511 - mse: 0.0019 - mae: 0.0309 - accuracy: 4.5106e-04 - val_loss: 0.6838 - val_mse: 0.0170 - val_mae: 0.1044 - val_accuracy: 0.0000e+00\n",
      "Epoch 43/50\n",
      " - 318s - loss: 0.6515 - mse: 0.0021 - mae: 0.0329 - accuracy: 4.5106e-04 - val_loss: 0.6847 - val_mse: 0.0173 - val_mae: 0.1037 - val_accuracy: 0.0000e+00\n",
      "Epoch 44/50\n",
      " - 301s - loss: 0.6512 - mse: 0.0020 - mae: 0.0321 - accuracy: 4.5106e-04 - val_loss: 0.6982 - val_mse: 0.0238 - val_mae: 0.1243 - val_accuracy: 0.0000e+00\n",
      "Epoch 45/50\n",
      " - 292s - loss: 0.6506 - mse: 0.0017 - mae: 0.0287 - accuracy: 4.5106e-04 - val_loss: 0.6918 - val_mse: 0.0208 - val_mae: 0.1155 - val_accuracy: 0.0000e+00\n",
      "Epoch 46/50\n",
      " - 290s - loss: 0.6504 - mse: 0.0016 - mae: 0.0279 - accuracy: 4.5106e-04 - val_loss: 0.6833 - val_mse: 0.0166 - val_mae: 0.1004 - val_accuracy: 0.0000e+00\n",
      "Epoch 47/50\n",
      " - 307s - loss: 0.6502 - mse: 0.0015 - mae: 0.0272 - accuracy: 4.5106e-04 - val_loss: 0.6812 - val_mse: 0.0155 - val_mae: 0.0960 - val_accuracy: 0.0000e+00\n",
      "Epoch 48/50\n",
      " - 317s - loss: 0.6501 - mse: 0.0015 - mae: 0.0267 - accuracy: 4.5106e-04 - val_loss: 0.6787 - val_mse: 0.0142 - val_mae: 0.0903 - val_accuracy: 0.0000e+00\n",
      "Epoch 49/50\n",
      " - 283s - loss: 0.6504 - mse: 0.0016 - mae: 0.0282 - accuracy: 4.5106e-04 - val_loss: 0.6785 - val_mse: 0.0142 - val_mae: 0.0918 - val_accuracy: 0.0000e+00\n"
     ]
    },
    {
     "name": "stdout",
     "output_type": "stream",
     "text": [
      "Epoch 50/50\n",
      " - 287s - loss: 0.6503 - mse: 0.0016 - mae: 0.0279 - accuracy: 4.5106e-04 - val_loss: 0.6849 - val_mse: 0.0174 - val_mae: 0.1045 - val_accuracy: 0.0000e+00\n"
     ]
    }
   ],
   "source": [
    "history=model.fit([X_train1, X_train2], y_train, epochs=50, verbose=2,  validation_data=([X_val1, X_val2], y_val),shuffle=False)"
   ]
  },
  {
   "cell_type": "code",
   "execution_count": 33,
   "metadata": {},
   "outputs": [
    {
     "name": "stdout",
     "output_type": "stream",
     "text": [
      "dict_keys(['val_loss', 'val_mse', 'val_mae', 'val_accuracy', 'loss', 'mse', 'mae', 'accuracy'])\n"
     ]
    },
    {
     "data": {
      "image/png": "[encoded data removed]",
      "text/plain": [
       "<Figure size 432x288 with 1 Axes>"
      ]
     },
     "metadata": {
      "needs_background": "light"
     },
     "output_type": "display_data"
    }
   ],
   "source": [
    "print(history.history.keys())\n",
    "# \"Loss\"\n",
    "plt.plot(history.history['loss'])\n",
    "plt.plot(history.history['val_loss'])\n",
    "plt.title('model loss')\n",
    "plt.ylabel('loss')\n",
    "plt.xlabel('epoch')\n",
    "plt.legend(['train', 'validation'], loc='upper left')\n",
    "plt.savefig(\"model_loss.png\")\n",
    "plt.show()"
   ]
  },
  {
   "cell_type": "code",
   "execution_count": 45,
   "metadata": {},
   "outputs": [],
   "source": [
    "y_pred= model.predict([X_train1, X_train2])"
   ]
  },
  {
   "cell_type": "code",
   "execution_count": 46,
   "metadata": {},
   "outputs": [
    {
     "name": "stdout",
     "output_type": "stream",
     "text": [
      "normal mse 0.08860088848074224\n",
      "normal mae 0.06673073729609315\n"
     ]
    }
   ],
   "source": [
    "from sklearn.metrics import mean_squared_error\n",
    "from math import sqrt\n",
    "print('normal mse',sqrt(mean_squared_error(y_train, y_pred)))\n",
    "print('normal mae',mean_absolute_error(y_train, y_pred))"
   ]
  },
  {
   "cell_type": "code",
   "execution_count": 51,
   "metadata": {},
   "outputs": [
    {
     "name": "stdout",
     "output_type": "stream",
     "text": [
      "mse 41.10284179899148\n",
      "mae 30.957059495414946\n"
     ]
    }
   ],
   "source": [
    "y_test.shape\n",
    "y_train=np.reshape(y_train, (y_train.shape[0],1))\n",
    "y_pred=np.reshape(y_pred, (y_train.shape[0],1))\n",
    "y_test_normalized=scaler_y.inverse_transform(y_train)\n",
    "y_pred_normalized=scaler_y.inverse_transform(y_pred)\n",
    "y_train=np.reshape(y_train, (y_train.shape[0],))\n",
    "y_pred=np.reshape(y_pred, (y_train.shape[0],))\n",
    "y_test_normalized=np.reshape(y_test_normalized, (y_train.shape[0],))\n",
    "y_pred_normalized=np.reshape(y_pred_normalized, (y_train.shape[0],))\n",
    "print('mse',sqrt(mean_squared_error(y_test_normalized, y_pred_normalized)))\n",
    "print('mae',mean_absolute_error(y_test_normalized, y_pred_normalized))"
   ]
  },
  {
   "cell_type": "code",
   "execution_count": 52,
   "metadata": {},
   "outputs": [
    {
     "data": {
      "text/plain": [
       "(4434,)"
      ]
     },
     "execution_count": 52,
     "metadata": {},
     "output_type": "execute_result"
    }
   ],
   "source": [
    "y_train.shape"
   ]
  },
  {
   "cell_type": "code",
   "execution_count": 53,
   "metadata": {},
   "outputs": [],
   "source": [
    "df_result=pd.DataFrame()\n",
    "\n",
    "df_result['Normalized True Value']=y_train\n",
    "df_result['Normalized Predicted Value']=y_pred\n",
    "df_result['True Value']=y_test_normalized\n",
    "df_result['Predicted Value']=y_pred_normalized\n",
    "\n",
    "df_result.to_csv('results_train.csv')"
   ]
  },
  {
   "cell_type": "code",
   "execution_count": 55,
   "metadata": {},
   "outputs": [
    {
     "data": {
      "text/html": [
       "<div>\n",
       "<style scoped>\n",
       "    .dataframe tbody tr th:only-of-type {\n",
       "        vertical-align: middle;\n",
       "    }\n",
       "\n",
       "    .dataframe tbody tr th {\n",
       "        vertical-align: top;\n",
       "    }\n",
       "\n",
       "    .dataframe thead th {\n",
       "        text-align: right;\n",
       "    }\n",
       "</style>\n",
       "<table border=\"1\" class=\"dataframe\">\n",
       "  <thead>\n",
       "    <tr style=\"text-align: right;\">\n",
       "      <th></th>\n",
       "      <th>Normalized True Value</th>\n",
       "      <th>Normalized Predicted Value</th>\n",
       "      <th>True Value</th>\n",
       "      <th>Predicted Value</th>\n",
       "    </tr>\n",
       "  </thead>\n",
       "  <tbody>\n",
       "    <tr>\n",
       "      <th>0</th>\n",
       "      <td>0.437907</td>\n",
       "      <td>0.485395</td>\n",
       "      <td>769.598275</td>\n",
       "      <td>791.628235</td>\n",
       "    </tr>\n",
       "    <tr>\n",
       "      <th>1</th>\n",
       "      <td>0.234090</td>\n",
       "      <td>0.373983</td>\n",
       "      <td>675.045486</td>\n",
       "      <td>739.943237</td>\n",
       "    </tr>\n",
       "    <tr>\n",
       "      <th>2</th>\n",
       "      <td>0.394588</td>\n",
       "      <td>0.470970</td>\n",
       "      <td>749.501900</td>\n",
       "      <td>784.936401</td>\n",
       "    </tr>\n",
       "    <tr>\n",
       "      <th>3</th>\n",
       "      <td>0.378978</td>\n",
       "      <td>0.310908</td>\n",
       "      <td>742.260328</td>\n",
       "      <td>710.681763</td>\n",
       "    </tr>\n",
       "    <tr>\n",
       "      <th>4</th>\n",
       "      <td>0.424916</td>\n",
       "      <td>0.531912</td>\n",
       "      <td>763.571541</td>\n",
       "      <td>813.207886</td>\n",
       "    </tr>\n",
       "    <tr>\n",
       "      <th>...</th>\n",
       "      <td>...</td>\n",
       "      <td>...</td>\n",
       "      <td>...</td>\n",
       "      <td>...</td>\n",
       "    </tr>\n",
       "    <tr>\n",
       "      <th>4429</th>\n",
       "      <td>0.388758</td>\n",
       "      <td>0.376496</td>\n",
       "      <td>746.797184</td>\n",
       "      <td>741.108826</td>\n",
       "    </tr>\n",
       "    <tr>\n",
       "      <th>4430</th>\n",
       "      <td>0.428127</td>\n",
       "      <td>0.430859</td>\n",
       "      <td>765.060936</td>\n",
       "      <td>766.328369</td>\n",
       "    </tr>\n",
       "    <tr>\n",
       "      <th>4431</th>\n",
       "      <td>0.529166</td>\n",
       "      <td>0.524512</td>\n",
       "      <td>811.933949</td>\n",
       "      <td>809.774841</td>\n",
       "    </tr>\n",
       "    <tr>\n",
       "      <th>4432</th>\n",
       "      <td>0.363710</td>\n",
       "      <td>0.368560</td>\n",
       "      <td>735.177332</td>\n",
       "      <td>737.427124</td>\n",
       "    </tr>\n",
       "    <tr>\n",
       "      <th>4433</th>\n",
       "      <td>0.504746</td>\n",
       "      <td>0.506738</td>\n",
       "      <td>800.605599</td>\n",
       "      <td>801.529419</td>\n",
       "    </tr>\n",
       "  </tbody>\n",
       "</table>\n",
       "<p>4434 rows × 4 columns</p>\n",
       "</div>"
      ],
      "text/plain": [
       "      Normalized True Value  Normalized Predicted Value  True Value  \\\n",
       "0                  0.437907                    0.485395  769.598275   \n",
       "1                  0.234090                    0.373983  675.045486   \n",
       "2                  0.394588                    0.470970  749.501900   \n",
       "3                  0.378978                    0.310908  742.260328   \n",
       "4                  0.424916                    0.531912  763.571541   \n",
       "...                     ...                         ...         ...   \n",
       "4429               0.388758                    0.376496  746.797184   \n",
       "4430               0.428127                    0.430859  765.060936   \n",
       "4431               0.529166                    0.524512  811.933949   \n",
       "4432               0.363710                    0.368560  735.177332   \n",
       "4433               0.504746                    0.506738  800.605599   \n",
       "\n",
       "      Predicted Value  \n",
       "0          791.628235  \n",
       "1          739.943237  \n",
       "2          784.936401  \n",
       "3          710.681763  \n",
       "4          813.207886  \n",
       "...               ...  \n",
       "4429       741.108826  \n",
       "4430       766.328369  \n",
       "4431       809.774841  \n",
       "4432       737.427124  \n",
       "4433       801.529419  \n",
       "\n",
       "[4434 rows x 4 columns]"
      ]
     },
     "execution_count": 55,
     "metadata": {},
     "output_type": "execute_result"
    }
   ],
   "source": [
    "df_result"
   ]
  },
  {
   "cell_type": "code",
   "execution_count": 56,
   "metadata": {},
   "outputs": [
    {
     "data": {
      "image/png": "[encoded data removed]",
      "text/plain": [
       "<Figure size 432x288 with 1 Axes>"
      ]
     },
     "metadata": {
      "needs_background": "light"
     },
     "output_type": "display_data"
    }
   ],
   "source": [
    "_, ax = plt.subplots()\n",
    "x = [ 400, 500, 600, 700,800,900]\n",
    "y = [400, 500, 600, 700,800,900]\n",
    "ax.scatter(x = df_result['True Value'], y=df_result['Predicted Value'], c = 'blue', label = 'Actual', alpha = 0.3)\n",
    "#ax.scatter(x = range(0, y_pred.size), y=y_pred, c = 'red', label = 'Predicted', alpha = 0.3)\n",
    "plt.plot(x,y)\n",
    "plt.title('Actual and predicted values')\n",
    "plt.xlabel('True')\n",
    "plt.ylabel('Predicted')\n",
    "plt.legend()\n",
    "plt.savefig(\"actual_vs_predicted_train.png\")\n",
    "plt.show()\n"
   ]
  },
  {
   "cell_type": "code",
   "execution_count": 57,
   "metadata": {},
   "outputs": [
    {
     "data": {
      "image/png": "[encoded data removed]",
      "text/plain": [
       "<Figure size 432x288 with 1 Axes>"
      ]
     },
     "metadata": {
      "needs_background": "light"
     },
     "output_type": "display_data"
    }
   ],
   "source": [
    "_, ax = plt.subplots()\n",
    "\n",
    "ax.scatter(x = range(0, y_test.size), y=y_test, c = 'blue', label = 'Actual', alpha = 0.3)\n",
    "ax.scatter(x = range(0, y_pred.size), y=y_pred, c = 'red', label = 'Predicted', alpha = 0.3)\n",
    "\n",
    "plt.title('Actual and predicted values')\n",
    "plt.xlabel('Observations')\n",
    "plt.ylabel('xmax')\n",
    "plt.legend()\n",
    "plt.savefig(\"xmax_vs_observation_train.png\")\n",
    "plt.show()\n"
   ]
  },
  {
   "cell_type": "code",
   "execution_count": null,
   "metadata": {},
   "outputs": [],
   "source": []
  },
  {
   "cell_type": "code",
   "execution_count": null,
   "metadata": {},
   "outputs": [],
   "source": []
  },
  {
   "cell_type": "code",
   "execution_count": null,
   "metadata": {},
   "outputs": [],
   "source": []
  },
  {
   "cell_type": "code",
   "execution_count": 58,
   "metadata": {},
   "outputs": [],
   "source": [
    "y_pred= model.predict([X_test1, X_test2])"
   ]
  },
  {
   "cell_type": "code",
   "execution_count": 59,
   "metadata": {},
   "outputs": [
    {
     "data": {
      "text/plain": [
       "(1488, 1)"
      ]
     },
     "execution_count": 59,
     "metadata": {},
     "output_type": "execute_result"
    }
   ],
   "source": [
    "y_pred.shape"
   ]
  },
  {
   "cell_type": "code",
   "execution_count": 69,
   "metadata": {},
   "outputs": [
    {
     "name": "stdout",
     "output_type": "stream",
     "text": [
      "normal mse 0.13762741598248532\n",
      "normal mae 0.10655463876998737\n"
     ]
    }
   ],
   "source": [
    "from sklearn.metrics import mean_squared_error\n",
    "from math import sqrt\n",
    "print('normal mse',sqrt(mean_squared_error(y_test, y_pred)))\n",
    "print('normal mae',mean_absolute_error(y_test, y_pred))"
   ]
  },
  {
   "cell_type": "code",
   "execution_count": null,
   "metadata": {},
   "outputs": [],
   "source": []
  },
  {
   "cell_type": "code",
   "execution_count": 70,
   "metadata": {},
   "outputs": [],
   "source": [
    "y_test.shape\n",
    "y_test=np.reshape(y_test, (y_test.shape[0],1))\n",
    "y_pred=np.reshape(y_pred, (y_test.shape[0],1))\n",
    "y_test_normalized=scaler_y.inverse_transform(y_test)\n",
    "y_pred_normalized=scaler_y.inverse_transform(y_pred)\n",
    "y_test=np.reshape(y_test, (y_test.shape[0],))\n",
    "y_pred=np.reshape(y_pred, (y_test.shape[0],))\n",
    "y_test_normalized=np.reshape(y_test_normalized, (y_test.shape[0],))\n",
    "y_pred_normalized=np.reshape(y_pred_normalized, (y_test.shape[0],))"
   ]
  },
  {
   "cell_type": "code",
   "execution_count": 71,
   "metadata": {},
   "outputs": [
    {
     "name": "stdout",
     "output_type": "stream",
     "text": [
      "mse 63.84673755978646\n"
     ]
    }
   ],
   "source": [
    "print('mse',sqrt(mean_squared_error(y_test_normalized, y_pred_normalized)))"
   ]
  },
  {
   "cell_type": "code",
   "execution_count": 72,
   "metadata": {},
   "outputs": [
    {
     "name": "stdout",
     "output_type": "stream",
     "text": [
      "mae 49.431764542459554\n"
     ]
    }
   ],
   "source": [
    "print('mae',mean_absolute_error(y_test_normalized, y_pred_normalized))"
   ]
  },
  {
   "cell_type": "code",
   "execution_count": 73,
   "metadata": {},
   "outputs": [],
   "source": [
    "df_result=pd.DataFrame()\n",
    "\n",
    "df_result['Normalized True Value']=y_test\n",
    "df_result['Normalized Predicted Value']=y_pred\n",
    "df_result['True Value']=y_test_normalized\n",
    "df_result['Predicted Value']=y_pred_normalized\n",
    "\n",
    "df_result.to_csv('results.csv')"
   ]
  },
  {
   "cell_type": "code",
   "execution_count": 74,
   "metadata": {},
   "outputs": [],
   "source": [
    "test.to_csv('test.csv')"
   ]
  },
  {
   "cell_type": "code",
   "execution_count": 81,
   "metadata": {},
   "outputs": [
    {
     "data": {
      "image/png": "[encoded data removed]",
      "text/plain": [
       "<Figure size 432x288 with 1 Axes>"
      ]
     },
     "metadata": {
      "needs_background": "light"
     },
     "output_type": "display_data"
    }
   ],
   "source": [
    "_, ax = plt.subplots()\n",
    "x = [ 400, 500, 600, 700,800,900]\n",
    "y = [400, 500, 600, 700,800,900]\n",
    "ax.scatter(x = df_result['True Value'], y=df_result['Predicted Value'], c = 'blue', label = 'Actual', alpha = 0.3)\n",
    "#ax.scatter(x = range(0, y_pred.size), y=y_pred, c = 'red', label = 'Predicted', alpha = 0.3)\n",
    "\n",
    "plt.plot(x,y)\n",
    "plt.axvline(df_result['True Value'].mean())\n",
    "plt.axhline(df_result['True Value'].mean())\n",
    "plt.title('Actual and predicted values')\n",
    "plt.xlabel('True')\n",
    "plt.ylabel('Predicted')\n",
    "plt.legend()\n",
    "plt.savefig(\"actual_vs_predicted.png\")\n",
    "plt.show()\n"
   ]
  },
  {
   "cell_type": "code",
   "execution_count": 66,
   "metadata": {},
   "outputs": [
    {
     "data": {
      "image/png": "[encoded data removed]",
      "text/plain": [
       "<Figure size 432x288 with 1 Axes>"
      ]
     },
     "metadata": {
      "needs_background": "light"
     },
     "output_type": "display_data"
    }
   ],
   "source": [
    "diff = df_result['True Value'] - df_result['Predicted Value']\n",
    "diff.hist(bins = 40)\n",
    "plt.title('Histogram of prediction errors')\n",
    "plt.xlabel('MPG prediction error')\n",
    "plt.ylabel('Frequency')\n",
    "plt.savefig('prediction_histogram.png')"
   ]
  },
  {
   "cell_type": "code",
   "execution_count": 67,
   "metadata": {},
   "outputs": [
    {
     "data": {
      "image/png": "[encoded data removed]",
      "text/plain": [
       "<Figure size 432x288 with 1 Axes>"
      ]
     },
     "metadata": {
      "needs_background": "light"
     },
     "output_type": "display_data"
    }
   ],
   "source": [
    "_, ax = plt.subplots()\n",
    "\n",
    "ax.scatter(x = range(0, y_test.size), y=y_test, c = 'blue', label = 'Actual', alpha = 0.3)\n",
    "ax.scatter(x = range(0, y_pred.size), y=y_pred, c = 'red', label = 'Predicted', alpha = 0.3)\n",
    "\n",
    "plt.title('Actual and predicted values')\n",
    "plt.xlabel('Observations')\n",
    "plt.ylabel('xmax')\n",
    "plt.legend()\n",
    "plt.savefig(\"xmax_vs_observation.png\")\n",
    "plt.show()\n"
   ]
  },
  {
   "cell_type": "code",
   "execution_count": null,
   "metadata": {},
   "outputs": [],
   "source": [
    "# partial caption sequence model\n",
    "inputs2 = Input(shape=(X_train2.shape[1],))\n",
    "se1 = Embedding(X_train2.shape[0], 256, mask_zero=True)(inputs2)\n",
    "se2 = Dropout(0.5)(se1)\n",
    "se3 = LSTM(256)(se2)\n",
    "\n",
    "# decoder (feed forward) model\n",
    "decoder1 = add([fe2, se3])\n",
    "decoder2 = Dense(256, activation='relu')(decoder1)"
   ]
  }
 ],
 "metadata": {
  "kernelspec": {
   "display_name": "Python 3",
   "language": "python",
   "name": "python3"
  },
  "language_info": {
   "codemirror_mode": {
    "name": "ipython",
    "version": 3
   },
   "file_extension": ".py",
   "mimetype": "text/x-python",
   "name": "python",
   "nbconvert_exporter": "python",
   "pygments_lexer": "ipython3",
   "version": "3.7.7"
  }
 },
 "nbformat": 4,
 "nbformat_minor": 4
}
