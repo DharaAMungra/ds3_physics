{
 "cells": [
  {
   "cell_type": "code",
   "execution_count": 1,
   "metadata": {},
   "outputs": [
    {
     "name": "stderr",
     "output_type": "stream",
     "text": [
      "Using TensorFlow backend.\n"
     ]
    }
   ],
   "source": [
    "import matplotlib.pyplot as plt\n",
    "import numpy as np\n",
    "import pandas as pd\n",
    "import glob\n",
    "from sklearn.model_selection import train_test_split\n",
    "from sklearn.model_selection import cross_val_score\n",
    "from sklearn.model_selection import KFold\n",
    "from sklearn.pipeline import Pipeline\n",
    "from sklearn.preprocessing import MinMaxScaler\n",
    "from sklearn.preprocessing import StandardScaler\n",
    "from keras.models import Sequential\n",
    "from keras.layers import Dense\n",
    "from keras.layers import Dropout\n",
    "from keras.layers import LSTM\n",
    "from keras.wrappers.scikit_learn import KerasRegressor\n",
    "import tensorflow as tf\n",
    "from keras.optimizers import Adam\n",
    "\n",
    "from sklearn.metrics import mean_absolute_error\n",
    "from sklearn.metrics import mean_squared_error"
   ]
  },
  {
   "cell_type": "code",
   "execution_count": 2,
   "metadata": {},
   "outputs": [],
   "source": [
    "group_data=pd.read_csv('data.csv')\n",
    "df=pd.read_csv('data.csv')"
   ]
  },
  {
   "cell_type": "code",
   "execution_count": 3,
   "metadata": {},
   "outputs": [],
   "source": [
    "E = group_data.sdEnergy.unique()\n",
    "lgE = np.log10(E)\n",
    "lgEmin = 18.4\n",
    "lgEmax = 20.1\n",
    "dlgE = 0.1\n",
    "\n",
    "lgECenters = np.arange(lgEmin + dlgE/2., lgEmax, dlgE)\n",
    "ECenters = 10.**lgECenters\n",
    "Counts = np.zeros(len(lgECenters))\n",
    "c=np.zeros(len(lgE))\n",
    "for i in range(0, len(lgE)):\n",
    "    thisLgE = lgE[i]\n",
    "    ibin = int((thisLgE - lgEmin)/dlgE)\n",
    "\n",
    "    if(thisLgE < lgEmin or thisLgE > lgEmax):\n",
    "        print (\"Event energy out of range: lgE =\", thisLgE)\n",
    "        sys.exit()\n",
    "\n",
    "    Counts[ibin] +=1\n",
    "    c[i]=ibin"
   ]
  },
  {
   "cell_type": "code",
   "execution_count": 8,
   "metadata": {},
   "outputs": [
    {
     "name": "stdout",
     "output_type": "stream",
     "text": [
      "training data count 17\n",
      "testing data count 13\n",
      "validation data count 7\n",
      "train data (17, 2263)\n",
      "test data (13, 2263)\n",
      "val data (7, 2263)\n",
      "37\n"
     ]
    }
   ],
   "source": [
    "train_count=[]\n",
    "test_count=[]\n",
    "val_count=[]\n",
    "train=pd.DataFrame()\n",
    "test=pd.DataFrame()\n",
    "val=pd.DataFrame()\n",
    "#group_data=df.copy()\n",
    "for i in range(len(Counts)):\n",
    "    id1=[]\n",
    "    for j in range(len(c)):\n",
    "        if i==c[j]:\n",
    "            id1.append(df.eventId.unique()[j])\n",
    "    if len(id1)>2:\n",
    "        train_id,temp=train_test_split(id1, test_size=0.4, random_state=42)\n",
    "        val_id,test_id=train_test_split(temp, test_size=0.5, random_state=42)\n",
    "\n",
    "        train_temp = group_data.loc[group_data['eventId'].isin(train_id)]\n",
    "        test_temp = group_data.loc[group_data['eventId'].isin(test_id)]\n",
    "        val_temp = group_data.loc[group_data['eventId'].isin(val_id)]\n",
    "\n",
    "        train=train.append(train_temp,ignore_index=True)\n",
    "        test=test.append(test_temp,ignore_index=True)\n",
    "        val=val.append(val_temp,ignore_index=True)\n",
    "        \n",
    "        train_count.append(train_temp.shape[0])\n",
    "        test_count.append(test_temp.shape[0])\n",
    "        val_count.append(val_temp.shape[0])\n",
    "    elif len(id1)==2:\n",
    "        train_id,test_id=train_test_split(id1, test_size=0.4, random_state=42)\n",
    "        #val_id,test_id=train_test_split(temp, test_size=0.5, random_state=42)\n",
    "\n",
    "        train_temp = group_data.loc[group_data['eventId'].isin(train_id)]\n",
    "        test_temp = group_data.loc[group_data['eventId'].isin(test_id)]\n",
    "        #val_temp = group_data.loc[group_data['eventId'].isin(val_id)]\n",
    "\n",
    "        train=train.append(train_temp,ignore_index=True)\n",
    "        test=test.append(test_temp,ignore_index=True)\n",
    "        #val=val.append(val_temp,ignore_index=True)\n",
    "        \n",
    "        train_count.append(train_temp.shape[0])\n",
    "        test_count.append(test_temp.shape[0])\n",
    "        val_count.append(0)\n",
    "    \n",
    "    elif len(id1)==1:\n",
    "        \n",
    "        test_temp = group_data.loc[group_data['eventId'].isin(id1)]\n",
    "        \n",
    "\n",
    "        test=test.append(test_temp,ignore_index=True)\n",
    "        \n",
    "        train_count.append(0)\n",
    "        test_count.append(test_temp.shape[0])\n",
    "        val_count.append(0)\n",
    "    \n",
    "    else:\n",
    "        train_count.append(0)\n",
    "        test_count.append(0)\n",
    "        val_count.append(0)\n",
    "    \n",
    "print('training data count',sum(train_count))\n",
    "print('testing data count',sum(test_count))\n",
    "print('validation data count',sum(val_count))\n",
    "print('train data',train.shape)\n",
    "print('test data',test.shape)\n",
    "print('val data',val.shape)\n",
    "print(sum(train_count)+sum(test_count)+sum(val_count))   \n",
    "\n",
    "assert (sum(train_count)+sum(test_count)+sum(val_count))==group_data.shape[0]\n",
    "train_count = pd.DataFrame(train_count)\n",
    "train_count.to_csv('train_count.csv')\n",
    "\n",
    "test_count = pd.DataFrame(test_count)\n",
    "test_count.to_csv('test_count.csv')\n",
    "\n",
    "val_count = pd.DataFrame(val_count)\n",
    "val_count.to_csv('val_count.csv')\n",
    "\n",
    "df_train=train.drop(columns=[ 'eventId', 'sId', 'sPMT','sTimeSec', 'sTimeNsec',\n",
    "       'sSignalStart', 'sSignalEnd','fdXmaxErr','sVEM','sStatus','sXrel','sYrel','sZrel'])\n",
    "df_test=test.drop(columns=['eventId', 'sId', 'sPMT','sTimeSec', 'sTimeNsec',\n",
    "       'sSignalStart', 'sSignalEnd','fdXmaxErr','sVEM','sStatus','sXrel','sYrel','sZrel'])\n",
    "df_val=val.drop(columns=['eventId', 'sId', 'sPMT','sTimeSec', 'sTimeNsec',\n",
    "       'sSignalStart', 'sSignalEnd','fdXmaxErr','sVEM','sStatus','sXrel','sYrel','sZrel'])\n",
    "df.shape\n",
    "\n",
    "train.to_csv('train.csv')\n",
    "test.to_csv('test.csv')\n",
    "val.to_csv('val.csv')"
   ]
  },
  {
   "cell_type": "code",
   "execution_count": null,
   "metadata": {},
   "outputs": [],
   "source": [
    "print(198+188+71)"
   ]
  },
  {
   "cell_type": "code",
   "execution_count": 6,
   "metadata": {},
   "outputs": [
    {
     "data": {
      "text/plain": [
       "17"
      ]
     },
     "execution_count": 6,
     "metadata": {},
     "output_type": "execute_result"
    }
   ],
   "source": [
    "len(train_count)"
   ]
  },
  {
   "cell_type": "code",
   "execution_count": 7,
   "metadata": {},
   "outputs": [],
   "source": [
    "y_train=df_train[['sdEnergy','fdXmax']]\n",
    "#y_train=np.reshape(y_train, (-1,1))\n",
    "X_train=df_train.drop(columns=['fdXmax'])\n",
    "\n",
    "y_test=df_test[['sdEnergy','fdXmax']]\n",
    "#y_test=np.reshape(y_test, (-1,1))\n",
    "X_test=df_test.drop(columns=['fdXmax'])\n",
    "\n",
    "y_val=df_val[['sdEnergy','fdXmax']]\n",
    "#y_val=np.reshape(y_val, (-1,1))\n",
    "X_val=df_val.drop(columns=['fdXmax'])\n",
    "#X_train, X_test, y_train, y_test = train_test_split(X, y, test_size=0.2, random_state=42)"
   ]
  },
  {
   "cell_type": "code",
   "execution_count": 8,
   "metadata": {},
   "outputs": [
    {
     "data": {
      "text/html": [
       "<div>\n",
       "<style scoped>\n",
       "    .dataframe tbody tr th:only-of-type {\n",
       "        vertical-align: middle;\n",
       "    }\n",
       "\n",
       "    .dataframe tbody tr th {\n",
       "        vertical-align: top;\n",
       "    }\n",
       "\n",
       "    .dataframe thead th {\n",
       "        text-align: right;\n",
       "    }\n",
       "</style>\n",
       "<table border=\"1\" class=\"dataframe\">\n",
       "  <thead>\n",
       "    <tr style=\"text-align: right;\">\n",
       "      <th></th>\n",
       "      <th>sdEnergy</th>\n",
       "      <th>fdXmax</th>\n",
       "    </tr>\n",
       "  </thead>\n",
       "  <tbody>\n",
       "    <tr>\n",
       "      <th>0</th>\n",
       "      <td>3.600975e+18</td>\n",
       "      <td>754.255490</td>\n",
       "    </tr>\n",
       "    <tr>\n",
       "      <th>1</th>\n",
       "      <td>3.485317e+18</td>\n",
       "      <td>662.264178</td>\n",
       "    </tr>\n",
       "    <tr>\n",
       "      <th>2</th>\n",
       "      <td>3.445948e+18</td>\n",
       "      <td>755.299815</td>\n",
       "    </tr>\n",
       "    <tr>\n",
       "      <th>3</th>\n",
       "      <td>3.299685e+18</td>\n",
       "      <td>773.713341</td>\n",
       "    </tr>\n",
       "    <tr>\n",
       "      <th>4</th>\n",
       "      <td>3.795948e+18</td>\n",
       "      <td>754.462984</td>\n",
       "    </tr>\n",
       "    <tr>\n",
       "      <th>5</th>\n",
       "      <td>3.626397e+18</td>\n",
       "      <td>722.575748</td>\n",
       "    </tr>\n",
       "    <tr>\n",
       "      <th>6</th>\n",
       "      <td>3.715844e+18</td>\n",
       "      <td>716.579415</td>\n",
       "    </tr>\n",
       "    <tr>\n",
       "      <th>7</th>\n",
       "      <td>4.584027e+18</td>\n",
       "      <td>911.397012</td>\n",
       "    </tr>\n",
       "    <tr>\n",
       "      <th>8</th>\n",
       "      <td>3.991804e+18</td>\n",
       "      <td>762.738377</td>\n",
       "    </tr>\n",
       "    <tr>\n",
       "      <th>9</th>\n",
       "      <td>4.418981e+18</td>\n",
       "      <td>670.150608</td>\n",
       "    </tr>\n",
       "    <tr>\n",
       "      <th>10</th>\n",
       "      <td>6.047499e+18</td>\n",
       "      <td>760.832895</td>\n",
       "    </tr>\n",
       "    <tr>\n",
       "      <th>11</th>\n",
       "      <td>5.259650e+18</td>\n",
       "      <td>761.674899</td>\n",
       "    </tr>\n",
       "    <tr>\n",
       "      <th>12</th>\n",
       "      <td>6.704568e+18</td>\n",
       "      <td>838.688675</td>\n",
       "    </tr>\n",
       "    <tr>\n",
       "      <th>13</th>\n",
       "      <td>8.137928e+18</td>\n",
       "      <td>760.631725</td>\n",
       "    </tr>\n",
       "    <tr>\n",
       "      <th>14</th>\n",
       "      <td>1.251031e+19</td>\n",
       "      <td>628.118555</td>\n",
       "    </tr>\n",
       "    <tr>\n",
       "      <th>15</th>\n",
       "      <td>1.530359e+19</td>\n",
       "      <td>734.078506</td>\n",
       "    </tr>\n",
       "    <tr>\n",
       "      <th>16</th>\n",
       "      <td>1.542413e+19</td>\n",
       "      <td>429.869040</td>\n",
       "    </tr>\n",
       "  </tbody>\n",
       "</table>\n",
       "</div>"
      ],
      "text/plain": [
       "        sdEnergy      fdXmax\n",
       "0   3.600975e+18  754.255490\n",
       "1   3.485317e+18  662.264178\n",
       "2   3.445948e+18  755.299815\n",
       "3   3.299685e+18  773.713341\n",
       "4   3.795948e+18  754.462984\n",
       "5   3.626397e+18  722.575748\n",
       "6   3.715844e+18  716.579415\n",
       "7   4.584027e+18  911.397012\n",
       "8   3.991804e+18  762.738377\n",
       "9   4.418981e+18  670.150608\n",
       "10  6.047499e+18  760.832895\n",
       "11  5.259650e+18  761.674899\n",
       "12  6.704568e+18  838.688675\n",
       "13  8.137928e+18  760.631725\n",
       "14  1.251031e+19  628.118555\n",
       "15  1.530359e+19  734.078506\n",
       "16  1.542413e+19  429.869040"
      ]
     },
     "execution_count": 8,
     "metadata": {},
     "output_type": "execute_result"
    }
   ],
   "source": [
    "y_train"
   ]
  },
  {
   "cell_type": "code",
   "execution_count": 9,
   "metadata": {},
   "outputs": [
    {
     "data": {
      "text/html": [
       "<div>\n",
       "<style scoped>\n",
       "    .dataframe tbody tr th:only-of-type {\n",
       "        vertical-align: middle;\n",
       "    }\n",
       "\n",
       "    .dataframe tbody tr th {\n",
       "        vertical-align: top;\n",
       "    }\n",
       "\n",
       "    .dataframe thead th {\n",
       "        text-align: right;\n",
       "    }\n",
       "</style>\n",
       "<table border=\"1\" class=\"dataframe\">\n",
       "  <thead>\n",
       "    <tr style=\"text-align: right;\">\n",
       "      <th></th>\n",
       "      <th>sdEnergy</th>\n",
       "      <th>sdEnergyErr</th>\n",
       "      <th>sdZenith</th>\n",
       "      <th>sdZenithErr</th>\n",
       "      <th>sdAzimuth</th>\n",
       "      <th>sdAzimuthErr</th>\n",
       "      <th>sdXpos</th>\n",
       "      <th>sdYpos</th>\n",
       "      <th>sdZpos</th>\n",
       "      <th>sdS1000</th>\n",
       "      <th>...</th>\n",
       "      <th>2222</th>\n",
       "      <th>2223</th>\n",
       "      <th>2224</th>\n",
       "      <th>2225</th>\n",
       "      <th>2226</th>\n",
       "      <th>2227</th>\n",
       "      <th>2228</th>\n",
       "      <th>2229</th>\n",
       "      <th>2230</th>\n",
       "      <th>2231</th>\n",
       "    </tr>\n",
       "  </thead>\n",
       "  <tbody>\n",
       "    <tr>\n",
       "      <th>0</th>\n",
       "      <td>3.600975e+18</td>\n",
       "      <td>2.593796e+17</td>\n",
       "      <td>0.474284</td>\n",
       "      <td>0.007129</td>\n",
       "      <td>4.280367</td>\n",
       "      <td>0.023043</td>\n",
       "      <td>6856.651531</td>\n",
       "      <td>-14488.238926</td>\n",
       "      <td>-41.721123</td>\n",
       "      <td>20.095232</td>\n",
       "      <td>...</td>\n",
       "      <td>0.0</td>\n",
       "      <td>0.0</td>\n",
       "      <td>0.0</td>\n",
       "      <td>0.0</td>\n",
       "      <td>0.0</td>\n",
       "      <td>0.0</td>\n",
       "      <td>0.0</td>\n",
       "      <td>0.0</td>\n",
       "      <td>0.0</td>\n",
       "      <td>0.0</td>\n",
       "    </tr>\n",
       "    <tr>\n",
       "      <th>1</th>\n",
       "      <td>3.485317e+18</td>\n",
       "      <td>5.932678e+17</td>\n",
       "      <td>0.999678</td>\n",
       "      <td>0.006686</td>\n",
       "      <td>4.220127</td>\n",
       "      <td>0.008542</td>\n",
       "      <td>-4072.948623</td>\n",
       "      <td>-6538.437565</td>\n",
       "      <td>-8.128227</td>\n",
       "      <td>10.211523</td>\n",
       "      <td>...</td>\n",
       "      <td>0.0</td>\n",
       "      <td>0.0</td>\n",
       "      <td>0.0</td>\n",
       "      <td>0.0</td>\n",
       "      <td>0.0</td>\n",
       "      <td>0.0</td>\n",
       "      <td>0.0</td>\n",
       "      <td>0.0</td>\n",
       "      <td>0.0</td>\n",
       "      <td>0.0</td>\n",
       "    </tr>\n",
       "    <tr>\n",
       "      <th>2</th>\n",
       "      <td>3.445948e+18</td>\n",
       "      <td>5.166201e+17</td>\n",
       "      <td>0.582423</td>\n",
       "      <td>0.012082</td>\n",
       "      <td>5.977738</td>\n",
       "      <td>0.021586</td>\n",
       "      <td>25922.458807</td>\n",
       "      <td>5633.288666</td>\n",
       "      <td>-98.511341</td>\n",
       "      <td>18.405171</td>\n",
       "      <td>...</td>\n",
       "      <td>0.0</td>\n",
       "      <td>0.0</td>\n",
       "      <td>0.0</td>\n",
       "      <td>0.0</td>\n",
       "      <td>0.0</td>\n",
       "      <td>0.0</td>\n",
       "      <td>0.0</td>\n",
       "      <td>0.0</td>\n",
       "      <td>0.0</td>\n",
       "      <td>0.0</td>\n",
       "    </tr>\n",
       "    <tr>\n",
       "      <th>3</th>\n",
       "      <td>3.299685e+18</td>\n",
       "      <td>2.457104e+17</td>\n",
       "      <td>0.464980</td>\n",
       "      <td>0.014179</td>\n",
       "      <td>1.006157</td>\n",
       "      <td>0.019793</td>\n",
       "      <td>10992.424099</td>\n",
       "      <td>22571.574994</td>\n",
       "      <td>-77.300190</td>\n",
       "      <td>18.780606</td>\n",
       "      <td>...</td>\n",
       "      <td>0.0</td>\n",
       "      <td>0.0</td>\n",
       "      <td>0.0</td>\n",
       "      <td>0.0</td>\n",
       "      <td>0.0</td>\n",
       "      <td>0.0</td>\n",
       "      <td>0.0</td>\n",
       "      <td>0.0</td>\n",
       "      <td>0.0</td>\n",
       "      <td>0.0</td>\n",
       "    </tr>\n",
       "    <tr>\n",
       "      <th>4</th>\n",
       "      <td>3.795948e+18</td>\n",
       "      <td>3.040166e+17</td>\n",
       "      <td>0.637685</td>\n",
       "      <td>0.008842</td>\n",
       "      <td>5.019198</td>\n",
       "      <td>0.008233</td>\n",
       "      <td>-11474.741918</td>\n",
       "      <td>-21851.360587</td>\n",
       "      <td>-58.796975</td>\n",
       "      <td>19.926580</td>\n",
       "      <td>...</td>\n",
       "      <td>0.0</td>\n",
       "      <td>0.0</td>\n",
       "      <td>0.0</td>\n",
       "      <td>0.0</td>\n",
       "      <td>0.0</td>\n",
       "      <td>0.0</td>\n",
       "      <td>0.0</td>\n",
       "      <td>0.0</td>\n",
       "      <td>0.0</td>\n",
       "      <td>0.0</td>\n",
       "    </tr>\n",
       "  </tbody>\n",
       "</table>\n",
       "<p>5 rows × 2249 columns</p>\n",
       "</div>"
      ],
      "text/plain": [
       "       sdEnergy   sdEnergyErr  sdZenith  sdZenithErr  sdAzimuth  sdAzimuthErr  \\\n",
       "0  3.600975e+18  2.593796e+17  0.474284     0.007129   4.280367      0.023043   \n",
       "1  3.485317e+18  5.932678e+17  0.999678     0.006686   4.220127      0.008542   \n",
       "2  3.445948e+18  5.166201e+17  0.582423     0.012082   5.977738      0.021586   \n",
       "3  3.299685e+18  2.457104e+17  0.464980     0.014179   1.006157      0.019793   \n",
       "4  3.795948e+18  3.040166e+17  0.637685     0.008842   5.019198      0.008233   \n",
       "\n",
       "         sdXpos        sdYpos     sdZpos    sdS1000  ...  2222  2223  2224  \\\n",
       "0   6856.651531 -14488.238926 -41.721123  20.095232  ...   0.0   0.0   0.0   \n",
       "1  -4072.948623  -6538.437565  -8.128227  10.211523  ...   0.0   0.0   0.0   \n",
       "2  25922.458807   5633.288666 -98.511341  18.405171  ...   0.0   0.0   0.0   \n",
       "3  10992.424099  22571.574994 -77.300190  18.780606  ...   0.0   0.0   0.0   \n",
       "4 -11474.741918 -21851.360587 -58.796975  19.926580  ...   0.0   0.0   0.0   \n",
       "\n",
       "   2225  2226  2227  2228  2229  2230  2231  \n",
       "0   0.0   0.0   0.0   0.0   0.0   0.0   0.0  \n",
       "1   0.0   0.0   0.0   0.0   0.0   0.0   0.0  \n",
       "2   0.0   0.0   0.0   0.0   0.0   0.0   0.0  \n",
       "3   0.0   0.0   0.0   0.0   0.0   0.0   0.0  \n",
       "4   0.0   0.0   0.0   0.0   0.0   0.0   0.0  \n",
       "\n",
       "[5 rows x 2249 columns]"
      ]
     },
     "execution_count": 9,
     "metadata": {},
     "output_type": "execute_result"
    }
   ],
   "source": [
    "X_train.head()"
   ]
  },
  {
   "cell_type": "code",
   "execution_count": 10,
   "metadata": {},
   "outputs": [],
   "source": [
    "X_train1=X_train.iloc[: ,0:17].copy()\n",
    "X_train2=X_train.iloc[: ,17:].copy()\n",
    "X_test1=X_test.iloc[: ,0:17].copy()\n",
    "X_test2=X_test.iloc[: ,17:].copy()\n",
    "X_val1=X_val.iloc[: ,0:17].copy()\n",
    "X_val2=X_val.iloc[: ,17:].copy()"
   ]
  },
  {
   "cell_type": "code",
   "execution_count": 11,
   "metadata": {},
   "outputs": [
    {
     "data": {
      "text/plain": [
       "Index(['sdEnergy', 'sdEnergyErr', 'sdZenith', 'sdZenithErr', 'sdAzimuth',\n",
       "       'sdAzimuthErr', 'sdXpos', 'sdYpos', 'sdZpos', 'sdS1000',\n",
       "       ...\n",
       "       '2222', '2223', '2224', '2225', '2226', '2227', '2228', '2229', '2230',\n",
       "       '2231'],\n",
       "      dtype='object', length=2249)"
      ]
     },
     "execution_count": 11,
     "metadata": {},
     "output_type": "execute_result"
    }
   ],
   "source": [
    "X_train.columns"
   ]
  },
  {
   "cell_type": "code",
   "execution_count": 12,
   "metadata": {},
   "outputs": [],
   "source": [
    "#y_train=np.array(df_train['fdXmax'].to_list())\n",
    "#y_train=np.reshape(y_train, (-1,1))"
   ]
  },
  {
   "cell_type": "code",
   "execution_count": 13,
   "metadata": {},
   "outputs": [],
   "source": [
    "\n",
    "#X_train, X_test, y_train, y_test = train_test_split(X, y,test_size=0.1)\n"
   ]
  },
  {
   "cell_type": "code",
   "execution_count": 14,
   "metadata": {},
   "outputs": [
    {
     "data": {
      "text/plain": [
       "17"
      ]
     },
     "execution_count": 14,
     "metadata": {},
     "output_type": "execute_result"
    }
   ],
   "source": [
    "y_train.shape[0]"
   ]
  },
  {
   "cell_type": "code",
   "execution_count": 15,
   "metadata": {},
   "outputs": [],
   "source": [
    "scaler_x1 = MinMaxScaler()\n",
    "scaler_x2 = MinMaxScaler()\n",
    "scaler_y = MinMaxScaler()\n",
    "\n",
    "fit_X1=scaler_x1.fit(X_train1)\n",
    "X_train1=fit_X1.transform(X_train1)\n",
    "X_test1=fit_X1.transform(X_test1)\n",
    "X_val1=fit_X1.transform(X_val1)\n",
    "\n",
    "fit_X2=scaler_x2.fit(X_train2)\n",
    "X_train2=fit_X2.transform(X_train2)\n",
    "X_test2=fit_X2.transform(X_test2)\n",
    "X_val2=fit_X2.transform(X_val2)\n",
    "\n",
    "fit_y=scaler_y.fit(y_train)\n",
    "y_train=fit_y.transform(y_train)\n",
    "y_test=fit_y.transform(y_test)\n",
    "y_val=fit_y.transform(y_val)"
   ]
  },
  {
   "cell_type": "code",
   "execution_count": 16,
   "metadata": {},
   "outputs": [],
   "source": [
    "from keras.models import Model\n",
    "from keras.layers import Input\n",
    "from keras.layers import Embedding\n",
    "from keras.layers.merge import add\n",
    "from keras.models import Sequential\n",
    "from keras.layers import Dense\n",
    "from keras.layers import Flatten\n",
    "from keras.layers import Dropout\n",
    "from keras.layers.convolutional import Conv1D\n",
    "from keras.layers.convolutional import MaxPooling1D\n",
    "from keras.utils import to_categorical"
   ]
  },
  {
   "cell_type": "code",
   "execution_count": 17,
   "metadata": {},
   "outputs": [
    {
     "data": {
      "text/plain": [
       "(17, 17)"
      ]
     },
     "execution_count": 17,
     "metadata": {},
     "output_type": "execute_result"
    }
   ],
   "source": [
    "X_train1.shape"
   ]
  },
  {
   "cell_type": "code",
   "execution_count": 18,
   "metadata": {},
   "outputs": [],
   "source": [
    "X_train2 = np.expand_dims(X_train2,2)\n",
    "X_val2 = np.expand_dims(X_val2,2)\n",
    "X_test2 = np.expand_dims(X_test2,2)"
   ]
  },
  {
   "cell_type": "code",
   "execution_count": 19,
   "metadata": {},
   "outputs": [],
   "source": [
    "def J(E):\n",
    "\n",
    "  # J01234 equation 3.1 from arXiv:1909.09073, ICRC19 Auger fit by Valerio Verzi\n",
    "  # does not set overall normalization\n",
    "  # parameters reflect central best-fit parameters\n",
    "\n",
    "    E01 = 0.15e18 # eV\n",
    "    E12 = 6.2e18\n",
    "    E23 = 12e18\n",
    "    E34 = 50e18\n",
    "\n",
    "    gamma0 = 2.92\n",
    "    gamma1 = 3.27\n",
    "    gamma2 = 2.2\n",
    "    gamma3 = 3.2\n",
    "    gamma4 = 5.4\n",
    "\n",
    "    j = 1\n",
    "    j *= E**(-gamma0)\n",
    "    j *= (1+(E/E01)**gamma0) / (1+(E/E01)**gamma1) \n",
    "    j *= (1+(E/E12)**gamma1) / (1+(E/E12)**gamma2) \n",
    "    j *= (1+(E/E23)**gamma2) / (1+(E/E23)**gamma3) \n",
    "    j *= (1+(E/E34)**gamma3) / (1+(E/E34)**gamma4) \n",
    "    #print(j)\n",
    "    return j"
   ]
  },
  {
   "cell_type": "code",
   "execution_count": 1,
   "metadata": {},
   "outputs": [],
   "source": [
    "def ptweighted_mse(y_true, y_pred):\n",
    "    # Expected dimensions:\n",
    "    # ytrue - [Nevents, 2]\n",
    "    # ypred - [Nevents, 1]\n",
    "    print('y_true',y_true)\n",
    "\n",
    "    E = y_true[:,0] # energy\n",
    "    print('e',E)\n",
    "    y_true = y_true[:,1] # Xmax true\n",
    "    diff = y_true - y_pred\n",
    "    diff2 = tf.square(diff)\n",
    "    weight = J(1e18)/J(E)\n",
    "    print('weight',weight)\n",
    "    prod = tf.multiply(diff2, weight)\n",
    "    loss = tf.reduce_sum(prod)\n",
    "    print('loss',loss)\n",
    "\n",
    "    return loss\n"
   ]
  },
  {
   "cell_type": "code",
   "execution_count": 2,
   "metadata": {},
   "outputs": [
    {
     "ename": "NameError",
     "evalue": "name 'np' is not defined",
     "output_type": "error",
     "traceback": [
      "\u001b[0;31m---------------------------------------------------------------------------\u001b[0m",
      "\u001b[0;31mNameError\u001b[0m                                 Traceback (most recent call last)",
      "\u001b[0;32m<ipython-input-2-df8c29aad1d9>\u001b[0m in \u001b[0;36m<module>\u001b[0;34m\u001b[0m\n\u001b[1;32m      1\u001b[0m \u001b[0;32mimport\u001b[0m \u001b[0mrandom\u001b[0m\u001b[0;34m\u001b[0m\u001b[0;34m\u001b[0m\u001b[0m\n\u001b[0;32m----> 2\u001b[0;31m \u001b[0my_pred\u001b[0m\u001b[0;34m=\u001b[0m\u001b[0mnp\u001b[0m\u001b[0;34m.\u001b[0m\u001b[0mrandom\u001b[0m\u001b[0;34m.\u001b[0m\u001b[0mrand\u001b[0m\u001b[0;34m(\u001b[0m\u001b[0;36m17\u001b[0m\u001b[0;34m)\u001b[0m\u001b[0;34m\u001b[0m\u001b[0;34m\u001b[0m\u001b[0m\n\u001b[0m\u001b[1;32m      3\u001b[0m \u001b[0mptweighted_mse\u001b[0m\u001b[0;34m(\u001b[0m\u001b[0my_train\u001b[0m\u001b[0;34m,\u001b[0m \u001b[0my_pred\u001b[0m\u001b[0;34m)\u001b[0m\u001b[0;34m\u001b[0m\u001b[0;34m\u001b[0m\u001b[0m\n",
      "\u001b[0;31mNameError\u001b[0m: name 'np' is not defined"
     ]
    }
   ],
   "source": [
    "import random\n",
    "y_pred=np.random.rand(17)\n",
    "ptweighted_mse(y_train, y_pred)"
   ]
  },
  {
   "cell_type": "code",
   "execution_count": 35,
   "metadata": {},
   "outputs": [
    {
     "name": "stdout",
     "output_type": "stream",
     "text": [
      "Model: \"model_4\"\n",
      "__________________________________________________________________________________________________\n",
      "Layer (type)                    Output Shape         Param #     Connected to                     \n",
      "==================================================================================================\n",
      "input_10 (InputLayer)           (None, 2232, 1)      0                                            \n",
      "__________________________________________________________________________________________________\n",
      "conv1d_8 (Conv1D)               (None, 2230, 64)     256         input_10[0][0]                   \n",
      "__________________________________________________________________________________________________\n",
      "conv1d_9 (Conv1D)               (None, 2228, 64)     12352       conv1d_8[0][0]                   \n",
      "__________________________________________________________________________________________________\n",
      "max_pooling1d_5 (MaxPooling1D)  (None, 1114, 64)     0           conv1d_9[0][0]                   \n",
      "__________________________________________________________________________________________________\n",
      "input_9 (InputLayer)            (None, 17)           0                                            \n",
      "__________________________________________________________________________________________________\n",
      "flatten_5 (Flatten)             (None, 71296)        0           max_pooling1d_5[0][0]            \n",
      "__________________________________________________________________________________________________\n",
      "dense_15 (Dense)                (None, 128)          2304        input_9[0][0]                    \n",
      "__________________________________________________________________________________________________\n",
      "dense_16 (Dense)                (None, 128)          9126016     flatten_5[0][0]                  \n",
      "__________________________________________________________________________________________________\n",
      "add_5 (Add)                     (None, 128)          0           dense_15[0][0]                   \n",
      "                                                                 dense_16[0][0]                   \n",
      "__________________________________________________________________________________________________\n",
      "dense_17 (Dense)                (None, 128)          16512       add_5[0][0]                      \n",
      "__________________________________________________________________________________________________\n",
      "dense_18 (Dense)                (None, 1)            129         dense_17[0][0]                   \n",
      "==================================================================================================\n",
      "Total params: 9,157,569\n",
      "Trainable params: 9,157,569\n",
      "Non-trainable params: 0\n",
      "__________________________________________________________________________________________________\n"
     ]
    }
   ],
   "source": [
    "import numpy as np\n",
    "#from keras.layers import LSTM\n",
    "np.random.seed(1337)\n",
    "\n",
    "inputs1 = Input(shape=(X_train1.shape[1],))\n",
    "fe1 = Dropout(0.5)(inputs1)\n",
    "fe2 = Dense(128, activation='relu')(inputs1)\n",
    "\n",
    "#model = Sequential()\n",
    "#model.add(Dense(10, input_dim=X_train.shape[1], kernel_initializer='normal', activation='relu'))\n",
    "#model.add(Dense(300, kernel_initializer='normal', activation='relu'))\n",
    "#model.add(Dense(100, kernel_initializer='normal', activation='relu'))\n",
    "#model.add(Dense(30, kernel_initializer='normal', activation='relu'))\n",
    "\n",
    "model = Sequential()\n",
    "inputs2 = Input(shape=(X_train2.shape[1],X_train2.shape[2]))\n",
    "se1=Conv1D(filters=64, kernel_size=3, activation='relu')(inputs2)\n",
    "se2=Conv1D(filters=64, kernel_size=3, activation='relu')(se1)\n",
    "se3 = Dropout(0.5)(se2)\n",
    "se4 = MaxPooling1D(pool_size=2)(se2)\n",
    "se5 = Flatten()(se4)\n",
    "se6 = Dense(128, activation='relu')(se5)\n",
    "\n",
    "\n",
    "decoder1 = add([fe2, se6])\n",
    "decoder2 = Dense(128, activation='relu')(decoder1)\n",
    "outputs = Dense(1, activation='softmax')(decoder2)\n",
    "# merge the two input models\n",
    "model = Model(inputs=[inputs1, inputs2], outputs=outputs)\n",
    "\n",
    "\n",
    "#model = Sequential()\n",
    "#model.add(LSTM(50, input_shape=(X_train.shape[1], X_train.shape[2])))\n",
    "#model.add(Dropout(0.2))\n",
    "#model.add(Dense(1))\n",
    "\n",
    "\n",
    "model.summary()"
   ]
  },
  {
   "cell_type": "code",
   "execution_count": 36,
   "metadata": {},
   "outputs": [],
   "source": []
  },
  {
   "cell_type": "code",
   "execution_count": 43,
   "metadata": {},
   "outputs": [
    {
     "name": "stdout",
     "output_type": "stream",
     "text": [
      "y_true Tensor(\"dense_18_target_2:0\", shape=(None, None), dtype=float32)\n",
      "e Tensor(\"metrics_3/ptweighted_mse/strided_slice:0\", shape=(None,), dtype=float32)\n",
      "Tensor(\"metrics_3/ptweighted_mse/truediv_12:0\", shape=(None,), dtype=float32)\n",
      "y_true Tensor(\"dense_18_target_2:0\", shape=(None, None), dtype=float32)\n",
      "e Tensor(\"loss_3/dense_18_loss/ptweighted_mse/strided_slice:0\", shape=(None,), dtype=float32)\n",
      "Tensor(\"loss_3/dense_18_loss/ptweighted_mse/truediv_12:0\", shape=(None,), dtype=float32)\n"
     ]
    }
   ],
   "source": [
    "model.compile(loss=ptweighted_mse, optimizer='adam', metrics=[ptweighted_mse,'mae'])"
   ]
  },
  {
   "cell_type": "code",
   "execution_count": 44,
   "metadata": {},
   "outputs": [
    {
     "data": {
      "text/plain": [
       "(17, 2)"
      ]
     },
     "execution_count": 44,
     "metadata": {},
     "output_type": "execute_result"
    }
   ],
   "source": [
    "y_train.shape"
   ]
  },
  {
   "cell_type": "code",
   "execution_count": 45,
   "metadata": {},
   "outputs": [
    {
     "name": "stdout",
     "output_type": "stream",
     "text": [
      "Train on 17 samples, validate on 7 samples\n",
      "Epoch 1/2\n",
      " - 6s - loss: 0.0000e+00 - ptweighted_mse: 0.0000e+00 - mae: 0.5648 - val_loss: nan - val_ptweighted_mse: nan - val_mae: 0.5647\n",
      "Epoch 2/2\n",
      " - 2s - loss: 0.0000e+00 - ptweighted_mse: 0.0000e+00 - mae: 0.5648 - val_loss: nan - val_ptweighted_mse: nan - val_mae: 0.5647\n"
     ]
    }
   ],
   "source": [
    "history=model.fit([X_train1, X_train2], y_train, epochs=2, verbose=2,  batch_size=8,validation_data=([X_val1, X_val2], y_val),shuffle=True)"
   ]
  },
  {
   "cell_type": "code",
   "execution_count": 27,
   "metadata": {},
   "outputs": [
    {
     "name": "stdout",
     "output_type": "stream",
     "text": [
      "dict_keys(['val_loss', 'val_ptweighted_mse', 'val_mae', 'loss', 'ptweighted_mse', 'mae'])\n"
     ]
    },
    {
     "data": {
      "image/png": "[encoded data removed]",
      "text/plain": [
       "<Figure size 432x288 with 1 Axes>"
      ]
     },
     "metadata": {
      "needs_background": "light"
     },
     "output_type": "display_data"
    }
   ],
   "source": [
    "print(history.history.keys())\n",
    "# \"Loss\"\n",
    "plt.plot(history.history['loss'])\n",
    "plt.plot(history.history['val_loss'])\n",
    "plt.title('model loss')\n",
    "plt.ylabel('loss')\n",
    "plt.xlabel('epoch')\n",
    "plt.legend(['train', 'validation'], loc='upper left')\n",
    "plt.savefig(\"model_loss.png\")\n",
    "plt.show()"
   ]
  },
  {
   "cell_type": "code",
   "execution_count": 28,
   "metadata": {},
   "outputs": [],
   "source": [
    "y_pred= model.predict([X_test1, X_test2])"
   ]
  },
  {
   "cell_type": "code",
   "execution_count": 29,
   "metadata": {},
   "outputs": [
    {
     "data": {
      "text/plain": [
       "(13, 1)"
      ]
     },
     "execution_count": 29,
     "metadata": {},
     "output_type": "execute_result"
    }
   ],
   "source": [
    "y_pred.shape"
   ]
  },
  {
   "cell_type": "code",
   "execution_count": 30,
   "metadata": {},
   "outputs": [
    {
     "name": "stdout",
     "output_type": "stream",
     "text": [
      "y_true [[-1.44549358e-02  5.09726365e-01]\n",
      " [ 5.48310229e-02  6.53494905e-01]\n",
      " [-4.11370228e-05  1.02559092e+00]\n",
      " [ 4.76289642e-02  8.21667051e-01]\n",
      " [ 1.22476281e-01  6.43749545e-01]\n",
      " [ 1.11271528e-01  8.10572358e-01]\n",
      " [ 2.40630931e-01  5.57065090e-01]\n",
      " [ 2.93040115e-01  7.15002467e-01]\n",
      " [ 5.22938059e-01  5.44536489e-01]\n",
      " [ 5.70624758e-01  6.55593477e-01]\n",
      " [ 9.88062717e-01  6.09853799e-01]\n",
      " [ 1.78176026e+00  6.61408877e-01]\n",
      " [ 3.86555787e+00  4.92823513e-02]]\n",
      "e [-1.44549358e-02  5.48310229e-02 -4.11370228e-05  4.76289642e-02\n",
      "  1.22476281e-01  1.11271528e-01  2.40630931e-01  2.93040115e-01\n",
      "  5.22938059e-01  5.70624758e-01  9.88062717e-01  1.78176026e+00\n",
      "  3.86555787e+00]\n",
      "[           nan 2.92033099e-57            nan 1.93579276e-57\n",
      " 3.05201700e-56 2.30630411e-56 2.19291289e-55 3.89854185e-55\n",
      " 2.11519238e-54 2.72909670e-54 1.35595700e-53 7.58498992e-53\n",
      " 7.28005576e-52]\n",
      "normal mse nan\n"
     ]
    },
    {
     "name": "stderr",
     "output_type": "stream",
     "text": [
      "/anaconda3/lib/python3.7/site-packages/ipykernel_launcher.py:19: RuntimeWarning: invalid value encountered in power\n",
      "/anaconda3/lib/python3.7/site-packages/ipykernel_launcher.py:20: RuntimeWarning: invalid value encountered in power\n",
      "/anaconda3/lib/python3.7/site-packages/ipykernel_launcher.py:21: RuntimeWarning: invalid value encountered in power\n",
      "/anaconda3/lib/python3.7/site-packages/ipykernel_launcher.py:22: RuntimeWarning: invalid value encountered in power\n",
      "/anaconda3/lib/python3.7/site-packages/ipykernel_launcher.py:23: RuntimeWarning: invalid value encountered in power\n"
     ]
    }
   ],
   "source": [
    "from sklearn.metrics import mean_squared_error\n",
    "from math import sqrt\n",
    "print('normal mse',sqrt(ptweighted_mse(y_test, y_pred)))\n",
    "#print('normal mae',mean_absolute_error(y_test, y_pred))"
   ]
  },
  {
   "cell_type": "code",
   "execution_count": null,
   "metadata": {},
   "outputs": [],
   "source": []
  },
  {
   "cell_type": "code",
   "execution_count": 78,
   "metadata": {},
   "outputs": [
    {
     "ename": "ValueError",
     "evalue": "non-broadcastable output operand with shape (13,1) doesn't match the broadcast shape (13,2)",
     "output_type": "error",
     "traceback": [
      "\u001b[0;31m---------------------------------------------------------------------------\u001b[0m",
      "\u001b[0;31mValueError\u001b[0m                                Traceback (most recent call last)",
      "\u001b[0;32m<ipython-input-78-98329a8ae79b>\u001b[0m in \u001b[0;36m<module>\u001b[0;34m\u001b[0m\n\u001b[1;32m      3\u001b[0m \u001b[0;31m#y_pred=np.reshape(y_pred, (y_test.shape[0],1))\u001b[0m\u001b[0;34m\u001b[0m\u001b[0;34m\u001b[0m\u001b[0;34m\u001b[0m\u001b[0m\n\u001b[1;32m      4\u001b[0m \u001b[0my_test_normalized\u001b[0m\u001b[0;34m=\u001b[0m\u001b[0mscaler_y\u001b[0m\u001b[0;34m.\u001b[0m\u001b[0minverse_transform\u001b[0m\u001b[0;34m(\u001b[0m\u001b[0my_test\u001b[0m\u001b[0;34m)\u001b[0m\u001b[0;34m\u001b[0m\u001b[0;34m\u001b[0m\u001b[0m\n\u001b[0;32m----> 5\u001b[0;31m \u001b[0my_pred_normalized\u001b[0m\u001b[0;34m=\u001b[0m\u001b[0mscaler_y\u001b[0m\u001b[0;34m.\u001b[0m\u001b[0minverse_transform\u001b[0m\u001b[0;34m(\u001b[0m\u001b[0my_pred\u001b[0m\u001b[0;34m)\u001b[0m\u001b[0;34m\u001b[0m\u001b[0;34m\u001b[0m\u001b[0m\n\u001b[0m\u001b[1;32m      6\u001b[0m \u001b[0;31m#y_test=np.reshape(y_test, (y_test.shape[0],))\u001b[0m\u001b[0;34m\u001b[0m\u001b[0;34m\u001b[0m\u001b[0;34m\u001b[0m\u001b[0m\n\u001b[1;32m      7\u001b[0m \u001b[0;31m#y_pred=np.reshape(y_pred, (y_test.shape[0],))\u001b[0m\u001b[0;34m\u001b[0m\u001b[0;34m\u001b[0m\u001b[0;34m\u001b[0m\u001b[0m\n",
      "\u001b[0;32m/anaconda3/lib/python3.7/site-packages/sklearn/preprocessing/_data.py\u001b[0m in \u001b[0;36minverse_transform\u001b[0;34m(self, X)\u001b[0m\n\u001b[1;32m    430\u001b[0m                         force_all_finite=\"allow-nan\")\n\u001b[1;32m    431\u001b[0m \u001b[0;34m\u001b[0m\u001b[0m\n\u001b[0;32m--> 432\u001b[0;31m         \u001b[0mX\u001b[0m \u001b[0;34m-=\u001b[0m \u001b[0mself\u001b[0m\u001b[0;34m.\u001b[0m\u001b[0mmin_\u001b[0m\u001b[0;34m\u001b[0m\u001b[0;34m\u001b[0m\u001b[0m\n\u001b[0m\u001b[1;32m    433\u001b[0m         \u001b[0mX\u001b[0m \u001b[0;34m/=\u001b[0m \u001b[0mself\u001b[0m\u001b[0;34m.\u001b[0m\u001b[0mscale_\u001b[0m\u001b[0;34m\u001b[0m\u001b[0;34m\u001b[0m\u001b[0m\n\u001b[1;32m    434\u001b[0m         \u001b[0;32mreturn\u001b[0m \u001b[0mX\u001b[0m\u001b[0;34m\u001b[0m\u001b[0;34m\u001b[0m\u001b[0m\n",
      "\u001b[0;31mValueError\u001b[0m: non-broadcastable output operand with shape (13,1) doesn't match the broadcast shape (13,2)"
     ]
    }
   ],
   "source": [
    "y_test.shape\n",
    "y_test=np.reshape(y_test, (y_test.shape[0],1))\n",
    "y_pred=np.reshape(y_pred, (y_test.shape[0],1))\n",
    "y_test_normalized=scaler_y.inverse_transform(y_test)\n",
    "y_pred_normalized=scaler_y.inverse_transform(y_pred)\n",
    "y_test=np.reshape(y_test, (y_test.shape[0],))\n",
    "y_pred=np.reshape(y_pred, (y_test.shape[0],))\n",
    "y_test_normalized=np.reshape(y_test_normalized, (y_test.shape[0],))\n",
    "y_pred_normalized=np.reshape(y_pred_normalized, (y_test.shape[0],))"
   ]
  },
  {
   "cell_type": "code",
   "execution_count": 44,
   "metadata": {},
   "outputs": [
    {
     "name": "stdout",
     "output_type": "stream",
     "text": [
      "mse 203.85316759718071\n"
     ]
    }
   ],
   "source": [
    "print('mse',sqrt(mean_squared_error(y_test_normalized, y_pred_normalized)))"
   ]
  },
  {
   "cell_type": "code",
   "execution_count": 45,
   "metadata": {},
   "outputs": [
    {
     "name": "stdout",
     "output_type": "stream",
     "text": [
      "mae 177.55931516780058\n"
     ]
    }
   ],
   "source": [
    "print('mae',mean_absolute_error(y_test_normalized, y_pred_normalized))"
   ]
  },
  {
   "cell_type": "code",
   "execution_count": 46,
   "metadata": {},
   "outputs": [],
   "source": [
    "df_result=pd.DataFrame()\n",
    "\n",
    "df_result['Normalized True Value']=y_test\n",
    "df_result['Normalized Predicted Value']=y_pred\n",
    "df_result['True Value']=y_test_normalized\n",
    "df_result['Predicted Value']=y_pred_normalized\n",
    "\n",
    "df_result.to_csv('results.csv')"
   ]
  },
  {
   "cell_type": "code",
   "execution_count": 47,
   "metadata": {},
   "outputs": [
    {
     "data": {
      "image/png": "[encoded data removed]",
      "text/plain": [
       "<Figure size 1152x720 with 1 Axes>"
      ]
     },
     "metadata": {
      "needs_background": "light"
     },
     "output_type": "display_data"
    }
   ],
   "source": [
    "df1 = df_result[['True Value','Predicted Value']]\n",
    "df1.plot(kind='bar',figsize=(16,10))\n",
    "plt.grid(which='major', linestyle='-', linewidth='0.5', color='green')\n",
    "plt.grid(which='minor', linestyle=':', linewidth='0.5', color='black')\n",
    "plt.show()"
   ]
  },
  {
   "cell_type": "code",
   "execution_count": 38,
   "metadata": {},
   "outputs": [],
   "source": [
    "test.to_csv('test.csv')"
   ]
  },
  {
   "cell_type": "code",
   "execution_count": 54,
   "metadata": {},
   "outputs": [
    {
     "data": {
      "image/png": "[encoded data removed]",
      "text/plain": [
       "<Figure size 432x288 with 1 Axes>"
      ]
     },
     "metadata": {
      "needs_background": "light"
     },
     "output_type": "display_data"
    }
   ],
   "source": [
    "_, ax = plt.subplots()\n",
    "x = [ 400, 500, 600, 700,800,900]\n",
    "y = [400, 500, 600, 700,800,900]\n",
    "ax.scatter(x = df_result['True Value'], y=df_result['Predicted Value'], c = 'blue', label = 'Actual', alpha = 0.3)\n",
    "#ax.scatter(x = range(0, y_pred.size), y=y_pred, c = 'red', label = 'Predicted', alpha = 0.3)\n",
    "plt.plot(x,y)\n",
    "plt.title('Actual and predicted values')\n",
    "plt.xlabel('True')\n",
    "plt.ylabel('Predicted')\n",
    "plt.legend()\n",
    "plt.savefig(\"actual_vs_predicted.png\")\n",
    "plt.show()\n"
   ]
  },
  {
   "cell_type": "code",
   "execution_count": 40,
   "metadata": {},
   "outputs": [
    {
     "data": {
      "image/png": "[encoded data removed]",
      "text/plain": [
       "<Figure size 432x288 with 1 Axes>"
      ]
     },
     "metadata": {
      "needs_background": "light"
     },
     "output_type": "display_data"
    }
   ],
   "source": [
    "diff = df_result['True Value'] - df_result['Predicted Value']\n",
    "diff.hist(bins = 40)\n",
    "plt.title('Histogram of prediction errors')\n",
    "plt.xlabel('MPG prediction error')\n",
    "plt.ylabel('Frequency')\n",
    "plt.savefig('prediction_histogram.png')"
   ]
  },
  {
   "cell_type": "code",
   "execution_count": 55,
   "metadata": {},
   "outputs": [
    {
     "data": {
      "image/png": "[encoded data removed]",
      "text/plain": [
       "<Figure size 432x288 with 1 Axes>"
      ]
     },
     "metadata": {
      "needs_background": "light"
     },
     "output_type": "display_data"
    }
   ],
   "source": [
    "_, ax = plt.subplots()\n",
    "\n",
    "ax.scatter(x = range(0, y_test.size), y=y_test, c = 'blue', label = 'Actual', alpha = 0.3)\n",
    "ax.scatter(x = range(0, y_pred.size), y=y_pred, c = 'red', label = 'Predicted', alpha = 0.3)\n",
    "\n",
    "plt.title('Actual and predicted values')\n",
    "plt.xlabel('Observations')\n",
    "plt.ylabel('xmax')\n",
    "plt.legend()\n",
    "plt.savefig(\"xmax_vs_observation.png\")\n",
    "plt.show()\n"
   ]
  },
  {
   "cell_type": "code",
   "execution_count": null,
   "metadata": {},
   "outputs": [],
   "source": [
    "# partial caption sequence model\n",
    "inputs2 = Input(shape=(X_train2.shape[1],))\n",
    "se1 = Embedding(X_train2.shape[0], 256, mask_zero=True)(inputs2)\n",
    "se2 = Dropout(0.5)(se1)\n",
    "se3 = LSTM(256)(se2)\n",
    "\n",
    "# decoder (feed forward) model\n",
    "decoder1 = add([fe2, se3])\n",
    "decoder2 = Dense(256, activation='relu')(decoder1)"
   ]
  }
 ],
 "metadata": {
  "kernelspec": {
   "display_name": "Python 3",
   "language": "python",
   "name": "python3"
  },
  "language_info": {
   "codemirror_mode": {
    "name": "ipython",
    "version": 3
   },
   "file_extension": ".py",
   "mimetype": "text/x-python",
   "name": "python",
   "nbconvert_exporter": "python",
   "pygments_lexer": "ipython3",
   "version": "3.7.7"
  }
 },
 "nbformat": 4,
 "nbformat_minor": 4
}
